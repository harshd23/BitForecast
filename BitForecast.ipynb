{
 "cells": [
  {
   "attachments": {},
   "cell_type": "markdown",
   "metadata": {},
   "source": [
    "# BitForecast 💰📈"
   ]
  },
  {
   "attachments": {},
   "cell_type": "markdown",
   "metadata": {},
   "source": [
    "## Getting data\n",
    "\n",
    "Using the historical price data of Bitcoin to try and predict the future price of Bitcoin, we downloaded the data from here: https://www.coindesk.com/price/bitcoin"
   ]
  },
  {
   "attachments": {},
   "cell_type": "markdown",
   "metadata": {},
   "source": [
    "## Importing time series with pandas"
   ]
  },
  {
   "cell_type": "code",
   "execution_count": 1,
   "metadata": {},
   "outputs": [
    {
     "data": {
      "text/html": [
       "<div>\n",
       "<style scoped>\n",
       "    .dataframe tbody tr th:only-of-type {\n",
       "        vertical-align: middle;\n",
       "    }\n",
       "\n",
       "    .dataframe tbody tr th {\n",
       "        vertical-align: top;\n",
       "    }\n",
       "\n",
       "    .dataframe thead th {\n",
       "        text-align: right;\n",
       "    }\n",
       "</style>\n",
       "<table border=\"1\" class=\"dataframe\">\n",
       "  <thead>\n",
       "    <tr style=\"text-align: right;\">\n",
       "      <th></th>\n",
       "      <th>Currency</th>\n",
       "      <th>Closing Price (USD)</th>\n",
       "      <th>24h Open (USD)</th>\n",
       "      <th>24h High (USD)</th>\n",
       "      <th>24h Low (USD)</th>\n",
       "    </tr>\n",
       "    <tr>\n",
       "      <th>Date</th>\n",
       "      <th></th>\n",
       "      <th></th>\n",
       "      <th></th>\n",
       "      <th></th>\n",
       "      <th></th>\n",
       "    </tr>\n",
       "  </thead>\n",
       "  <tbody>\n",
       "    <tr>\n",
       "      <th>2013-10-01</th>\n",
       "      <td>BTC</td>\n",
       "      <td>123.65499</td>\n",
       "      <td>124.30466</td>\n",
       "      <td>124.75166</td>\n",
       "      <td>122.56349</td>\n",
       "    </tr>\n",
       "    <tr>\n",
       "      <th>2013-10-02</th>\n",
       "      <td>BTC</td>\n",
       "      <td>125.45500</td>\n",
       "      <td>123.65499</td>\n",
       "      <td>125.75850</td>\n",
       "      <td>123.63383</td>\n",
       "    </tr>\n",
       "    <tr>\n",
       "      <th>2013-10-03</th>\n",
       "      <td>BTC</td>\n",
       "      <td>108.58483</td>\n",
       "      <td>125.45500</td>\n",
       "      <td>125.66566</td>\n",
       "      <td>83.32833</td>\n",
       "    </tr>\n",
       "    <tr>\n",
       "      <th>2013-10-04</th>\n",
       "      <td>BTC</td>\n",
       "      <td>118.67466</td>\n",
       "      <td>108.58483</td>\n",
       "      <td>118.67500</td>\n",
       "      <td>107.05816</td>\n",
       "    </tr>\n",
       "    <tr>\n",
       "      <th>2013-10-05</th>\n",
       "      <td>BTC</td>\n",
       "      <td>121.33866</td>\n",
       "      <td>118.67466</td>\n",
       "      <td>121.93633</td>\n",
       "      <td>118.00566</td>\n",
       "    </tr>\n",
       "  </tbody>\n",
       "</table>\n",
       "</div>"
      ],
      "text/plain": [
       "           Currency  Closing Price (USD)  24h Open (USD)  24h High (USD)  \\\n",
       "Date                                                                       \n",
       "2013-10-01      BTC            123.65499       124.30466       124.75166   \n",
       "2013-10-02      BTC            125.45500       123.65499       125.75850   \n",
       "2013-10-03      BTC            108.58483       125.45500       125.66566   \n",
       "2013-10-04      BTC            118.67466       108.58483       118.67500   \n",
       "2013-10-05      BTC            121.33866       118.67466       121.93633   \n",
       "\n",
       "            24h Low (USD)  \n",
       "Date                       \n",
       "2013-10-01      122.56349  \n",
       "2013-10-02      123.63383  \n",
       "2013-10-03       83.32833  \n",
       "2013-10-04      107.05816  \n",
       "2013-10-05      118.00566  "
      ]
     },
     "execution_count": 1,
     "metadata": {},
     "output_type": "execute_result"
    }
   ],
   "source": [
    "# Import with pandas\n",
    "import pandas as pd \n",
    "# Read Bitcoin data and parse the dates\n",
    "df = pd.read_csv(\"BTC_USD_CoinDesk.csv\",\n",
    "                 parse_dates=[\"Date\"],\n",
    "                 index_col=[\"Date\"]) # parse the date column and tell pandas column 1 is a datetime \n",
    "\n",
    "df.head()"
   ]
  },
  {
   "cell_type": "code",
   "execution_count": 2,
   "metadata": {},
   "outputs": [
    {
     "data": {
      "text/html": [
       "<div>\n",
       "<style scoped>\n",
       "    .dataframe tbody tr th:only-of-type {\n",
       "        vertical-align: middle;\n",
       "    }\n",
       "\n",
       "    .dataframe tbody tr th {\n",
       "        vertical-align: top;\n",
       "    }\n",
       "\n",
       "    .dataframe thead th {\n",
       "        text-align: right;\n",
       "    }\n",
       "</style>\n",
       "<table border=\"1\" class=\"dataframe\">\n",
       "  <thead>\n",
       "    <tr style=\"text-align: right;\">\n",
       "      <th></th>\n",
       "      <th>Currency</th>\n",
       "      <th>Closing Price (USD)</th>\n",
       "      <th>24h Open (USD)</th>\n",
       "      <th>24h High (USD)</th>\n",
       "      <th>24h Low (USD)</th>\n",
       "    </tr>\n",
       "    <tr>\n",
       "      <th>Date</th>\n",
       "      <th></th>\n",
       "      <th></th>\n",
       "      <th></th>\n",
       "      <th></th>\n",
       "      <th></th>\n",
       "    </tr>\n",
       "  </thead>\n",
       "  <tbody>\n",
       "    <tr>\n",
       "      <th>2021-05-14</th>\n",
       "      <td>BTC</td>\n",
       "      <td>49764.132082</td>\n",
       "      <td>49596.778891</td>\n",
       "      <td>51448.798576</td>\n",
       "      <td>46294.720180</td>\n",
       "    </tr>\n",
       "    <tr>\n",
       "      <th>2021-05-15</th>\n",
       "      <td>BTC</td>\n",
       "      <td>50032.693137</td>\n",
       "      <td>49717.354353</td>\n",
       "      <td>51578.312545</td>\n",
       "      <td>48944.346536</td>\n",
       "    </tr>\n",
       "    <tr>\n",
       "      <th>2021-05-16</th>\n",
       "      <td>BTC</td>\n",
       "      <td>47885.625255</td>\n",
       "      <td>49926.035067</td>\n",
       "      <td>50690.802950</td>\n",
       "      <td>47005.102292</td>\n",
       "    </tr>\n",
       "    <tr>\n",
       "      <th>2021-05-17</th>\n",
       "      <td>BTC</td>\n",
       "      <td>45604.615754</td>\n",
       "      <td>46805.537852</td>\n",
       "      <td>49670.414174</td>\n",
       "      <td>43868.638969</td>\n",
       "    </tr>\n",
       "    <tr>\n",
       "      <th>2021-05-18</th>\n",
       "      <td>BTC</td>\n",
       "      <td>43144.471291</td>\n",
       "      <td>46439.336570</td>\n",
       "      <td>46622.853437</td>\n",
       "      <td>42102.346430</td>\n",
       "    </tr>\n",
       "  </tbody>\n",
       "</table>\n",
       "</div>"
      ],
      "text/plain": [
       "           Currency  Closing Price (USD)  24h Open (USD)  24h High (USD)  \\\n",
       "Date                                                                       \n",
       "2021-05-14      BTC         49764.132082    49596.778891    51448.798576   \n",
       "2021-05-15      BTC         50032.693137    49717.354353    51578.312545   \n",
       "2021-05-16      BTC         47885.625255    49926.035067    50690.802950   \n",
       "2021-05-17      BTC         45604.615754    46805.537852    49670.414174   \n",
       "2021-05-18      BTC         43144.471291    46439.336570    46622.853437   \n",
       "\n",
       "            24h Low (USD)  \n",
       "Date                       \n",
       "2021-05-14   46294.720180  \n",
       "2021-05-15   48944.346536  \n",
       "2021-05-16   47005.102292  \n",
       "2021-05-17   43868.638969  \n",
       "2021-05-18   42102.346430  "
      ]
     },
     "execution_count": 2,
     "metadata": {},
     "output_type": "execute_result"
    }
   ],
   "source": [
    "df.tail()"
   ]
  },
  {
   "cell_type": "code",
   "execution_count": 3,
   "metadata": {},
   "outputs": [
    {
     "name": "stdout",
     "output_type": "stream",
     "text": [
      "<class 'pandas.core.frame.DataFrame'>\n",
      "DatetimeIndex: 2787 entries, 2013-10-01 to 2021-05-18\n",
      "Data columns (total 5 columns):\n",
      " #   Column               Non-Null Count  Dtype  \n",
      "---  ------               --------------  -----  \n",
      " 0   Currency             2787 non-null   object \n",
      " 1   Closing Price (USD)  2787 non-null   float64\n",
      " 2   24h Open (USD)       2787 non-null   float64\n",
      " 3   24h High (USD)       2787 non-null   float64\n",
      " 4   24h Low (USD)        2787 non-null   float64\n",
      "dtypes: float64(4), object(1)\n",
      "memory usage: 130.6+ KB\n"
     ]
    }
   ],
   "source": [
    "df.info()"
   ]
  },
  {
   "cell_type": "code",
   "execution_count": 4,
   "metadata": {},
   "outputs": [
    {
     "data": {
      "text/plain": [
       "2787"
      ]
     },
     "execution_count": 4,
     "metadata": {},
     "output_type": "execute_result"
    }
   ],
   "source": [
    "# How many samples do we have?\n",
    "len(df)"
   ]
  },
  {
   "attachments": {},
   "cell_type": "markdown",
   "metadata": {},
   "source": [
    "Typically deep learning models usually performs better on lots of samples.\n",
    "\n",
    "A smaller number of samples is something you'll often run into with time series data problems.\n",
    "\n",
    "> **NOTE:** The **seasonality** of a time series dataset is referred as the number of samples per year. So for our Bitcoin data, it has a seaonality of daily or value of 365 because we collect one sample per day meaning we'll get 365 samples per year."
   ]
  },
  {
   "cell_type": "code",
   "execution_count": 5,
   "metadata": {},
   "outputs": [
    {
     "data": {
      "text/html": [
       "<div>\n",
       "<style scoped>\n",
       "    .dataframe tbody tr th:only-of-type {\n",
       "        vertical-align: middle;\n",
       "    }\n",
       "\n",
       "    .dataframe tbody tr th {\n",
       "        vertical-align: top;\n",
       "    }\n",
       "\n",
       "    .dataframe thead th {\n",
       "        text-align: right;\n",
       "    }\n",
       "</style>\n",
       "<table border=\"1\" class=\"dataframe\">\n",
       "  <thead>\n",
       "    <tr style=\"text-align: right;\">\n",
       "      <th></th>\n",
       "      <th>Price</th>\n",
       "    </tr>\n",
       "    <tr>\n",
       "      <th>Date</th>\n",
       "      <th></th>\n",
       "    </tr>\n",
       "  </thead>\n",
       "  <tbody>\n",
       "    <tr>\n",
       "      <th>2013-10-01</th>\n",
       "      <td>123.65499</td>\n",
       "    </tr>\n",
       "    <tr>\n",
       "      <th>2013-10-02</th>\n",
       "      <td>125.45500</td>\n",
       "    </tr>\n",
       "    <tr>\n",
       "      <th>2013-10-03</th>\n",
       "      <td>108.58483</td>\n",
       "    </tr>\n",
       "    <tr>\n",
       "      <th>2013-10-04</th>\n",
       "      <td>118.67466</td>\n",
       "    </tr>\n",
       "    <tr>\n",
       "      <th>2013-10-05</th>\n",
       "      <td>121.33866</td>\n",
       "    </tr>\n",
       "  </tbody>\n",
       "</table>\n",
       "</div>"
      ],
      "text/plain": [
       "                Price\n",
       "Date                 \n",
       "2013-10-01  123.65499\n",
       "2013-10-02  125.45500\n",
       "2013-10-03  108.58483\n",
       "2013-10-04  118.67466\n",
       "2013-10-05  121.33866"
      ]
     },
     "execution_count": 5,
     "metadata": {},
     "output_type": "execute_result"
    }
   ],
   "source": [
    "# Only want closing price for each day\n",
    "bitcoin_prices = pd.DataFrame(df[\"Closing Price (USD)\"]).rename(columns={\"Closing Price (USD)\": \"Price\"})\n",
    "bitcoin_prices.head()"
   ]
  },
  {
   "cell_type": "code",
   "execution_count": 6,
   "metadata": {},
   "outputs": [
    {
     "data": {
      "image/png": "[encoded data removed]",
      "text/plain": [
       "<Figure size 800x600 with 1 Axes>"
      ]
     },
     "metadata": {},
     "output_type": "display_data"
    }
   ],
   "source": [
    "import matplotlib.pyplot as plt\n",
    "bitcoin_prices.plot(figsize=(8, 6))\n",
    "plt.ylabel(\"BTC Price\")\n",
    "plt.title(\"Price of Bitcoin from 1 Oct 2013 to 18 May 2021\", fontsize=16)\n",
    "plt.legend(fontsize=14);"
   ]
  },
  {
   "attachments": {},
   "cell_type": "markdown",
   "metadata": {},
   "source": [
    "## Importing time series data with Python's CSV module"
   ]
  },
  {
   "cell_type": "code",
   "execution_count": 7,
   "metadata": {},
   "outputs": [
    {
     "data": {
      "text/plain": [
       "([datetime.datetime(2013, 10, 1, 0, 0),\n",
       "  datetime.datetime(2013, 10, 2, 0, 0),\n",
       "  datetime.datetime(2013, 10, 3, 0, 0),\n",
       "  datetime.datetime(2013, 10, 4, 0, 0),\n",
       "  datetime.datetime(2013, 10, 5, 0, 0),\n",
       "  datetime.datetime(2013, 10, 6, 0, 0),\n",
       "  datetime.datetime(2013, 10, 7, 0, 0),\n",
       "  datetime.datetime(2013, 10, 8, 0, 0),\n",
       "  datetime.datetime(2013, 10, 9, 0, 0),\n",
       "  datetime.datetime(2013, 10, 10, 0, 0)],\n",
       " [123.65499,\n",
       "  125.455,\n",
       "  108.58483,\n",
       "  118.67466,\n",
       "  121.33866,\n",
       "  120.65533,\n",
       "  121.795,\n",
       "  123.033,\n",
       "  124.049,\n",
       "  125.96116])"
      ]
     },
     "execution_count": 7,
     "metadata": {},
     "output_type": "execute_result"
    }
   ],
   "source": [
    "# Importing and formatting historical Bitcoin data with Python\n",
    "import csv\n",
    "from datetime import datetime\n",
    "\n",
    "timesteps = []\n",
    "btc_price = []\n",
    "with open(\"BTC_USD_CoinDesk.csv\", \"r\") as f:\n",
    "  csv_reader = csv.reader(f, delimiter=\",\")\n",
    "  next(csv_reader) # skip first line (this skips all of the column titles)\n",
    "  for line in csv_reader:\n",
    "    timesteps.append(datetime.strptime(line[1], \"%Y-%m-%d\")) # get the dates as dates (not strings)\n",
    "    btc_price.append(float(line[2])) # get the closing price as float\n",
    "\n",
    "# View first 10 of each\n",
    "timesteps[:10], btc_price[:10]"
   ]
  },
  {
   "cell_type": "code",
   "execution_count": 8,
   "metadata": {},
   "outputs": [
    {
     "data": {
      "image/png": "[encoded data removed]",
      "text/plain": [
       "<Figure size 1000x700 with 1 Axes>"
      ]
     },
     "metadata": {},
     "output_type": "display_data"
    }
   ],
   "source": [
    "# Plot from CSV\n",
    "import matplotlib.pyplot as plt\n",
    "# import numpy as np\n",
    "plt.figure(figsize=(10,7))\n",
    "plt.plot(timesteps, btc_price)\n",
    "plt.ylabel(\"BTC Price\")\n",
    "plt.title(\"Price of Bitcoin from 1 Oct 2013 to 18 May 2021\", fontsize=16)\n",
    "plt.xlabel(\"Date\");"
   ]
  },
  {
   "attachments": {},
   "cell_type": "markdown",
   "metadata": {},
   "source": [
    "## Format data part 1: Create train and test sets of our time series data"
   ]
  },
  {
   "attachments": {},
   "cell_type": "markdown",
   "metadata": {},
   "source": [
    "### Creating train and test sets with time series data (NOT RECOMMENDED)"
   ]
  },
  {
   "cell_type": "code",
   "execution_count": 9,
   "metadata": {},
   "outputs": [
    {
     "data": {
      "text/html": [
       "<div>\n",
       "<style scoped>\n",
       "    .dataframe tbody tr th:only-of-type {\n",
       "        vertical-align: middle;\n",
       "    }\n",
       "\n",
       "    .dataframe tbody tr th {\n",
       "        vertical-align: top;\n",
       "    }\n",
       "\n",
       "    .dataframe thead th {\n",
       "        text-align: right;\n",
       "    }\n",
       "</style>\n",
       "<table border=\"1\" class=\"dataframe\">\n",
       "  <thead>\n",
       "    <tr style=\"text-align: right;\">\n",
       "      <th></th>\n",
       "      <th>Price</th>\n",
       "    </tr>\n",
       "    <tr>\n",
       "      <th>Date</th>\n",
       "      <th></th>\n",
       "    </tr>\n",
       "  </thead>\n",
       "  <tbody>\n",
       "    <tr>\n",
       "      <th>2013-10-01</th>\n",
       "      <td>123.65499</td>\n",
       "    </tr>\n",
       "    <tr>\n",
       "      <th>2013-10-02</th>\n",
       "      <td>125.45500</td>\n",
       "    </tr>\n",
       "    <tr>\n",
       "      <th>2013-10-03</th>\n",
       "      <td>108.58483</td>\n",
       "    </tr>\n",
       "    <tr>\n",
       "      <th>2013-10-04</th>\n",
       "      <td>118.67466</td>\n",
       "    </tr>\n",
       "    <tr>\n",
       "      <th>2013-10-05</th>\n",
       "      <td>121.33866</td>\n",
       "    </tr>\n",
       "  </tbody>\n",
       "</table>\n",
       "</div>"
      ],
      "text/plain": [
       "                Price\n",
       "Date                 \n",
       "2013-10-01  123.65499\n",
       "2013-10-02  125.45500\n",
       "2013-10-03  108.58483\n",
       "2013-10-04  118.67466\n",
       "2013-10-05  121.33866"
      ]
     },
     "execution_count": 9,
     "metadata": {},
     "output_type": "execute_result"
    }
   ],
   "source": [
    "bitcoin_prices[:5]"
   ]
  },
  {
   "cell_type": "code",
   "execution_count": 10,
   "metadata": {},
   "outputs": [
    {
     "data": {
      "text/plain": [
       "(array(['2013-10-01T00:00:00.000000000', '2013-10-02T00:00:00.000000000',\n",
       "        '2013-10-03T00:00:00.000000000', '2013-10-04T00:00:00.000000000',\n",
       "        '2013-10-05T00:00:00.000000000', '2013-10-06T00:00:00.000000000',\n",
       "        '2013-10-07T00:00:00.000000000', '2013-10-08T00:00:00.000000000',\n",
       "        '2013-10-09T00:00:00.000000000', '2013-10-10T00:00:00.000000000'],\n",
       "       dtype='datetime64[ns]'),\n",
       " array([123.65499, 125.455  , 108.58483, 118.67466, 121.33866, 120.65533,\n",
       "        121.795  , 123.033  , 124.049  , 125.96116]))"
      ]
     },
     "execution_count": 10,
     "metadata": {},
     "output_type": "execute_result"
    }
   ],
   "source": [
    "# Get bitcoin date array\n",
    "timesteps = bitcoin_prices.index.to_numpy()\n",
    "prices = bitcoin_prices[\"Price\"].to_numpy()\n",
    "\n",
    "timesteps[:10], prices[:10]"
   ]
  },
  {
   "cell_type": "code",
   "execution_count": 11,
   "metadata": {},
   "outputs": [
    {
     "data": {
      "text/plain": [
       "((2229,), (558,), (2229,), (558,))"
      ]
     },
     "execution_count": 11,
     "metadata": {},
     "output_type": "execute_result"
    }
   ],
   "source": [
    "# Method 1 to make train/test sets for time series data (NOT RECOMMENDED)\n",
    "from sklearn.model_selection import train_test_split\n",
    "\n",
    "X_train, X_test, y_train, y_test = train_test_split(timesteps, # dates\n",
    "                                                    prices, # BTC prices\n",
    "                                                    test_size=0.2,\n",
    "                                                    random_state=42)\n",
    "\n",
    "X_train.shape, X_test.shape, y_train.shape, y_test.shape"
   ]
  },
  {
   "cell_type": "code",
   "execution_count": 12,
   "metadata": {},
   "outputs": [
    {
     "data": {
      "image/png": "[encoded data removed]",
      "text/plain": [
       "<Figure size 1000x700 with 1 Axes>"
      ]
     },
     "metadata": {},
     "output_type": "display_data"
    }
   ],
   "source": [
    "# Let's plot wrong train and test splits\n",
    "plt.figure(figsize=(10, 7))\n",
    "plt.scatter(X_train, y_train, s=5, label=\"Train data\")\n",
    "plt.scatter(X_test, y_test, s=5, label=\"Test data\")\n",
    "plt.xlabel(\"Date\")\n",
    "plt.ylabel(\"BTC Price\")\n",
    "plt.legend(fontsize=14)\n",
    "plt.show();"
   ]
  },
  {
   "attachments": {},
   "cell_type": "markdown",
   "metadata": {},
   "source": [
    "**NOTE:** The below method is always recommended to be used during the time series data analysis. Since, the above method using the sklearn train and test split will split the data randomly which will lead to data from (pseudo) future leaks into past and we need the data in a way such that we will predict the future value of the bitcoin, hence we need to split the data manually."
   ]
  },
  {
   "attachments": {},
   "cell_type": "markdown",
   "metadata": {},
   "source": [
    "### Create train & test sets for time series (RECOMMENDED)"
   ]
  },
  {
   "cell_type": "code",
   "execution_count": 15,
   "metadata": {},
   "outputs": [
    {
     "data": {
      "text/plain": [
       "(2229, 558, 2229, 558)"
      ]
     },
     "execution_count": 15,
     "metadata": {},
     "output_type": "execute_result"
    }
   ],
   "source": [
    "# Create train and test splits the correct way for time series data\n",
    "split_size = int(0.8 * len(prices)) # 80% train, 20% test (can be changed as per needed)\n",
    "\n",
    "# Create train data splits (everything before the split)\n",
    "X_train, y_train = timesteps[:split_size], prices[:split_size]\n",
    "\n",
    "# Create test data splits (everything beyond the split)\n",
    "X_test, y_test = timesteps[split_size:], prices[split_size:]\n",
    "\n",
    "len(X_train), len(X_test), len(y_train), len(y_test)"
   ]
  },
  {
   "cell_type": "code",
   "execution_count": 16,
   "metadata": {},
   "outputs": [
    {
     "data": {
      "image/png": "[encoded data removed]",
      "text/plain": [
       "<Figure size 1000x700 with 1 Axes>"
      ]
     },
     "metadata": {},
     "output_type": "display_data"
    }
   ],
   "source": [
    "# Plot correctly made splits\n",
    "plt.figure(figsize=(10,7))\n",
    "plt.scatter(X_train, y_train, s=5, label=\"Train data\")\n",
    "plt.scatter(X_test, y_test, s=5, label=\"Test data\")\n",
    "plt.xlabel(\"Date\")\n",
    "plt.ylabel(\"BTC Price\")\n",
    "plt.legend(fontsize=14)\n",
    "plt.show();"
   ]
  },
  {
   "attachments": {},
   "cell_type": "markdown",
   "metadata": {},
   "source": [
    "## Create a plotting function"
   ]
  },
  {
   "cell_type": "code",
   "execution_count": 17,
   "metadata": {},
   "outputs": [],
   "source": [
    "# Create a function to plot time series data\n",
    "def plot_time_series(timesteps, values, format=\".\", start=0, end=None, label=None):\n",
    "  \"\"\"\n",
    "  Plots timesteps (a series of points in time) against values (a series of values across timesteps).\n",
    "\n",
    "  Parameters\n",
    "  ----------\n",
    "  timesteps : array of timestep values\n",
    "  values : array of values across time\n",
    "  format : style of plot, default \".\"\n",
    "  start : where to start the plot (setting a value will index from start of timesteps & values)\n",
    "  end : where to end the plot (similar to start but for the end)\n",
    "  label : label to show on plot about values, default None \n",
    "  \"\"\"\n",
    "  # Plot the series\n",
    "  plt.plot(timesteps[start:end], values[start:end], format, label=label)\n",
    "  plt.xlabel(\"Time\")\n",
    "  plt.ylabel(\"BTC Price\")\n",
    "  if label:\n",
    "    plt.legend(fontsize=14) # make label bigger\n",
    "  plt.grid(True)"
   ]
  },
  {
   "cell_type": "code",
   "execution_count": 18,
   "metadata": {},
   "outputs": [
    {
     "data": {
      "image/png": "[encoded data removed]",
      "text/plain": [
       "<Figure size 800x600 with 1 Axes>"
      ]
     },
     "metadata": {},
     "output_type": "display_data"
    }
   ],
   "source": [
    "# Test out plotting function\n",
    "plt.figure(figsize=(8, 6))\n",
    "plot_time_series(timesteps=X_train, values=y_train, label=\"Train data\")\n",
    "plot_time_series(timesteps=X_test, values=y_test, label=\"Test data\")"
   ]
  },
  {
   "attachments": {},
   "cell_type": "markdown",
   "metadata": {},
   "source": [
    "## Modelling Experiments\n",
    "\n",
    "We have got some Bitcoin historical data, to model it, let's run a series of modelling experiments and see which model performs best.\n",
    "\n",
    "**IMPORTANT TERMS:**\n",
    "* **Window size** = number of timesteps we're going to use to predict **horizon**\n",
    "* **Horizon** = number of timesteps into the future we're going to predict\n",
    "\n",
    "Modelling experiments, We will build:\n",
    "* Model 0 - Naive model (baseline)\t\n",
    "* Model 1 - Dense model, window = 7, horizon = 1\n",
    "* Model 2 - Same as 1, \twindow = 30, horizon = 1\n",
    "* Model 3 - Same as 1, \twindow = 30, horizon = 7\n",
    "* Model 4 - Conv1D, window = 7, horizon = 1\n",
    "* Model 5 - LSTM, window = 7, horizon = 1\n",
    "* Model 6 - Same as 1 Dense model (but with multivariate data), window = 7, horizon = 1\n",
    "* Model 7 - N-BEATs Algorithm, window = 7, horizon = 1\n",
    "* Model 8 - Ensemble (multiple models optimized on different loss functions), window = 7, horizon = 1\n",
    "* Model 9 - Future prediction model (model to predict future values), window = 7, horizon = 1\n",
    "* Model 10 - Same as 1 (but with turkey data introduced), window = 7, horizon = 1"
   ]
  },
  {
   "attachments": {},
   "cell_type": "markdown",
   "metadata": {},
   "source": [
    "## Model 0: Naive forecast (baseline)\n",
    "\n",
    "The formula looks like this:\n",
    "$$\\hat{y}_{t} = y_{t-1}$$\n",
    "> The prediction at timestep t (y-hat) is equal to the value at timestep t-1 (previous timestep) - this is for a horizon of 1."
   ]
  },
  {
   "cell_type": "code",
   "execution_count": 19,
   "metadata": {},
   "outputs": [
    {
     "data": {
      "text/plain": [
       "array([9226.48582088, 8794.35864452, 8798.04205463, 9081.18687849,\n",
       "       8711.53433917, 8760.89271814, 8749.52059102, 8656.97092235,\n",
       "       8500.64355816, 8469.2608989 ])"
      ]
     },
     "execution_count": 19,
     "metadata": {},
     "output_type": "execute_result"
    }
   ],
   "source": [
    "# Test Set Prices of Bitcoin\n",
    "y_test[:10]"
   ]
  },
  {
   "cell_type": "code",
   "execution_count": 20,
   "metadata": {},
   "outputs": [
    {
     "data": {
      "text/plain": [
       "(array([9226.48582088, 8794.35864452, 8798.04205463, 9081.18687849,\n",
       "        8711.53433917, 8760.89271814, 8749.52059102, 8656.97092235,\n",
       "        8500.64355816, 8469.2608989 ]),\n",
       " array([57107.12067189, 58788.20967893, 58102.19142623, 55715.54665129,\n",
       "        56573.5554719 , 52147.82118698, 49764.1320816 , 50032.69313676,\n",
       "        47885.62525472, 45604.61575361]))"
      ]
     },
     "execution_count": 20,
     "metadata": {},
     "output_type": "execute_result"
    }
   ],
   "source": [
    "# Create a naive forecast \n",
    "naive_forecast = y_test[:-1]\n",
    "\n",
    "# NOTE: Since, in the naive forecast model predicts the future forecast as from the previous forecast  y(t) = y(t-1) \n",
    "naive_forecast[:10], naive_forecast[-10:]"
   ]
  },
  {
   "cell_type": "code",
   "execution_count": 21,
   "metadata": {},
   "outputs": [
    {
     "data": {
      "text/plain": [
       "array([58788.20967893, 58102.19142623, 55715.54665129, 56573.5554719 ,\n",
       "       52147.82118698, 49764.1320816 , 50032.69313676, 47885.62525472,\n",
       "       45604.61575361, 43144.47129086])"
      ]
     },
     "execution_count": 21,
     "metadata": {},
     "output_type": "execute_result"
    }
   ],
   "source": [
    "y_test[-10:]"
   ]
  },
  {
   "cell_type": "code",
   "execution_count": 26,
   "metadata": {},
   "outputs": [
    {
     "data": {
      "image/png": "[encoded data removed]",
      "text/plain": [
       "<Figure size 800x600 with 1 Axes>"
      ]
     },
     "metadata": {},
     "output_type": "display_data"
    }
   ],
   "source": [
    "# Plot naive forecast\n",
    "plt.figure(figsize=(8, 6))\n",
    "# plot_time_series(timesteps=X_train, values=y_train, label=\"Train data\")\n",
    "plot_time_series(timesteps=X_test, values=y_test, start=350, format=\"-\", label=\"Test data\")\n",
    "plot_time_series(timesteps=X_test[1:], values=naive_forecast, start=350, format=\"-\", label=\"Naive Forecast\")"
   ]
  },
  {
   "attachments": {},
   "cell_type": "markdown",
   "metadata": {},
   "source": [
    "## Evaluating a time series model\n",
    "\n",
    "Some evaluation metrics for time series forecasting. \n",
    "\n",
    "Since, we are predicting a number, so that means we have a form of a regression problem.\n",
    "\n",
    "Because we are working on a regression problem, we will require some regression-like metrics.\n",
    "\n",
    "A few common regression metrics (which can also be used for time series forecasting):\n",
    "* MAE - mean absolute error\n",
    "* MSE - mean squared error\n",
    "* RMSE - root mean square error\n",
    "* MAPE/sMAPE - (symmetric) mean absolute percentage error\n",
    "* MASE - mean absolute scaled error\n",
    "\n",
    "For all of the above metrics, **lower is better**, for example, an MAE of 0 that is better than an MAE of 100.\n",
    "\n",
    "The important thing evaluating here is: **how do model's forecasts (y_pred) compare against the actual values (y_true or ground truth values)?**\n",
    "\n",
    "> **IMPORTANT RESOURCE:** For a deeper dive on the various kinds of time series forecasting methods see [Forecasting: Principles and Practice chapter 5.8](https://otexts.com/fpp3/accuracy.html) "
   ]
  },
  {
   "cell_type": "code",
   "execution_count": 27,
   "metadata": {},
   "outputs": [],
   "source": [
    "import tensorflow as tf"
   ]
  },
  {
   "cell_type": "code",
   "execution_count": 28,
   "metadata": {},
   "outputs": [],
   "source": [
    "# MASE implementation\n",
    "# A scaled error is >1 if the forecast is worse than the naive and <1 if the forecast is better than the naive.\n",
    "def mean_absolute_scaled_error(y_true, y_pred):\n",
    "  \"\"\"\n",
    "  Implement MASE (assuming no seasonality of data).\n",
    "  \"\"\"\n",
    "  mae = tf.reduce_mean(tf.abs(y_true-y_pred))\n",
    "\n",
    "  # Find MAE of naive forecast (no seasonality)\n",
    "  mae_naive_no_season = tf.reduce_mean(tf.abs(y_true[1:] - y_true[:-1])) # our seasonality is 1 day (hence the shift of 1)\n",
    "\n",
    "  return mae / mae_naive_no_season"
   ]
  },
  {
   "cell_type": "code",
   "execution_count": 29,
   "metadata": {},
   "outputs": [
    {
     "data": {
      "text/plain": [
       "0.9995699939182626"
      ]
     },
     "execution_count": 29,
     "metadata": {},
     "output_type": "execute_result"
    }
   ],
   "source": [
    "# Test MASE (this value should = 1 or be very close to 1 with the naive forecast)\n",
    "mean_absolute_scaled_error(y_true=y_test[1:], y_pred=naive_forecast).numpy()"
   ]
  },
  {
   "attachments": {},
   "cell_type": "markdown",
   "metadata": {},
   "source": [
    "### Evaluation function with various metrics"
   ]
  },
  {
   "cell_type": "code",
   "execution_count": 30,
   "metadata": {},
   "outputs": [],
   "source": [
    "# Create a function to take in model predictions and truth values and return evaluation metrics\n",
    "def evaluate_preds(y_true, y_pred):\n",
    "  # Make sure float32 datatype (for metric calculations with TensorFlow)\n",
    "  y_true = tf.cast(y_true, dtype=tf.float32)\n",
    "  y_pred = tf.cast(y_pred, dtype=tf.float32)\n",
    "\n",
    "  # Calculate various evaluation metrics \n",
    "  mae = tf.keras.metrics.mean_absolute_error(y_true, y_pred)\n",
    "  mse = tf.keras.metrics.mean_squared_error(y_true, y_pred)\n",
    "  rmse = tf.sqrt(mse)\n",
    "  mape = tf.keras.metrics.mean_absolute_percentage_error(y_true, y_pred)\n",
    "  mase = mean_absolute_scaled_error(y_true, y_pred)\n",
    "\n",
    "  return {\"mae\": mae.numpy(),\n",
    "          \"mse\": mse.numpy(),\n",
    "          \"rmse\": rmse.numpy(),\n",
    "          \"mape\": mape.numpy(),\n",
    "          \"mase\": mase.numpy()}"
   ]
  },
  {
   "cell_type": "code",
   "execution_count": 31,
   "metadata": {},
   "outputs": [
    {
     "data": {
      "text/plain": [
       "{'mae': 567.9802,\n",
       " 'mse': 1147547.0,\n",
       " 'rmse': 1071.2362,\n",
       " 'mape': 2.5165248,\n",
       " 'mase': 0.99957}"
      ]
     },
     "execution_count": 31,
     "metadata": {},
     "output_type": "execute_result"
    }
   ],
   "source": [
    "naive_results = evaluate_preds(y_true=y_test[1:],\n",
    "                               y_pred=naive_forecast)\n",
    "\n",
    "naive_results"
   ]
  },
  {
   "cell_type": "code",
   "execution_count": 32,
   "metadata": {},
   "outputs": [
    {
     "data": {
      "text/plain": [
       "array([57107.12067189, 58788.20967893, 58102.19142623, 55715.54665129,\n",
       "       56573.5554719 , 52147.82118698, 49764.1320816 , 50032.69313676,\n",
       "       47885.62525472, 45604.61575361])"
      ]
     },
     "execution_count": 32,
     "metadata": {},
     "output_type": "execute_result"
    }
   ],
   "source": [
    "naive_forecast[-10:]"
   ]
  },
  {
   "cell_type": "code",
   "execution_count": 33,
   "metadata": {},
   "outputs": [
    {
     "data": {
      "text/plain": [
       "<tf.Tensor: shape=(), dtype=float64, numpy=20056.632963737226>"
      ]
     },
     "execution_count": 33,
     "metadata": {},
     "output_type": "execute_result"
    }
   ],
   "source": [
    "tf.reduce_mean(y_test)"
   ]
  },
  {
   "cell_type": "code",
   "execution_count": 34,
   "metadata": {},
   "outputs": [
    {
     "data": {
      "text/plain": [
       "(<tf.Tensor: shape=(), dtype=float64, numpy=4944.7023359837>,\n",
       " <tf.Tensor: shape=(), dtype=float64, numpy=63346.7890351052>)"
      ]
     },
     "execution_count": 34,
     "metadata": {},
     "output_type": "execute_result"
    }
   ],
   "source": [
    "tf.reduce_min(y_test), tf.reduce_max(y_test)"
   ]
  },
  {
   "attachments": {},
   "cell_type": "markdown",
   "metadata": {},
   "source": [
    "## Other kinds of time series forecasting models which can be used for baselines and actual forecasts\n",
    "\n",
    "* Moving average - https://machinelearningmastery.com/moving-average-smoothing-for-time-series-forecasting-python/\n",
    "* ARIMA (Autoregression Integrated Moving Average) - https://machinelearningmastery.com/arima-for-time-series-forecasting-with-python/\n",
    "* sktime (Scikit-Learn for time series) - https://github.com/alan-turing-institute/sktime\n",
    "* TensorFlow Decision Forests (random forest, gradient boosting trees) - https://www.tensorflow.org/decision_forests\n",
    "* Facebook Kats (purpose-built forecasting and time series analysis library by Facebook) - https://github.com/facebookresearch/Kats\n",
    "* LinkedIn Greykite (flexible, intuitive and fast forecasts) - https://github.com/linkedin/greykite"
   ]
  },
  {
   "attachments": {},
   "cell_type": "markdown",
   "metadata": {},
   "source": [
    "## Format Data Part 2: Windowing our dataset\n",
    "\n",
    "We window our time series dataset to turn our data into a supervised learning problem.\n",
    "\n",
    "```\n",
    "Windowing for one week\n",
    "[0, 1, 2, 3, 4, 5, 6] -> [7]\n",
    "[1, 2, 3, 4, 5, 6, 7] -> [8]\n",
    "[2, 3, 4, 5, 6, 7, 8] -> [9]\n",
    "```"
   ]
  },
  {
   "cell_type": "code",
   "execution_count": 35,
   "metadata": {},
   "outputs": [
    {
     "name": "stdout",
     "output_type": "stream",
     "text": [
      "We want to use: [123.65499, 125.455, 108.58483, 118.67466, 121.33866, 120.65533, 121.795] to predict this: 123.033\n"
     ]
    }
   ],
   "source": [
    "# What we want to do with our Bitcoin data\n",
    "# We will use the past 7 days of data to predict the price of Bitcoin on the next day\n",
    "print(f\"We want to use: {btc_price[:7]} to predict this: {btc_price[7]}\")"
   ]
  },
  {
   "cell_type": "code",
   "execution_count": 36,
   "metadata": {},
   "outputs": [],
   "source": [
    "# Setup GLOBAL VARIABLES for window and horizon size\n",
    "WINDOW_SIZE = 7 # use the past week of Bitcoin data to make the prediction\n",
    "HORIZON = 1 # predict next 1 day"
   ]
  },
  {
   "cell_type": "code",
   "execution_count": 37,
   "metadata": {},
   "outputs": [],
   "source": [
    "# Create function to label windowed data\n",
    "def get_labelled_windows(x, horizon=HORIZON):\n",
    "  \"\"\"\n",
    "  Creates labels for windowed dataset.\n",
    "\n",
    "  E.g. if horizon=1\n",
    "  Input: [0, 1, 2, 3, 4, 5, 6, 7] -> Output: ([0, 1, 2, 3, 4, 5, 6], [7])\n",
    "  \"\"\"\n",
    "  return x[:, :-horizon], x[:, -horizon:]"
   ]
  },
  {
   "cell_type": "code",
   "execution_count": 38,
   "metadata": {},
   "outputs": [
    {
     "name": "stdout",
     "output_type": "stream",
     "text": [
      "Window: [0 1 2 3 4 5 6] -> Label: 7\n"
     ]
    }
   ],
   "source": [
    "# Test out the window labelling function\n",
    "test_window, test_label = get_labelled_windows(tf.expand_dims(tf.range(8), axis=0))\n",
    "print(f\"Window: {tf.squeeze(test_window).numpy()} -> Label: {tf.squeeze(test_label).numpy()}\")"
   ]
  },
  {
   "attachments": {},
   "cell_type": "markdown",
   "metadata": {},
   "source": [
    "We have build a function to label our windowed data. However, this only works on a small scale. Thus, it won't work across the entire time series dataset. We can use the Python for loops, but for large time series, that will be quite slow.\n",
    "\n",
    "* To speed up, we will use NumPy's array indexing: https://numpy.org/doc/stable/reference/arrays.indexing.html.\n",
    "\n",
    "Thus, the function created will:\n",
    "1. Create a window step of specific window size (e.g. [0, 1, 2, 3, 4, 5, 6])\n",
    "2. Use NumPy indexing to create a 2D array of multiple window steps, for example: \n",
    "```\n",
    "[[0, 1, 2, 3, 4, 5, 6],\n",
    "[1, 2, 3, 4, 5, 6, 7],\n",
    "[2, 3, 4, 5, 6, 7, 8]]\n",
    "```\n",
    "1. Uses the 2D array of multiple window steps (from step 2) to index on a target series (e.g. the historical price of Bitcoin)\n",
    "2. Uses our `get_labelled_windows()` function we created above to turn the window steps into windows with a specified horizon. \n",
    "\n",
    "> **IMPORTANT RESOURCE:** The function has been adapted from the following article: https://towardsdatascience.com/fast-and-robust-sliding-window-vectorization-with-numpy-3ad950ed62f5"
   ]
  },
  {
   "cell_type": "code",
   "execution_count": 72,
   "metadata": {},
   "outputs": [],
   "source": [
    "import numpy as np\n",
    "\n",
    "# Create function to view NumPy arrays as windows\n",
    "def make_windows(x, window_size=WINDOW_SIZE, horizon=HORIZON):\n",
    "  \"\"\"\n",
    "  Turns a 1D array into a 2D array of sequential labelled windows of window_size with horizon size labels.\n",
    "  \"\"\"\n",
    "  # 1. Create a window of specific window_size (add the horzion on the end for labelling later)\n",
    "  window_step = np.expand_dims(np.arange(window_size+horizon), axis=0)\n",
    "  # print(window_step)\n",
    "\n",
    "  # 2. Create a 2D array of multiple window steps (minus 1 to account for 0 indexing)\n",
    "  # create 2D array of windows of size window_size\n",
    "  window_indexes = window_step + np.expand_dims(np.arange(len(x)-(window_size+horizon-1)), axis=0).T \n",
    "  # print(f\"Window indexes:\\n {window_indexes, window_indexes.shape}\")\n",
    "\n",
    "  # 3. Index on the target array (a time series) with 2D array of multiple window steps\n",
    "  windowed_array = x[window_indexes]\n",
    "  # print(windowed_array)\n",
    "\n",
    "  # 4. Get the labelled windows\n",
    "  windows, labels = get_labelled_windows(windowed_array, horizon=horizon)\n",
    "  return windows, labels"
   ]
  },
  {
   "cell_type": "code",
   "execution_count": 75,
   "metadata": {},
   "outputs": [
    {
     "data": {
      "text/plain": [
       "(2780, 2780)"
      ]
     },
     "execution_count": 75,
     "metadata": {},
     "output_type": "execute_result"
    }
   ],
   "source": [
    "full_windows, full_labels = make_windows(prices, window_size=WINDOW_SIZE, horizon=HORIZON)\n",
    "len(full_windows), len(full_labels)"
   ]
  },
  {
   "cell_type": "code",
   "execution_count": 77,
   "metadata": {},
   "outputs": [
    {
     "name": "stdout",
     "output_type": "stream",
     "text": [
      "Window: [123.65499 125.455   108.58483 118.67466 121.33866 120.65533 121.795  ] -> Label: [123.033]\n",
      "Window: [125.455   108.58483 118.67466 121.33866 120.65533 121.795   123.033  ] -> Label: [124.049]\n",
      "Window: [108.58483 118.67466 121.33866 120.65533 121.795   123.033   124.049  ] -> Label: [125.96116]\n"
     ]
    }
   ],
   "source": [
    "# View the first 3 windows/labels\n",
    "for i in range(3):\n",
    "  print(f\"Window: {full_windows[i]} -> Label: {full_labels[i]}\")"
   ]
  },
  {
   "cell_type": "code",
   "execution_count": 78,
   "metadata": {},
   "outputs": [
    {
     "name": "stdout",
     "output_type": "stream",
     "text": [
      "Window: [58788.20967893 58102.19142623 55715.54665129 56573.5554719\n",
      " 52147.82118698 49764.1320816  50032.69313676] -> Label: [47885.62525472]\n",
      "Window: [58102.19142623 55715.54665129 56573.5554719  52147.82118698\n",
      " 49764.1320816  50032.69313676 47885.62525472] -> Label: [45604.61575361]\n",
      "Window: [55715.54665129 56573.5554719  52147.82118698 49764.1320816\n",
      " 50032.69313676 47885.62525472 45604.61575361] -> Label: [43144.47129086]\n"
     ]
    }
   ],
   "source": [
    "# View the last 3 windows/labels\n",
    "for i in range(3):\n",
    "  print(f\"Window: {full_windows[i-3]} -> Label: {full_labels[i-3]}\")"
   ]
  },
  {
   "attachments": {},
   "cell_type": "markdown",
   "metadata": {},
   "source": [
    "## Turning windows into training and test sets"
   ]
  },
  {
   "cell_type": "code",
   "execution_count": 79,
   "metadata": {},
   "outputs": [
    {
     "data": {
      "text/plain": [
       "(array([[123.65499, 125.455  , 108.58483, 118.67466, 121.33866, 120.65533,\n",
       "         121.795  ],\n",
       "        [125.455  , 108.58483, 118.67466, 121.33866, 120.65533, 121.795  ,\n",
       "         123.033  ],\n",
       "        [108.58483, 118.67466, 121.33866, 120.65533, 121.795  , 123.033  ,\n",
       "         124.049  ],\n",
       "        [118.67466, 121.33866, 120.65533, 121.795  , 123.033  , 124.049  ,\n",
       "         125.96116],\n",
       "        [121.33866, 120.65533, 121.795  , 123.033  , 124.049  , 125.96116,\n",
       "         125.27966]]),\n",
       " array([[123.033  ],\n",
       "        [124.049  ],\n",
       "        [125.96116],\n",
       "        [125.27966],\n",
       "        [125.9275 ]]))"
      ]
     },
     "execution_count": 79,
     "metadata": {},
     "output_type": "execute_result"
    }
   ],
   "source": [
    "full_windows[:5], full_labels[:5]"
   ]
  },
  {
   "cell_type": "code",
   "execution_count": 80,
   "metadata": {},
   "outputs": [],
   "source": [
    "# Make the train/test splits\n",
    "def make_train_test_splits(windows, labels, test_split=0.2):\n",
    "  \"\"\"\n",
    "  Splits matching pairs of winodws and labels into train and test splits.\n",
    "  \"\"\"\n",
    "  split_size = int(len(windows) * (1-test_split)) # this will default to 80% train/20% test\n",
    "  train_windows = windows[:split_size]\n",
    "  train_labels = labels[:split_size]\n",
    "  test_windows = windows[split_size:]\n",
    "  test_labels = labels[split_size:]\n",
    "  return train_windows, test_windows, train_labels, test_labels"
   ]
  },
  {
   "cell_type": "code",
   "execution_count": 81,
   "metadata": {},
   "outputs": [
    {
     "data": {
      "text/plain": [
       "(2224, 556, 2224, 556)"
      ]
     },
     "execution_count": 81,
     "metadata": {},
     "output_type": "execute_result"
    }
   ],
   "source": [
    "# Create train and test windows \n",
    "train_windows, test_windows, train_labels, test_labels = make_train_test_splits(full_windows, full_labels)\n",
    "len(train_windows), len(test_windows), len(train_labels), len(test_labels)"
   ]
  },
  {
   "cell_type": "code",
   "execution_count": 82,
   "metadata": {},
   "outputs": [
    {
     "data": {
      "text/plain": [
       "(array([[123.65499, 125.455  , 108.58483, 118.67466, 121.33866, 120.65533,\n",
       "         121.795  ],\n",
       "        [125.455  , 108.58483, 118.67466, 121.33866, 120.65533, 121.795  ,\n",
       "         123.033  ],\n",
       "        [108.58483, 118.67466, 121.33866, 120.65533, 121.795  , 123.033  ,\n",
       "         124.049  ],\n",
       "        [118.67466, 121.33866, 120.65533, 121.795  , 123.033  , 124.049  ,\n",
       "         125.96116],\n",
       "        [121.33866, 120.65533, 121.795  , 123.033  , 124.049  , 125.96116,\n",
       "         125.27966]]),\n",
       " array([[123.033  ],\n",
       "        [124.049  ],\n",
       "        [125.96116],\n",
       "        [125.27966],\n",
       "        [125.9275 ]]))"
      ]
     },
     "execution_count": 82,
     "metadata": {},
     "output_type": "execute_result"
    }
   ],
   "source": [
    "train_windows[:5], train_labels[:5]"
   ]
  },
  {
   "cell_type": "code",
   "execution_count": 83,
   "metadata": {},
   "outputs": [
    {
     "data": {
      "text/plain": [
       "(array([[9290.89660239, 9202.41545055, 9369.62808116, 9326.59962378,\n",
       "         9335.75240233, 9226.48582088, 8794.35864452],\n",
       "        [9202.41545055, 9369.62808116, 9326.59962378, 9335.75240233,\n",
       "         9226.48582088, 8794.35864452, 8798.04205463],\n",
       "        [9369.62808116, 9326.59962378, 9335.75240233, 9226.48582088,\n",
       "         8794.35864452, 8798.04205463, 9081.18687849],\n",
       "        [9326.59962378, 9335.75240233, 9226.48582088, 8794.35864452,\n",
       "         8798.04205463, 9081.18687849, 8711.53433917],\n",
       "        [9335.75240233, 9226.48582088, 8794.35864452, 8798.04205463,\n",
       "         9081.18687849, 8711.53433917, 8760.89271814]]),\n",
       " array([[8798.04205463],\n",
       "        [9081.18687849],\n",
       "        [8711.53433917],\n",
       "        [8760.89271814],\n",
       "        [8749.52059102]]))"
      ]
     },
     "execution_count": 83,
     "metadata": {},
     "output_type": "execute_result"
    }
   ],
   "source": [
    "test_windows[:5], test_labels[:5]"
   ]
  },
  {
   "cell_type": "code",
   "execution_count": 85,
   "metadata": {},
   "outputs": [
    {
     "data": {
      "text/plain": [
       "array([[ 123.033     ],\n",
       "       [ 124.049     ],\n",
       "       [ 125.96116   ],\n",
       "       ...,\n",
       "       [9369.62808116],\n",
       "       [9326.59962378],\n",
       "       [9335.75240233]])"
      ]
     },
     "execution_count": 85,
     "metadata": {},
     "output_type": "execute_result"
    }
   ],
   "source": [
    "train_labels[:-HORIZON-1]"
   ]
  },
  {
   "cell_type": "code",
   "execution_count": 84,
   "metadata": {},
   "outputs": [
    {
     "data": {
      "text/plain": [
       "True"
      ]
     },
     "execution_count": 84,
     "metadata": {},
     "output_type": "execute_result"
    }
   ],
   "source": [
    "# Check to see if train labels are the same (before and after window split)\n",
    "np.array_equal(np.squeeze(train_labels[:-HORIZON-1]), y_train[WINDOW_SIZE:])"
   ]
  },
  {
   "attachments": {},
   "cell_type": "markdown",
   "metadata": {},
   "source": [
    "## Creating modelling checkpoint callback\n",
    "\n",
    "We will compare each of our model's best performances against the other model's best performances.\n",
    "\n",
    "For example, if our model performs the best on epoch 55 (but we're training for 100 epochs), we want to load and evaluate the model saved on epoch 55.\n",
    "\n",
    "We can create a modelling checkpoint callback using the following: https://www.tensorflow.org/api_docs/python/tf/keras/callbacks/ModelCheckpoint"
   ]
  },
  {
   "cell_type": "code",
   "execution_count": 97,
   "metadata": {},
   "outputs": [],
   "source": [
    "import os\n",
    "\n",
    "# Create a function to implement a ModelCheckpoint callback with a specific filename \n",
    "def create_model_checkpoint(model_name, save_path=\"model_experiments\"):\n",
    "  return tf.keras.callbacks.ModelCheckpoint(filepath=os.path.join(save_path, model_name),\n",
    "                                            monitor=\"val_loss\",\n",
    "                                            verbose=0, # only output a limited amount of text\n",
    "                                            save_best_only=True)"
   ]
  },
  {
   "attachments": {},
   "cell_type": "markdown",
   "metadata": {},
   "source": [
    "## Model 1: Dense model (window = 7, horizon = 1)\n",
    "\n",
    "First deep model is going to be a simple dense model:\n",
    "* A single dense layer with 128 hidden units and ReLU\n",
    "* An output layer with linear activation (no activation)\n",
    "* Adam optimizaiton and MAE loss function\n",
    "* Batch size of 128\n",
    "* 100 epochs \n",
    "\n",
    "- **Hyperparameters** = values a machine learning practitioner can adjust themselves\n",
    "- **Parameters** = values a model learns on its own"
   ]
  },
  {
   "cell_type": "code",
   "execution_count": 98,
   "metadata": {},
   "outputs": [
    {
     "name": "stdout",
     "output_type": "stream",
     "text": [
      "Epoch 1/100\n",
      "18/18 [==============================] - ETA: 0s - loss: 2371.2253 - mae: 2371.2253 - mse: 16036579.0000 "
     ]
    },
    {
     "name": "stderr",
     "output_type": "stream",
     "text": [
      "WARNING:absl:Found untraced functions such as _update_step_xla while saving (showing 1 of 1). These functions will not be directly callable after loading.\n"
     ]
    },
    {
     "name": "stdout",
     "output_type": "stream",
     "text": [
      "INFO:tensorflow:Assets written to: model_experiments\\model_1_dense\\assets\n"
     ]
    },
    {
     "name": "stderr",
     "output_type": "stream",
     "text": [
      "INFO:tensorflow:Assets written to: model_experiments\\model_1_dense\\assets\n"
     ]
    },
    {
     "name": "stdout",
     "output_type": "stream",
     "text": [
      "18/18 [==============================] - 3s 93ms/step - loss: 2371.2253 - mae: 2371.2253 - mse: 16036579.0000 - val_loss: 2801.3201 - val_mae: 2801.3201 - val_mse: 16967458.0000\n",
      "Epoch 2/100\n",
      " 1/18 [>.............................] - ETA: 0s - loss: 320.8903 - mae: 320.8903 - mse: 446705.6250"
     ]
    },
    {
     "name": "stderr",
     "output_type": "stream",
     "text": [
      "WARNING:absl:Found untraced functions such as _update_step_xla while saving (showing 1 of 1). These functions will not be directly callable after loading.\n"
     ]
    },
    {
     "name": "stdout",
     "output_type": "stream",
     "text": [
      "INFO:tensorflow:Assets written to: model_experiments\\model_1_dense\\assets\n"
     ]
    },
    {
     "name": "stderr",
     "output_type": "stream",
     "text": [
      "INFO:tensorflow:Assets written to: model_experiments\\model_1_dense\\assets\n"
     ]
    },
    {
     "name": "stdout",
     "output_type": "stream",
     "text": [
      "18/18 [==============================] - 1s 67ms/step - loss: 372.7253 - mae: 372.7253 - mse: 539941.4375 - val_loss: 1650.2332 - val_mae: 1650.2332 - val_mse: 6914761.5000\n",
      "Epoch 3/100\n",
      "16/18 [=========================>....] - ETA: 0s - loss: 256.6220 - mae: 256.6220 - mse: 302260.5000"
     ]
    },
    {
     "name": "stderr",
     "output_type": "stream",
     "text": [
      "WARNING:absl:Found untraced functions such as _update_step_xla while saving (showing 1 of 1). These functions will not be directly callable after loading.\n"
     ]
    },
    {
     "name": "stdout",
     "output_type": "stream",
     "text": [
      "INFO:tensorflow:Assets written to: model_experiments\\model_1_dense\\assets\n"
     ]
    },
    {
     "name": "stderr",
     "output_type": "stream",
     "text": [
      "INFO:tensorflow:Assets written to: model_experiments\\model_1_dense\\assets\n"
     ]
    },
    {
     "name": "stdout",
     "output_type": "stream",
     "text": [
      "18/18 [==============================] - 1s 87ms/step - loss: 252.0290 - mae: 252.0290 - mse: 298388.0000 - val_loss: 1165.2491 - val_mae: 1165.2491 - val_mse: 4430542.5000\n",
      "Epoch 4/100\n",
      "15/18 [========================>.....] - ETA: 0s - loss: 209.1244 - mae: 209.1244 - mse: 225633.0156"
     ]
    },
    {
     "name": "stderr",
     "output_type": "stream",
     "text": [
      "WARNING:absl:Found untraced functions such as _update_step_xla while saving (showing 1 of 1). These functions will not be directly callable after loading.\n"
     ]
    },
    {
     "name": "stdout",
     "output_type": "stream",
     "text": [
      "INFO:tensorflow:Assets written to: model_experiments\\model_1_dense\\assets\n"
     ]
    },
    {
     "name": "stderr",
     "output_type": "stream",
     "text": [
      "INFO:tensorflow:Assets written to: model_experiments\\model_1_dense\\assets\n"
     ]
    },
    {
     "name": "stdout",
     "output_type": "stream",
     "text": [
      "18/18 [==============================] - 2s 127ms/step - loss: 211.0715 - mae: 211.0715 - mse: 226901.8125 - val_loss: 1139.6064 - val_mae: 1139.6064 - val_mse: 4333889.0000\n",
      "Epoch 5/100\n",
      "18/18 [==============================] - 0s 10ms/step - loss: 204.9219 - mae: 204.9219 - mse: 217873.1875 - val_loss: 1148.1582 - val_mae: 1148.1582 - val_mse: 4188748.0000\n",
      "Epoch 6/100\n",
      "17/18 [===========================>..] - ETA: 0s - loss: 198.5373 - mae: 198.5373 - mse: 195947.1250"
     ]
    },
    {
     "name": "stderr",
     "output_type": "stream",
     "text": [
      "WARNING:absl:Found untraced functions such as _update_step_xla while saving (showing 1 of 1). These functions will not be directly callable after loading.\n"
     ]
    },
    {
     "name": "stdout",
     "output_type": "stream",
     "text": [
      "INFO:tensorflow:Assets written to: model_experiments\\model_1_dense\\assets\n"
     ]
    },
    {
     "name": "stderr",
     "output_type": "stream",
     "text": [
      "INFO:tensorflow:Assets written to: model_experiments\\model_1_dense\\assets\n"
     ]
    },
    {
     "name": "stdout",
     "output_type": "stream",
     "text": [
      "18/18 [==============================] - 1s 52ms/step - loss: 200.3311 - mae: 200.3311 - mse: 208289.9844 - val_loss: 1111.4523 - val_mae: 1111.4523 - val_mse: 4128746.7500\n",
      "Epoch 7/100\n",
      " 1/18 [>.............................] - ETA: 0s - loss: 252.8341 - mae: 252.8341 - mse: 436858.0312"
     ]
    },
    {
     "name": "stderr",
     "output_type": "stream",
     "text": [
      "WARNING:absl:Found untraced functions such as _update_step_xla while saving (showing 1 of 1). These functions will not be directly callable after loading.\n"
     ]
    },
    {
     "name": "stdout",
     "output_type": "stream",
     "text": [
      "INFO:tensorflow:Assets written to: model_experiments\\model_1_dense\\assets\n"
     ]
    },
    {
     "name": "stderr",
     "output_type": "stream",
     "text": [
      "INFO:tensorflow:Assets written to: model_experiments\\model_1_dense\\assets\n"
     ]
    },
    {
     "name": "stdout",
     "output_type": "stream",
     "text": [
      "18/18 [==============================] - 1s 69ms/step - loss: 196.8184 - mae: 196.8184 - mse: 201702.3750 - val_loss: 1067.0442 - val_mae: 1067.0442 - val_mse: 3746145.5000\n",
      "Epoch 8/100\n",
      "18/18 [==============================] - ETA: 0s - loss: 189.4518 - mae: 189.4518 - mse: 187885.7500"
     ]
    },
    {
     "name": "stderr",
     "output_type": "stream",
     "text": [
      "WARNING:absl:Found untraced functions such as _update_step_xla while saving (showing 1 of 1). These functions will not be directly callable after loading.\n"
     ]
    },
    {
     "name": "stdout",
     "output_type": "stream",
     "text": [
      "INFO:tensorflow:Assets written to: model_experiments\\model_1_dense\\assets\n"
     ]
    },
    {
     "name": "stderr",
     "output_type": "stream",
     "text": [
      "INFO:tensorflow:Assets written to: model_experiments\\model_1_dense\\assets\n"
     ]
    },
    {
     "name": "stdout",
     "output_type": "stream",
     "text": [
      "18/18 [==============================] - 1s 61ms/step - loss: 189.4518 - mae: 189.4518 - mse: 187885.7500 - val_loss: 1061.3373 - val_mae: 1061.3373 - val_mse: 3589631.0000\n",
      "Epoch 9/100\n",
      "17/18 [===========================>..] - ETA: 0s - loss: 184.3265 - mae: 184.3265 - mse: 181389.6562"
     ]
    },
    {
     "name": "stderr",
     "output_type": "stream",
     "text": [
      "WARNING:absl:Found untraced functions such as _update_step_xla while saving (showing 1 of 1). These functions will not be directly callable after loading.\n"
     ]
    },
    {
     "name": "stdout",
     "output_type": "stream",
     "text": [
      "INFO:tensorflow:Assets written to: model_experiments\\model_1_dense\\assets\n"
     ]
    },
    {
     "name": "stderr",
     "output_type": "stream",
     "text": [
      "INFO:tensorflow:Assets written to: model_experiments\\model_1_dense\\assets\n"
     ]
    },
    {
     "name": "stdout",
     "output_type": "stream",
     "text": [
      "18/18 [==============================] - 1s 52ms/step - loss: 184.2583 - mae: 184.2583 - mse: 180037.1875 - val_loss: 1039.6354 - val_mae: 1039.6354 - val_mse: 3416288.5000\n",
      "Epoch 10/100\n",
      "17/18 [===========================>..] - ETA: 0s - loss: 178.9099 - mae: 178.9099 - mse: 171527.8750"
     ]
    },
    {
     "name": "stderr",
     "output_type": "stream",
     "text": [
      "WARNING:absl:Found untraced functions such as _update_step_xla while saving (showing 1 of 1). These functions will not be directly callable after loading.\n"
     ]
    },
    {
     "name": "stdout",
     "output_type": "stream",
     "text": [
      "INFO:tensorflow:Assets written to: model_experiments\\model_1_dense\\assets\n"
     ]
    },
    {
     "name": "stderr",
     "output_type": "stream",
     "text": [
      "INFO:tensorflow:Assets written to: model_experiments\\model_1_dense\\assets\n"
     ]
    },
    {
     "name": "stdout",
     "output_type": "stream",
     "text": [
      "18/18 [==============================] - 1s 56ms/step - loss: 180.4284 - mae: 180.4284 - mse: 172604.2344 - val_loss: 992.6938 - val_mae: 992.6938 - val_mse: 3194088.0000\n",
      "Epoch 11/100\n",
      "15/18 [========================>.....] - ETA: 0s - loss: 175.2511 - mae: 175.2511 - mse: 164978.4688"
     ]
    },
    {
     "name": "stderr",
     "output_type": "stream",
     "text": [
      "WARNING:absl:Found untraced functions such as _update_step_xla while saving (showing 1 of 1). These functions will not be directly callable after loading.\n"
     ]
    },
    {
     "name": "stdout",
     "output_type": "stream",
     "text": [
      "INFO:tensorflow:Assets written to: model_experiments\\model_1_dense\\assets\n"
     ]
    },
    {
     "name": "stderr",
     "output_type": "stream",
     "text": [
      "INFO:tensorflow:Assets written to: model_experiments\\model_1_dense\\assets\n"
     ]
    },
    {
     "name": "stdout",
     "output_type": "stream",
     "text": [
      "18/18 [==============================] - 1s 56ms/step - loss: 174.3693 - mae: 174.3693 - mse: 161314.2656 - val_loss: 952.0773 - val_mae: 952.0775 - val_mse: 3012487.0000\n",
      "Epoch 12/100\n",
      "18/18 [==============================] - 0s 10ms/step - loss: 170.3847 - mae: 170.3847 - mse: 153121.2812 - val_loss: 1105.9299 - val_mae: 1105.9299 - val_mse: 3384498.5000\n",
      "Epoch 13/100\n",
      "18/18 [==============================] - ETA: 0s - loss: 169.9096 - mae: 169.9096 - mse: 154771.8281"
     ]
    },
    {
     "name": "stderr",
     "output_type": "stream",
     "text": [
      "WARNING:absl:Found untraced functions such as _update_step_xla while saving (showing 1 of 1). These functions will not be directly callable after loading.\n"
     ]
    },
    {
     "name": "stdout",
     "output_type": "stream",
     "text": [
      "INFO:tensorflow:Assets written to: model_experiments\\model_1_dense\\assets\n"
     ]
    },
    {
     "name": "stderr",
     "output_type": "stream",
     "text": [
      "INFO:tensorflow:Assets written to: model_experiments\\model_1_dense\\assets\n"
     ]
    },
    {
     "name": "stdout",
     "output_type": "stream",
     "text": [
      "18/18 [==============================] - 1s 48ms/step - loss: 169.9096 - mae: 169.9096 - mse: 154771.8281 - val_loss: 905.1431 - val_mae: 905.1431 - val_mse: 2686970.7500\n",
      "Epoch 14/100\n",
      " 1/18 [>.............................] - ETA: 0s - loss: 189.5857 - mae: 189.5857 - mse: 177341.0625"
     ]
    },
    {
     "name": "stderr",
     "output_type": "stream",
     "text": [
      "WARNING:absl:Found untraced functions such as _update_step_xla while saving (showing 1 of 1). These functions will not be directly callable after loading.\n"
     ]
    },
    {
     "name": "stdout",
     "output_type": "stream",
     "text": [
      "INFO:tensorflow:Assets written to: model_experiments\\model_1_dense\\assets\n"
     ]
    },
    {
     "name": "stderr",
     "output_type": "stream",
     "text": [
      "INFO:tensorflow:Assets written to: model_experiments\\model_1_dense\\assets\n"
     ]
    },
    {
     "name": "stdout",
     "output_type": "stream",
     "text": [
      "18/18 [==============================] - 1s 63ms/step - loss: 159.5723 - mae: 159.5723 - mse: 137843.0000 - val_loss: 905.0954 - val_mae: 905.0954 - val_mse: 2580751.5000\n",
      "Epoch 15/100\n",
      "18/18 [==============================] - 0s 10ms/step - loss: 160.7240 - mae: 160.7240 - mse: 137494.4219 - val_loss: 1007.5056 - val_mae: 1007.5056 - val_mse: 2840894.5000\n",
      "Epoch 16/100\n",
      " 1/18 [>.............................] - ETA: 0s - loss: 157.5920 - mae: 157.5920 - mse: 99638.1094"
     ]
    },
    {
     "name": "stderr",
     "output_type": "stream",
     "text": [
      "WARNING:absl:Found untraced functions such as _update_step_xla while saving (showing 1 of 1). These functions will not be directly callable after loading.\n"
     ]
    },
    {
     "name": "stdout",
     "output_type": "stream",
     "text": [
      "INFO:tensorflow:Assets written to: model_experiments\\model_1_dense\\assets\n"
     ]
    },
    {
     "name": "stderr",
     "output_type": "stream",
     "text": [
      "INFO:tensorflow:Assets written to: model_experiments\\model_1_dense\\assets\n"
     ]
    },
    {
     "name": "stdout",
     "output_type": "stream",
     "text": [
      "18/18 [==============================] - 1s 48ms/step - loss: 157.1239 - mae: 157.1239 - mse: 131626.5156 - val_loss: 848.8624 - val_mae: 848.8624 - val_mse: 2307141.0000\n",
      "Epoch 17/100\n",
      "14/18 [======================>.......] - ETA: 0s - loss: 147.4286 - mae: 147.4286 - mse: 118721.5547"
     ]
    },
    {
     "name": "stderr",
     "output_type": "stream",
     "text": [
      "WARNING:absl:Found untraced functions such as _update_step_xla while saving (showing 1 of 1). These functions will not be directly callable after loading.\n"
     ]
    },
    {
     "name": "stdout",
     "output_type": "stream",
     "text": [
      "INFO:tensorflow:Assets written to: model_experiments\\model_1_dense\\assets\n"
     ]
    },
    {
     "name": "stderr",
     "output_type": "stream",
     "text": [
      "INFO:tensorflow:Assets written to: model_experiments\\model_1_dense\\assets\n"
     ]
    },
    {
     "name": "stdout",
     "output_type": "stream",
     "text": [
      "18/18 [==============================] - 1s 54ms/step - loss: 149.3200 - mae: 149.3200 - mse: 121097.4219 - val_loss: 825.0844 - val_mae: 825.0844 - val_mse: 2189470.5000\n",
      "Epoch 18/100\n",
      " 1/18 [>.............................] - ETA: 0s - loss: 152.2730 - mae: 152.2730 - mse: 103695.5156"
     ]
    },
    {
     "name": "stderr",
     "output_type": "stream",
     "text": [
      "WARNING:absl:Found untraced functions such as _update_step_xla while saving (showing 1 of 1). These functions will not be directly callable after loading.\n"
     ]
    },
    {
     "name": "stdout",
     "output_type": "stream",
     "text": [
      "INFO:tensorflow:Assets written to: model_experiments\\model_1_dense\\assets\n"
     ]
    },
    {
     "name": "stderr",
     "output_type": "stream",
     "text": [
      "INFO:tensorflow:Assets written to: model_experiments\\model_1_dense\\assets\n"
     ]
    },
    {
     "name": "stdout",
     "output_type": "stream",
     "text": [
      "18/18 [==============================] - 1s 43ms/step - loss: 144.9763 - mae: 144.9763 - mse: 116483.5234 - val_loss: 810.1152 - val_mae: 810.1152 - val_mse: 2099029.5000\n",
      "Epoch 19/100\n",
      " 1/18 [>.............................] - ETA: 0s - loss: 82.9104 - mae: 82.9104 - mse: 37079.3438"
     ]
    },
    {
     "name": "stderr",
     "output_type": "stream",
     "text": [
      "WARNING:absl:Found untraced functions such as _update_step_xla while saving (showing 1 of 1). These functions will not be directly callable after loading.\n"
     ]
    },
    {
     "name": "stdout",
     "output_type": "stream",
     "text": [
      "INFO:tensorflow:Assets written to: model_experiments\\model_1_dense\\assets\n"
     ]
    },
    {
     "name": "stderr",
     "output_type": "stream",
     "text": [
      "INFO:tensorflow:Assets written to: model_experiments\\model_1_dense\\assets\n"
     ]
    },
    {
     "name": "stdout",
     "output_type": "stream",
     "text": [
      "18/18 [==============================] - 1s 44ms/step - loss: 141.1312 - mae: 141.1312 - mse: 111306.0781 - val_loss: 784.9943 - val_mae: 784.9943 - val_mse: 1996403.1250\n",
      "Epoch 20/100\n",
      " 1/18 [>.............................] - ETA: 0s - loss: 149.6286 - mae: 149.6286 - mse: 135412.2031"
     ]
    },
    {
     "name": "stderr",
     "output_type": "stream",
     "text": [
      "WARNING:absl:Found untraced functions such as _update_step_xla while saving (showing 1 of 1). These functions will not be directly callable after loading.\n"
     ]
    },
    {
     "name": "stdout",
     "output_type": "stream",
     "text": [
      "INFO:tensorflow:Assets written to: model_experiments\\model_1_dense\\assets\n"
     ]
    },
    {
     "name": "stderr",
     "output_type": "stream",
     "text": [
      "INFO:tensorflow:Assets written to: model_experiments\\model_1_dense\\assets\n"
     ]
    },
    {
     "name": "stdout",
     "output_type": "stream",
     "text": [
      "18/18 [==============================] - 1s 86ms/step - loss: 141.0331 - mae: 141.0331 - mse: 111912.4844 - val_loss: 759.7964 - val_mae: 759.7964 - val_mse: 1957176.6250\n",
      "Epoch 21/100\n",
      "13/18 [====================>.........] - ETA: 0s - loss: 141.5419 - mae: 141.5419 - mse: 105645.4062"
     ]
    },
    {
     "name": "stderr",
     "output_type": "stream",
     "text": [
      "WARNING:absl:Found untraced functions such as _update_step_xla while saving (showing 1 of 1). These functions will not be directly callable after loading.\n"
     ]
    },
    {
     "name": "stdout",
     "output_type": "stream",
     "text": [
      "INFO:tensorflow:Assets written to: model_experiments\\model_1_dense\\assets\n"
     ]
    },
    {
     "name": "stderr",
     "output_type": "stream",
     "text": [
      "INFO:tensorflow:Assets written to: model_experiments\\model_1_dense\\assets\n"
     ]
    },
    {
     "name": "stdout",
     "output_type": "stream",
     "text": [
      "18/18 [==============================] - 1s 48ms/step - loss: 141.4973 - mae: 141.4973 - mse: 110604.7969 - val_loss: 744.5723 - val_mae: 744.5723 - val_mse: 1837563.0000\n",
      "Epoch 22/100\n",
      " 1/18 [>.............................] - ETA: 0s - loss: 192.1605 - mae: 192.1605 - mse: 213196.3438"
     ]
    },
    {
     "name": "stderr",
     "output_type": "stream",
     "text": [
      "WARNING:absl:Found untraced functions such as _update_step_xla while saving (showing 1 of 1). These functions will not be directly callable after loading.\n"
     ]
    },
    {
     "name": "stdout",
     "output_type": "stream",
     "text": [
      "INFO:tensorflow:Assets written to: model_experiments\\model_1_dense\\assets\n"
     ]
    },
    {
     "name": "stderr",
     "output_type": "stream",
     "text": [
      "INFO:tensorflow:Assets written to: model_experiments\\model_1_dense\\assets\n"
     ]
    },
    {
     "name": "stdout",
     "output_type": "stream",
     "text": [
      "18/18 [==============================] - 1s 45ms/step - loss: 135.3165 - mae: 135.3165 - mse: 102753.8516 - val_loss: 730.1885 - val_mae: 730.1885 - val_mse: 1776995.5000\n",
      "Epoch 23/100\n",
      " 1/18 [>.............................] - ETA: 0s - loss: 150.7737 - mae: 150.7737 - mse: 103001.3906"
     ]
    },
    {
     "name": "stderr",
     "output_type": "stream",
     "text": [
      "WARNING:absl:Found untraced functions such as _update_step_xla while saving (showing 1 of 1). These functions will not be directly callable after loading.\n"
     ]
    },
    {
     "name": "stdout",
     "output_type": "stream",
     "text": [
      "INFO:tensorflow:Assets written to: model_experiments\\model_1_dense\\assets\n"
     ]
    },
    {
     "name": "stderr",
     "output_type": "stream",
     "text": [
      "INFO:tensorflow:Assets written to: model_experiments\\model_1_dense\\assets\n"
     ]
    },
    {
     "name": "stdout",
     "output_type": "stream",
     "text": [
      "18/18 [==============================] - 1s 44ms/step - loss: 133.4990 - mae: 133.4990 - mse: 99525.7812 - val_loss: 725.2820 - val_mae: 725.2820 - val_mse: 1734394.0000\n",
      "Epoch 24/100\n",
      " 1/18 [>.............................] - ETA: 0s - loss: 147.9784 - mae: 147.9784 - mse: 97086.9453"
     ]
    },
    {
     "name": "stderr",
     "output_type": "stream",
     "text": [
      "WARNING:absl:Found untraced functions such as _update_step_xla while saving (showing 1 of 1). These functions will not be directly callable after loading.\n"
     ]
    },
    {
     "name": "stdout",
     "output_type": "stream",
     "text": [
      "INFO:tensorflow:Assets written to: model_experiments\\model_1_dense\\assets\n"
     ]
    },
    {
     "name": "stderr",
     "output_type": "stream",
     "text": [
      "INFO:tensorflow:Assets written to: model_experiments\\model_1_dense\\assets\n"
     ]
    },
    {
     "name": "stdout",
     "output_type": "stream",
     "text": [
      "18/18 [==============================] - 1s 45ms/step - loss: 132.9074 - mae: 132.9074 - mse: 98570.1250 - val_loss: 703.9578 - val_mae: 703.9578 - val_mse: 1678812.8750\n",
      "Epoch 25/100\n",
      "18/18 [==============================] - 0s 5ms/step - loss: 135.1676 - mae: 135.1676 - mse: 97242.7734 - val_loss: 704.2468 - val_mae: 704.2468 - val_mse: 1696460.0000\n",
      "Epoch 26/100\n",
      "18/18 [==============================] - 0s 7ms/step - loss: 132.1337 - mae: 132.1337 - mse: 95533.1641 - val_loss: 710.7179 - val_mae: 710.7179 - val_mse: 1722327.1250\n",
      "Epoch 27/100\n",
      " 1/18 [>.............................] - ETA: 0s - loss: 196.0533 - mae: 196.0533 - mse: 177600.4375"
     ]
    },
    {
     "name": "stderr",
     "output_type": "stream",
     "text": [
      "WARNING:absl:Found untraced functions such as _update_step_xla while saving (showing 1 of 1). These functions will not be directly callable after loading.\n"
     ]
    },
    {
     "name": "stdout",
     "output_type": "stream",
     "text": [
      "INFO:tensorflow:Assets written to: model_experiments\\model_1_dense\\assets\n"
     ]
    },
    {
     "name": "stderr",
     "output_type": "stream",
     "text": [
      "INFO:tensorflow:Assets written to: model_experiments\\model_1_dense\\assets\n"
     ]
    },
    {
     "name": "stdout",
     "output_type": "stream",
     "text": [
      "18/18 [==============================] - 1s 50ms/step - loss: 130.4085 - mae: 130.4085 - mse: 94915.1172 - val_loss: 681.8040 - val_mae: 681.8040 - val_mse: 1598662.7500\n",
      "Epoch 28/100\n",
      "18/18 [==============================] - 0s 4ms/step - loss: 127.2826 - mae: 127.2826 - mse: 91111.6328 - val_loss: 682.2699 - val_mae: 682.2699 - val_mse: 1562786.5000\n",
      "Epoch 29/100\n",
      "18/18 [==============================] - 0s 10ms/step - loss: 125.4954 - mae: 125.4954 - mse: 89629.2266 - val_loss: 708.4170 - val_mae: 708.4170 - val_mse: 1613986.3750\n",
      "Epoch 30/100\n",
      "18/18 [==============================] - 0s 5ms/step - loss: 130.5779 - mae: 130.5779 - mse: 91760.5000 - val_loss: 731.3862 - val_mae: 731.3862 - val_mse: 1666387.7500\n",
      "Epoch 31/100\n",
      "18/18 [==============================] - 0s 4ms/step - loss: 137.9399 - mae: 137.9399 - mse: 96928.4297 - val_loss: 853.8484 - val_mae: 853.8484 - val_mse: 2043721.5000\n",
      "Epoch 32/100\n",
      "18/18 [==============================] - 0s 4ms/step - loss: 133.9428 - mae: 133.9428 - mse: 92316.3906 - val_loss: 686.4258 - val_mae: 686.4258 - val_mse: 1540890.5000\n",
      "Epoch 33/100\n",
      "18/18 [==============================] - 0s 4ms/step - loss: 123.1038 - mae: 123.1038 - mse: 84119.4062 - val_loss: 683.2159 - val_mae: 683.2159 - val_mse: 1527868.3750\n",
      "Epoch 34/100\n",
      " 1/18 [>.............................] - ETA: 0s - loss: 139.3683 - mae: 139.3683 - mse: 118952.3281"
     ]
    },
    {
     "name": "stderr",
     "output_type": "stream",
     "text": [
      "WARNING:absl:Found untraced functions such as _update_step_xla while saving (showing 1 of 1). These functions will not be directly callable after loading.\n"
     ]
    },
    {
     "name": "stdout",
     "output_type": "stream",
     "text": [
      "INFO:tensorflow:Assets written to: model_experiments\\model_1_dense\\assets\n"
     ]
    },
    {
     "name": "stderr",
     "output_type": "stream",
     "text": [
      "INFO:tensorflow:Assets written to: model_experiments\\model_1_dense\\assets\n"
     ]
    },
    {
     "name": "stdout",
     "output_type": "stream",
     "text": [
      "18/18 [==============================] - 1s 59ms/step - loss: 124.5342 - mae: 124.5342 - mse: 87466.3203 - val_loss: 644.4610 - val_mae: 644.4610 - val_mse: 1440930.0000\n",
      "Epoch 35/100\n",
      " 1/18 [>.............................] - ETA: 0s - loss: 103.2353 - mae: 103.2353 - mse: 55513.9844"
     ]
    },
    {
     "name": "stderr",
     "output_type": "stream",
     "text": [
      "WARNING:absl:Found untraced functions such as _update_step_xla while saving (showing 1 of 1). These functions will not be directly callable after loading.\n"
     ]
    },
    {
     "name": "stdout",
     "output_type": "stream",
     "text": [
      "INFO:tensorflow:Assets written to: model_experiments\\model_1_dense\\assets\n"
     ]
    },
    {
     "name": "stderr",
     "output_type": "stream",
     "text": [
      "INFO:tensorflow:Assets written to: model_experiments\\model_1_dense\\assets\n"
     ]
    },
    {
     "name": "stdout",
     "output_type": "stream",
     "text": [
      "18/18 [==============================] - 1s 41ms/step - loss: 119.9175 - mae: 119.9175 - mse: 84151.4062 - val_loss: 642.6091 - val_mae: 642.6091 - val_mse: 1440188.3750\n",
      "Epoch 36/100\n",
      "18/18 [==============================] - 0s 3ms/step - loss: 126.6927 - mae: 126.6927 - mse: 87392.2656 - val_loss: 692.8871 - val_mae: 692.8871 - val_mse: 1537456.1250\n",
      "Epoch 37/100\n",
      "18/18 [==============================] - 0s 4ms/step - loss: 122.4420 - mae: 122.4420 - mse: 85021.5078 - val_loss: 662.9973 - val_mae: 662.9973 - val_mse: 1509095.5000\n",
      "Epoch 38/100\n",
      " 1/18 [>.............................] - ETA: 0s - loss: 115.7505 - mae: 115.7505 - mse: 75697.4609"
     ]
    },
    {
     "name": "stderr",
     "output_type": "stream",
     "text": [
      "WARNING:absl:Found untraced functions such as _update_step_xla while saving (showing 1 of 1). These functions will not be directly callable after loading.\n"
     ]
    },
    {
     "name": "stdout",
     "output_type": "stream",
     "text": [
      "INFO:tensorflow:Assets written to: model_experiments\\model_1_dense\\assets\n"
     ]
    },
    {
     "name": "stderr",
     "output_type": "stream",
     "text": [
      "INFO:tensorflow:Assets written to: model_experiments\\model_1_dense\\assets\n"
     ]
    },
    {
     "name": "stdout",
     "output_type": "stream",
     "text": [
      "18/18 [==============================] - 1s 53ms/step - loss: 121.1891 - mae: 121.1891 - mse: 84880.1250 - val_loss: 635.9137 - val_mae: 635.9137 - val_mse: 1396408.3750\n",
      "Epoch 39/100\n",
      " 1/18 [>.............................] - ETA: 0s - loss: 130.4823 - mae: 130.4823 - mse: 107212.8438"
     ]
    },
    {
     "name": "stderr",
     "output_type": "stream",
     "text": [
      "WARNING:absl:Found untraced functions such as _update_step_xla while saving (showing 1 of 1). These functions will not be directly callable after loading.\n"
     ]
    },
    {
     "name": "stdout",
     "output_type": "stream",
     "text": [
      "INFO:tensorflow:Assets written to: model_experiments\\model_1_dense\\assets\n"
     ]
    },
    {
     "name": "stderr",
     "output_type": "stream",
     "text": [
      "INFO:tensorflow:Assets written to: model_experiments\\model_1_dense\\assets\n"
     ]
    },
    {
     "name": "stdout",
     "output_type": "stream",
     "text": [
      "18/18 [==============================] - 1s 40ms/step - loss: 119.1690 - mae: 119.1690 - mse: 82741.7188 - val_loss: 632.5483 - val_mae: 632.5483 - val_mse: 1403335.3750\n",
      "Epoch 40/100\n",
      " 1/18 [>.............................] - ETA: 0s - loss: 109.3603 - mae: 109.3603 - mse: 105274.2031"
     ]
    },
    {
     "name": "stderr",
     "output_type": "stream",
     "text": [
      "WARNING:absl:Found untraced functions such as _update_step_xla while saving (showing 1 of 1). These functions will not be directly callable after loading.\n"
     ]
    },
    {
     "name": "stdout",
     "output_type": "stream",
     "text": [
      "INFO:tensorflow:Assets written to: model_experiments\\model_1_dense\\assets\n"
     ]
    },
    {
     "name": "stderr",
     "output_type": "stream",
     "text": [
      "INFO:tensorflow:Assets written to: model_experiments\\model_1_dense\\assets\n"
     ]
    },
    {
     "name": "stdout",
     "output_type": "stream",
     "text": [
      "18/18 [==============================] - 1s 50ms/step - loss: 119.5924 - mae: 119.5924 - mse: 81957.8047 - val_loss: 629.4961 - val_mae: 629.4961 - val_mse: 1392240.6250\n",
      "Epoch 41/100\n",
      "18/18 [==============================] - 0s 5ms/step - loss: 122.7009 - mae: 122.7009 - mse: 83890.5078 - val_loss: 658.8821 - val_mae: 658.8821 - val_mse: 1481397.1250\n",
      "Epoch 42/100\n",
      "18/18 [==============================] - 0s 4ms/step - loss: 124.6744 - mae: 124.6744 - mse: 86081.0000 - val_loss: 631.1104 - val_mae: 631.1104 - val_mse: 1398016.8750\n",
      "Epoch 43/100\n",
      "18/18 [==============================] - 0s 4ms/step - loss: 117.1638 - mae: 117.1638 - mse: 79591.6250 - val_loss: 636.5634 - val_mae: 636.5634 - val_mse: 1411823.1250\n",
      "Epoch 44/100\n",
      " 1/18 [>.............................] - ETA: 0s - loss: 73.1118 - mae: 73.1118 - mse: 19362.5977"
     ]
    },
    {
     "name": "stderr",
     "output_type": "stream",
     "text": [
      "WARNING:absl:Found untraced functions such as _update_step_xla while saving (showing 1 of 1). These functions will not be directly callable after loading.\n"
     ]
    },
    {
     "name": "stdout",
     "output_type": "stream",
     "text": [
      "INFO:tensorflow:Assets written to: model_experiments\\model_1_dense\\assets\n"
     ]
    },
    {
     "name": "stderr",
     "output_type": "stream",
     "text": [
      "INFO:tensorflow:Assets written to: model_experiments\\model_1_dense\\assets\n"
     ]
    },
    {
     "name": "stdout",
     "output_type": "stream",
     "text": [
      "18/18 [==============================] - 1s 71ms/step - loss: 118.5055 - mae: 118.5055 - mse: 80554.6797 - val_loss: 620.5840 - val_mae: 620.5840 - val_mse: 1359306.6250\n",
      "Epoch 45/100\n",
      "18/18 [==============================] - 0s 5ms/step - loss: 119.3130 - mae: 119.3130 - mse: 82288.5547 - val_loss: 637.9014 - val_mae: 637.9014 - val_mse: 1372785.7500\n",
      "Epoch 46/100\n",
      " 1/18 [>.............................] - ETA: 0s - loss: 91.8922 - mae: 91.8922 - mse: 57115.5703"
     ]
    },
    {
     "name": "stderr",
     "output_type": "stream",
     "text": [
      "WARNING:absl:Found untraced functions such as _update_step_xla while saving (showing 1 of 1). These functions will not be directly callable after loading.\n"
     ]
    },
    {
     "name": "stdout",
     "output_type": "stream",
     "text": [
      "INFO:tensorflow:Assets written to: model_experiments\\model_1_dense\\assets\n"
     ]
    },
    {
     "name": "stderr",
     "output_type": "stream",
     "text": [
      "INFO:tensorflow:Assets written to: model_experiments\\model_1_dense\\assets\n"
     ]
    },
    {
     "name": "stdout",
     "output_type": "stream",
     "text": [
      "18/18 [==============================] - 1s 53ms/step - loss: 118.6076 - mae: 118.6076 - mse: 80900.7734 - val_loss: 616.8311 - val_mae: 616.8311 - val_mse: 1327819.5000\n",
      "Epoch 47/100\n",
      "18/18 [==============================] - 0s 6ms/step - loss: 120.9625 - mae: 120.9625 - mse: 83483.1484 - val_loss: 698.0241 - val_mae: 698.0241 - val_mse: 1521106.1250\n",
      "Epoch 48/100\n",
      "18/18 [==============================] - 0s 4ms/step - loss: 116.9901 - mae: 116.9901 - mse: 78725.3047 - val_loss: 617.4734 - val_mae: 617.4734 - val_mse: 1321238.2500\n",
      "Epoch 49/100\n",
      "18/18 [==============================] - 0s 4ms/step - loss: 117.5563 - mae: 117.5563 - mse: 80236.7109 - val_loss: 676.3707 - val_mae: 676.3707 - val_mse: 1459110.5000\n",
      "Epoch 50/100\n",
      "18/18 [==============================] - 0s 4ms/step - loss: 135.0732 - mae: 135.0732 - mse: 87728.1406 - val_loss: 635.0325 - val_mae: 635.0325 - val_mse: 1354260.2500\n",
      "Epoch 51/100\n",
      "18/18 [==============================] - 0s 4ms/step - loss: 115.8946 - mae: 115.8946 - mse: 76377.3672 - val_loss: 625.0444 - val_mae: 625.0444 - val_mse: 1329624.6250\n",
      "Epoch 52/100\n",
      "18/18 [==============================] - 0s 4ms/step - loss: 118.7046 - mae: 118.7046 - mse: 81793.2422 - val_loss: 636.5943 - val_mae: 636.5943 - val_mse: 1386481.3750\n",
      "Epoch 53/100\n",
      " 1/18 [>.............................] - ETA: 0s - loss: 65.2191 - mae: 65.2191 - mse: 22954.0957"
     ]
    },
    {
     "name": "stderr",
     "output_type": "stream",
     "text": [
      "WARNING:absl:Found untraced functions such as _update_step_xla while saving (showing 1 of 1). These functions will not be directly callable after loading.\n"
     ]
    },
    {
     "name": "stdout",
     "output_type": "stream",
     "text": [
      "INFO:tensorflow:Assets written to: model_experiments\\model_1_dense\\assets\n"
     ]
    },
    {
     "name": "stderr",
     "output_type": "stream",
     "text": [
      "INFO:tensorflow:Assets written to: model_experiments\\model_1_dense\\assets\n"
     ]
    },
    {
     "name": "stdout",
     "output_type": "stream",
     "text": [
      "18/18 [==============================] - 1s 45ms/step - loss: 120.1368 - mae: 120.1368 - mse: 80544.6250 - val_loss: 613.7180 - val_mae: 613.7180 - val_mse: 1301253.8750\n",
      "Epoch 54/100\n",
      "18/18 [==============================] - 0s 10ms/step - loss: 119.4502 - mae: 119.4502 - mse: 79935.1016 - val_loss: 651.9584 - val_mae: 651.9584 - val_mse: 1387428.8750\n",
      "Epoch 55/100\n",
      " 1/18 [>.............................] - ETA: 0s - loss: 138.0572 - mae: 138.0572 - mse: 98618.1250"
     ]
    },
    {
     "name": "stderr",
     "output_type": "stream",
     "text": [
      "WARNING:absl:Found untraced functions such as _update_step_xla while saving (showing 1 of 1). These functions will not be directly callable after loading.\n"
     ]
    },
    {
     "name": "stdout",
     "output_type": "stream",
     "text": [
      "INFO:tensorflow:Assets written to: model_experiments\\model_1_dense\\assets\n"
     ]
    },
    {
     "name": "stderr",
     "output_type": "stream",
     "text": [
      "INFO:tensorflow:Assets written to: model_experiments\\model_1_dense\\assets\n"
     ]
    },
    {
     "name": "stdout",
     "output_type": "stream",
     "text": [
      "18/18 [==============================] - 1s 62ms/step - loss: 117.9019 - mae: 117.9019 - mse: 79481.6797 - val_loss: 608.0829 - val_mae: 608.0829 - val_mse: 1309418.6250\n",
      "Epoch 56/100\n",
      "18/18 [==============================] - 0s 6ms/step - loss: 113.8500 - mae: 113.8500 - mse: 76479.2734 - val_loss: 806.6090 - val_mae: 806.6090 - val_mse: 1918446.7500\n",
      "Epoch 57/100\n",
      "18/18 [==============================] - 0s 6ms/step - loss: 134.7850 - mae: 134.7850 - mse: 92500.4531 - val_loss: 732.6119 - val_mae: 732.6119 - val_mse: 1657892.6250\n",
      "Epoch 58/100\n",
      "18/18 [==============================] - 0s 6ms/step - loss: 126.8406 - mae: 126.8406 - mse: 85323.6016 - val_loss: 653.8862 - val_mae: 653.8862 - val_mse: 1415952.2500\n",
      "Epoch 59/100\n",
      "12/18 [===================>..........] - ETA: 0s - loss: 112.7436 - mae: 112.7436 - mse: 78171.9531"
     ]
    },
    {
     "name": "stderr",
     "output_type": "stream",
     "text": [
      "WARNING:absl:Found untraced functions such as _update_step_xla while saving (showing 1 of 1). These functions will not be directly callable after loading.\n"
     ]
    },
    {
     "name": "stdout",
     "output_type": "stream",
     "text": [
      "INFO:tensorflow:Assets written to: model_experiments\\model_1_dense\\assets\n"
     ]
    },
    {
     "name": "stderr",
     "output_type": "stream",
     "text": [
      "INFO:tensorflow:Assets written to: model_experiments\\model_1_dense\\assets\n"
     ]
    },
    {
     "name": "stdout",
     "output_type": "stream",
     "text": [
      "18/18 [==============================] - 1s 87ms/step - loss: 114.3456 - mae: 114.3456 - mse: 75894.6094 - val_loss: 603.2684 - val_mae: 603.2684 - val_mse: 1291524.6250\n",
      "Epoch 60/100\n",
      "18/18 [==============================] - 0s 12ms/step - loss: 113.7244 - mae: 113.7244 - mse: 76473.1016 - val_loss: 603.7241 - val_mae: 603.7241 - val_mse: 1271072.6250\n",
      "Epoch 61/100\n",
      "18/18 [==============================] - 0s 6ms/step - loss: 112.7511 - mae: 112.7511 - mse: 76063.3359 - val_loss: 607.7527 - val_mae: 607.7527 - val_mse: 1276417.3750\n",
      "Epoch 62/100\n",
      " 1/18 [>.............................] - ETA: 0s - loss: 78.9516 - mae: 78.9516 - mse: 42996.9648"
     ]
    },
    {
     "name": "stderr",
     "output_type": "stream",
     "text": [
      "WARNING:absl:Found untraced functions such as _update_step_xla while saving (showing 1 of 1). These functions will not be directly callable after loading.\n"
     ]
    },
    {
     "name": "stdout",
     "output_type": "stream",
     "text": [
      "INFO:tensorflow:Assets written to: model_experiments\\model_1_dense\\assets\n"
     ]
    },
    {
     "name": "stderr",
     "output_type": "stream",
     "text": [
      "INFO:tensorflow:Assets written to: model_experiments\\model_1_dense\\assets\n"
     ]
    },
    {
     "name": "stdout",
     "output_type": "stream",
     "text": [
      "18/18 [==============================] - 1s 67ms/step - loss: 111.5149 - mae: 111.5149 - mse: 74247.8594 - val_loss: 598.2030 - val_mae: 598.2030 - val_mse: 1274131.2500\n",
      "Epoch 63/100\n",
      "18/18 [==============================] - 0s 6ms/step - loss: 113.5972 - mae: 113.5972 - mse: 76142.7812 - val_loss: 602.4269 - val_mae: 602.4269 - val_mse: 1263787.0000\n",
      "Epoch 64/100\n",
      "18/18 [==============================] - 0s 4ms/step - loss: 113.1852 - mae: 113.1852 - mse: 75227.7969 - val_loss: 618.3867 - val_mae: 618.3867 - val_mse: 1295485.0000\n",
      "Epoch 65/100\n",
      " 1/18 [>.............................] - ETA: 0s - loss: 133.2272 - mae: 133.2272 - mse: 157716.7656"
     ]
    },
    {
     "name": "stderr",
     "output_type": "stream",
     "text": [
      "WARNING:absl:Found untraced functions such as _update_step_xla while saving (showing 1 of 1). These functions will not be directly callable after loading.\n"
     ]
    },
    {
     "name": "stdout",
     "output_type": "stream",
     "text": [
      "INFO:tensorflow:Assets written to: model_experiments\\model_1_dense\\assets\n"
     ]
    },
    {
     "name": "stderr",
     "output_type": "stream",
     "text": [
      "INFO:tensorflow:Assets written to: model_experiments\\model_1_dense\\assets\n"
     ]
    },
    {
     "name": "stdout",
     "output_type": "stream",
     "text": [
      "18/18 [==============================] - 1s 46ms/step - loss: 116.7842 - mae: 116.7842 - mse: 76793.7266 - val_loss: 587.7099 - val_mae: 587.7099 - val_mse: 1243522.8750\n",
      "Epoch 66/100\n",
      "18/18 [==============================] - 0s 11ms/step - loss: 114.8641 - mae: 114.8641 - mse: 74621.0312 - val_loss: 591.2753 - val_mae: 591.2753 - val_mse: 1252373.6250\n",
      "Epoch 67/100\n",
      "18/18 [==============================] - 0s 10ms/step - loss: 111.6639 - mae: 111.6639 - mse: 73232.1172 - val_loss: 679.8810 - val_mae: 679.8810 - val_mse: 1467059.6250\n",
      "Epoch 68/100\n",
      "18/18 [==============================] - 0s 8ms/step - loss: 116.4464 - mae: 116.4464 - mse: 73391.7891 - val_loss: 744.4190 - val_mae: 744.4190 - val_mse: 1671962.0000\n",
      "Epoch 69/100\n",
      "18/18 [==============================] - 0s 6ms/step - loss: 132.2703 - mae: 132.2703 - mse: 87871.3828 - val_loss: 699.2435 - val_mae: 699.2435 - val_mse: 1524126.6250\n",
      "Epoch 70/100\n",
      "18/18 [==============================] - 0s 8ms/step - loss: 123.7720 - mae: 123.7720 - mse: 81863.3125 - val_loss: 589.9658 - val_mae: 589.9658 - val_mse: 1247335.8750\n",
      "Epoch 71/100\n",
      "18/18 [==============================] - 0s 5ms/step - loss: 113.9396 - mae: 113.9396 - mse: 74149.5000 - val_loss: 599.7769 - val_mae: 599.7769 - val_mse: 1251740.0000\n",
      "Epoch 72/100\n",
      " 1/18 [>.............................] - ETA: 0s - loss: 98.9778 - mae: 98.9778 - mse: 67871.1484"
     ]
    },
    {
     "name": "stderr",
     "output_type": "stream",
     "text": [
      "WARNING:absl:Found untraced functions such as _update_step_xla while saving (showing 1 of 1). These functions will not be directly callable after loading.\n"
     ]
    },
    {
     "name": "stdout",
     "output_type": "stream",
     "text": [
      "INFO:tensorflow:Assets written to: model_experiments\\model_1_dense\\assets\n"
     ]
    },
    {
     "name": "stderr",
     "output_type": "stream",
     "text": [
      "INFO:tensorflow:Assets written to: model_experiments\\model_1_dense\\assets\n"
     ]
    },
    {
     "name": "stdout",
     "output_type": "stream",
     "text": [
      "18/18 [==============================] - 1s 57ms/step - loss: 111.3534 - mae: 111.3534 - mse: 73631.6875 - val_loss: 585.1522 - val_mae: 585.1522 - val_mse: 1228076.1250\n",
      "Epoch 73/100\n",
      "18/18 [==============================] - 0s 8ms/step - loss: 112.6930 - mae: 112.6930 - mse: 73891.1641 - val_loss: 636.9014 - val_mae: 636.9014 - val_mse: 1350206.2500\n",
      "Epoch 74/100\n",
      " 1/18 [>.............................] - ETA: 0s - loss: 169.7133 - mae: 169.7133 - mse: 178324.5938"
     ]
    },
    {
     "name": "stderr",
     "output_type": "stream",
     "text": [
      "WARNING:absl:Found untraced functions such as _update_step_xla while saving (showing 1 of 1). These functions will not be directly callable after loading.\n"
     ]
    },
    {
     "name": "stdout",
     "output_type": "stream",
     "text": [
      "INFO:tensorflow:Assets written to: model_experiments\\model_1_dense\\assets\n"
     ]
    },
    {
     "name": "stderr",
     "output_type": "stream",
     "text": [
      "INFO:tensorflow:Assets written to: model_experiments\\model_1_dense\\assets\n"
     ]
    },
    {
     "name": "stdout",
     "output_type": "stream",
     "text": [
      "18/18 [==============================] - 1s 45ms/step - loss: 110.5595 - mae: 110.5595 - mse: 73387.5938 - val_loss: 584.4964 - val_mae: 584.4964 - val_mse: 1231342.8750\n",
      "Epoch 75/100\n",
      "18/18 [==============================] - 0s 5ms/step - loss: 111.1291 - mae: 111.1291 - mse: 72961.2188 - val_loss: 597.2874 - val_mae: 597.2874 - val_mse: 1242257.2500\n",
      "Epoch 76/100\n",
      " 1/18 [>.............................] - ETA: 0s - loss: 80.9615 - mae: 80.9615 - mse: 29210.3867"
     ]
    },
    {
     "name": "stderr",
     "output_type": "stream",
     "text": [
      "WARNING:absl:Found untraced functions such as _update_step_xla while saving (showing 1 of 1). These functions will not be directly callable after loading.\n"
     ]
    },
    {
     "name": "stdout",
     "output_type": "stream",
     "text": [
      "INFO:tensorflow:Assets written to: model_experiments\\model_1_dense\\assets\n"
     ]
    },
    {
     "name": "stderr",
     "output_type": "stream",
     "text": [
      "INFO:tensorflow:Assets written to: model_experiments\\model_1_dense\\assets\n"
     ]
    },
    {
     "name": "stdout",
     "output_type": "stream",
     "text": [
      "18/18 [==============================] - 1s 75ms/step - loss: 113.3444 - mae: 113.3444 - mse: 74898.8906 - val_loss: 582.8467 - val_mae: 582.8467 - val_mse: 1224813.1250\n",
      "Epoch 77/100\n",
      "18/18 [==============================] - 0s 6ms/step - loss: 110.9476 - mae: 110.9476 - mse: 72417.5078 - val_loss: 591.9425 - val_mae: 591.9425 - val_mse: 1244111.0000\n",
      "Epoch 78/100\n",
      "18/18 [==============================] - 0s 5ms/step - loss: 114.6244 - mae: 114.6244 - mse: 75383.2344 - val_loss: 610.1310 - val_mae: 610.1310 - val_mse: 1264168.1250\n",
      "Epoch 79/100\n",
      "18/18 [==============================] - 0s 5ms/step - loss: 110.4056 - mae: 110.4056 - mse: 73931.3203 - val_loss: 628.2992 - val_mae: 628.2992 - val_mse: 1318873.3750\n",
      "Epoch 80/100\n",
      "18/18 [==============================] - 0s 5ms/step - loss: 111.1091 - mae: 111.1091 - mse: 73532.3828 - val_loss: 603.2129 - val_mae: 603.2129 - val_mse: 1247780.5000\n",
      "Epoch 81/100\n",
      "18/18 [==============================] - 0s 4ms/step - loss: 109.1832 - mae: 109.1832 - mse: 71626.5312 - val_loss: 599.4958 - val_mae: 599.4958 - val_mse: 1239046.8750\n",
      "Epoch 82/100\n",
      " 1/18 [>.............................] - ETA: 0s - loss: 200.6393 - mae: 200.6393 - mse: 239651.8438"
     ]
    },
    {
     "name": "stderr",
     "output_type": "stream",
     "text": [
      "WARNING:absl:Found untraced functions such as _update_step_xla while saving (showing 1 of 1). These functions will not be directly callable after loading.\n"
     ]
    },
    {
     "name": "stdout",
     "output_type": "stream",
     "text": [
      "INFO:tensorflow:Assets written to: model_experiments\\model_1_dense\\assets\n"
     ]
    },
    {
     "name": "stderr",
     "output_type": "stream",
     "text": [
      "INFO:tensorflow:Assets written to: model_experiments\\model_1_dense\\assets\n"
     ]
    },
    {
     "name": "stdout",
     "output_type": "stream",
     "text": [
      "18/18 [==============================] - 1s 59ms/step - loss: 116.4781 - mae: 116.4781 - mse: 77700.4062 - val_loss: 578.9484 - val_mae: 578.9484 - val_mse: 1204725.3750\n",
      "Epoch 83/100\n",
      "18/18 [==============================] - 0s 5ms/step - loss: 114.3931 - mae: 114.3931 - mse: 75445.8281 - val_loss: 664.5399 - val_mae: 664.5399 - val_mse: 1410117.2500\n",
      "Epoch 84/100\n",
      "18/18 [==============================] - 0s 5ms/step - loss: 113.8804 - mae: 113.8804 - mse: 73057.1797 - val_loss: 608.7894 - val_mae: 608.7894 - val_mse: 1270481.5000\n",
      "Epoch 85/100\n",
      "18/18 [==============================] - 0s 6ms/step - loss: 110.8611 - mae: 110.8611 - mse: 72458.4844 - val_loss: 624.7332 - val_mae: 624.7332 - val_mse: 1286635.5000\n",
      "Epoch 86/100\n",
      "18/18 [==============================] - 0s 5ms/step - loss: 109.7541 - mae: 109.7541 - mse: 70674.4297 - val_loss: 607.0733 - val_mae: 607.0733 - val_mse: 1251584.7500\n",
      "Epoch 87/100\n",
      "18/18 [==============================] - 0s 5ms/step - loss: 108.6530 - mae: 108.6530 - mse: 69861.7500 - val_loss: 620.7435 - val_mae: 620.7435 - val_mse: 1292648.2500\n",
      "Epoch 88/100\n",
      "18/18 [==============================] - 0s 6ms/step - loss: 109.4396 - mae: 109.4396 - mse: 72650.0312 - val_loss: 580.0598 - val_mae: 580.0598 - val_mse: 1210237.0000\n",
      "Epoch 89/100\n",
      " 1/18 [>.............................] - ETA: 0s - loss: 101.7985 - mae: 101.7985 - mse: 62198.5820"
     ]
    },
    {
     "name": "stderr",
     "output_type": "stream",
     "text": [
      "WARNING:absl:Found untraced functions such as _update_step_xla while saving (showing 1 of 1). These functions will not be directly callable after loading.\n"
     ]
    },
    {
     "name": "stdout",
     "output_type": "stream",
     "text": [
      "INFO:tensorflow:Assets written to: model_experiments\\model_1_dense\\assets\n"
     ]
    },
    {
     "name": "stderr",
     "output_type": "stream",
     "text": [
      "INFO:tensorflow:Assets written to: model_experiments\\model_1_dense\\assets\n"
     ]
    },
    {
     "name": "stdout",
     "output_type": "stream",
     "text": [
      "18/18 [==============================] - 1s 52ms/step - loss: 108.9353 - mae: 108.9353 - mse: 70818.2266 - val_loss: 573.3650 - val_mae: 573.3650 - val_mse: 1195144.1250\n",
      "Epoch 90/100\n",
      "18/18 [==============================] - 0s 6ms/step - loss: 108.2294 - mae: 108.2294 - mse: 68478.9062 - val_loss: 616.4083 - val_mae: 616.4083 - val_mse: 1264152.3750\n",
      "Epoch 91/100\n",
      "18/18 [==============================] - 0s 5ms/step - loss: 113.9224 - mae: 113.9224 - mse: 73841.8516 - val_loss: 661.2878 - val_mae: 661.2878 - val_mse: 1394841.7500\n",
      "Epoch 92/100\n",
      "18/18 [==============================] - 0s 5ms/step - loss: 110.1197 - mae: 110.1197 - mse: 71940.3516 - val_loss: 652.1838 - val_mae: 652.1838 - val_mse: 1370697.2500\n",
      "Epoch 93/100\n",
      "18/18 [==============================] - 0s 5ms/step - loss: 119.2315 - mae: 119.2315 - mse: 75998.5859 - val_loss: 657.3577 - val_mae: 657.3577 - val_mse: 1383093.6250\n",
      "Epoch 94/100\n",
      "18/18 [==============================] - 0s 6ms/step - loss: 112.2807 - mae: 112.2807 - mse: 73514.7109 - val_loss: 585.4832 - val_mae: 585.4832 - val_mse: 1204118.3750\n",
      "Epoch 95/100\n",
      " 1/18 [>.............................] - ETA: 0s - loss: 137.0520 - mae: 137.0520 - mse: 114159.6094"
     ]
    },
    {
     "name": "stderr",
     "output_type": "stream",
     "text": [
      "WARNING:absl:Found untraced functions such as _update_step_xla while saving (showing 1 of 1). These functions will not be directly callable after loading.\n"
     ]
    },
    {
     "name": "stdout",
     "output_type": "stream",
     "text": [
      "INFO:tensorflow:Assets written to: model_experiments\\model_1_dense\\assets\n"
     ]
    },
    {
     "name": "stderr",
     "output_type": "stream",
     "text": [
      "INFO:tensorflow:Assets written to: model_experiments\\model_1_dense\\assets\n"
     ]
    },
    {
     "name": "stdout",
     "output_type": "stream",
     "text": [
      "18/18 [==============================] - 1s 69ms/step - loss: 107.5167 - mae: 107.5167 - mse: 69571.5000 - val_loss: 570.1768 - val_mae: 570.1768 - val_mse: 1184536.6250\n",
      "Epoch 96/100\n",
      "18/18 [==============================] - 0s 6ms/step - loss: 114.8537 - mae: 114.8537 - mse: 73203.6328 - val_loss: 702.6754 - val_mae: 702.6754 - val_mse: 1507538.0000\n",
      "Epoch 97/100\n",
      "18/18 [==============================] - 0s 5ms/step - loss: 111.0783 - mae: 111.0783 - mse: 73562.2578 - val_loss: 589.8061 - val_mae: 589.8061 - val_mse: 1211167.8750\n",
      "Epoch 98/100\n",
      "18/18 [==============================] - 0s 5ms/step - loss: 110.8947 - mae: 110.8947 - mse: 72316.8281 - val_loss: 595.4794 - val_mae: 595.4794 - val_mse: 1232217.5000\n",
      "Epoch 99/100\n",
      "18/18 [==============================] - 0s 6ms/step - loss: 108.5504 - mae: 108.5504 - mse: 71184.2344 - val_loss: 575.3597 - val_mae: 575.3597 - val_mse: 1183689.0000\n",
      "Epoch 100/100\n",
      "18/18 [==============================] - 0s 6ms/step - loss: 115.2950 - mae: 115.2950 - mse: 72409.2500 - val_loss: 699.7551 - val_mae: 699.7551 - val_mse: 1456603.0000\n"
     ]
    },
    {
     "data": {
      "text/plain": [
       "<keras.callbacks.History at 0x1faaebbd880>"
      ]
     },
     "execution_count": 98,
     "metadata": {},
     "output_type": "execute_result"
    }
   ],
   "source": [
    "import tensorflow as tf\n",
    "from tensorflow.keras import layers\n",
    "\n",
    "# Set random seed for as reproducible results as possible\n",
    "tf.random.set_seed(42)\n",
    "\n",
    "# 1. Construct the model\n",
    "model_1 = tf.keras.Sequential([\n",
    "  layers.Dense(128, activation=\"relu\"),\n",
    "  layers.Dense(HORIZON, activation=\"linear\") # linear activation is the same as having no activation               \n",
    "], name=\"model_1_dense\") # name our model so we can save it\n",
    "\n",
    "# 2. Compile the model\n",
    "model_1.compile(loss=\"mae\",\n",
    "                optimizer=tf.keras.optimizers.Adam(),\n",
    "                metrics=[\"mae\", \"mse\"])\n",
    "\n",
    "# 3. Fit the model\n",
    "model_1.fit(x=train_windows,\n",
    "            y=train_labels,\n",
    "            epochs=100,\n",
    "            verbose=1,\n",
    "            batch_size=128,\n",
    "            validation_data=(test_windows, test_labels),\n",
    "            callbacks=[create_model_checkpoint(model_name=model_1.name)])"
   ]
  },
  {
   "cell_type": "code",
   "execution_count": 99,
   "metadata": {},
   "outputs": [
    {
     "name": "stdout",
     "output_type": "stream",
     "text": [
      "18/18 [==============================] - 0s 2ms/step - loss: 699.7551 - mae: 699.7551 - mse: 1456603.1250\n"
     ]
    },
    {
     "data": {
      "text/plain": [
       "[699.755126953125, 699.755126953125, 1456603.125]"
      ]
     },
     "execution_count": 99,
     "metadata": {},
     "output_type": "execute_result"
    }
   ],
   "source": [
    "# Evaluate model on test data\n",
    "model_1.evaluate(test_windows, test_labels)"
   ]
  },
  {
   "cell_type": "code",
   "execution_count": 100,
   "metadata": {},
   "outputs": [
    {
     "name": "stdout",
     "output_type": "stream",
     "text": [
      "18/18 [==============================] - 1s 7ms/step - loss: 570.1768 - mae: 570.1768 - mse: 1184536.6250\n"
     ]
    },
    {
     "data": {
      "text/plain": [
       "[570.1767578125, 570.1767578125, 1184536.625]"
      ]
     },
     "execution_count": 100,
     "metadata": {},
     "output_type": "execute_result"
    }
   ],
   "source": [
    "# Load in saved best performing model_1 and evaluate it on test data\n",
    "model_1 = tf.keras.models.load_model(\"model_experiments/model_1_dense/\")\n",
    "model_1.evaluate(test_windows, test_labels)"
   ]
  }
 ],
 "metadata": {
  "kernelspec": {
   "display_name": "Python 3",
   "language": "python",
   "name": "python3"
  },
  "language_info": {
   "codemirror_mode": {
    "name": "ipython",
    "version": 3
   },
   "file_extension": ".py",
   "mimetype": "text/x-python",
   "name": "python",
   "nbconvert_exporter": "python",
   "pygments_lexer": "ipython3",
   "version": "3.8.10"
  },
  "orig_nbformat": 4
 },
 "nbformat": 4,
 "nbformat_minor": 2
}

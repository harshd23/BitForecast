{
 "cells": [
  {
   "attachments": {},
   "cell_type": "markdown",
   "metadata": {},
   "source": [
    "# BitForecast 💰📈"
   ]
  },
  {
   "attachments": {},
   "cell_type": "markdown",
   "metadata": {},
   "source": [
    "## Getting data\n",
    "\n",
    "Using the historical price data of Bitcoin to try and predict the future price of Bitcoin, we downloaded the data from here: https://www.coindesk.com/price/bitcoin"
   ]
  },
  {
   "attachments": {},
   "cell_type": "markdown",
   "metadata": {},
   "source": [
    "## Importing time series with pandas"
   ]
  },
  {
   "cell_type": "code",
   "execution_count": 1,
   "metadata": {},
   "outputs": [
    {
     "data": {
      "text/html": [
       "<div>\n",
       "<style scoped>\n",
       "    .dataframe tbody tr th:only-of-type {\n",
       "        vertical-align: middle;\n",
       "    }\n",
       "\n",
       "    .dataframe tbody tr th {\n",
       "        vertical-align: top;\n",
       "    }\n",
       "\n",
       "    .dataframe thead th {\n",
       "        text-align: right;\n",
       "    }\n",
       "</style>\n",
       "<table border=\"1\" class=\"dataframe\">\n",
       "  <thead>\n",
       "    <tr style=\"text-align: right;\">\n",
       "      <th></th>\n",
       "      <th>Currency</th>\n",
       "      <th>Closing Price (USD)</th>\n",
       "      <th>24h Open (USD)</th>\n",
       "      <th>24h High (USD)</th>\n",
       "      <th>24h Low (USD)</th>\n",
       "    </tr>\n",
       "    <tr>\n",
       "      <th>Date</th>\n",
       "      <th></th>\n",
       "      <th></th>\n",
       "      <th></th>\n",
       "      <th></th>\n",
       "      <th></th>\n",
       "    </tr>\n",
       "  </thead>\n",
       "  <tbody>\n",
       "    <tr>\n",
       "      <th>2013-10-01</th>\n",
       "      <td>BTC</td>\n",
       "      <td>123.65499</td>\n",
       "      <td>124.30466</td>\n",
       "      <td>124.75166</td>\n",
       "      <td>122.56349</td>\n",
       "    </tr>\n",
       "    <tr>\n",
       "      <th>2013-10-02</th>\n",
       "      <td>BTC</td>\n",
       "      <td>125.45500</td>\n",
       "      <td>123.65499</td>\n",
       "      <td>125.75850</td>\n",
       "      <td>123.63383</td>\n",
       "    </tr>\n",
       "    <tr>\n",
       "      <th>2013-10-03</th>\n",
       "      <td>BTC</td>\n",
       "      <td>108.58483</td>\n",
       "      <td>125.45500</td>\n",
       "      <td>125.66566</td>\n",
       "      <td>83.32833</td>\n",
       "    </tr>\n",
       "    <tr>\n",
       "      <th>2013-10-04</th>\n",
       "      <td>BTC</td>\n",
       "      <td>118.67466</td>\n",
       "      <td>108.58483</td>\n",
       "      <td>118.67500</td>\n",
       "      <td>107.05816</td>\n",
       "    </tr>\n",
       "    <tr>\n",
       "      <th>2013-10-05</th>\n",
       "      <td>BTC</td>\n",
       "      <td>121.33866</td>\n",
       "      <td>118.67466</td>\n",
       "      <td>121.93633</td>\n",
       "      <td>118.00566</td>\n",
       "    </tr>\n",
       "  </tbody>\n",
       "</table>\n",
       "</div>"
      ],
      "text/plain": [
       "           Currency  Closing Price (USD)  24h Open (USD)  24h High (USD)  \\\n",
       "Date                                                                       \n",
       "2013-10-01      BTC            123.65499       124.30466       124.75166   \n",
       "2013-10-02      BTC            125.45500       123.65499       125.75850   \n",
       "2013-10-03      BTC            108.58483       125.45500       125.66566   \n",
       "2013-10-04      BTC            118.67466       108.58483       118.67500   \n",
       "2013-10-05      BTC            121.33866       118.67466       121.93633   \n",
       "\n",
       "            24h Low (USD)  \n",
       "Date                       \n",
       "2013-10-01      122.56349  \n",
       "2013-10-02      123.63383  \n",
       "2013-10-03       83.32833  \n",
       "2013-10-04      107.05816  \n",
       "2013-10-05      118.00566  "
      ]
     },
     "execution_count": 1,
     "metadata": {},
     "output_type": "execute_result"
    }
   ],
   "source": [
    "# Import with pandas\n",
    "import pandas as pd \n",
    "# Read Bitcoin data and parse the dates\n",
    "df = pd.read_csv(\"BTC_USD_CoinDesk.csv\",\n",
    "                 parse_dates=[\"Date\"],\n",
    "                 index_col=[\"Date\"]) # parse the date column and tell pandas column 1 is a datetime \n",
    "\n",
    "df.head()"
   ]
  },
  {
   "cell_type": "code",
   "execution_count": 2,
   "metadata": {},
   "outputs": [
    {
     "data": {
      "text/html": [
       "<div>\n",
       "<style scoped>\n",
       "    .dataframe tbody tr th:only-of-type {\n",
       "        vertical-align: middle;\n",
       "    }\n",
       "\n",
       "    .dataframe tbody tr th {\n",
       "        vertical-align: top;\n",
       "    }\n",
       "\n",
       "    .dataframe thead th {\n",
       "        text-align: right;\n",
       "    }\n",
       "</style>\n",
       "<table border=\"1\" class=\"dataframe\">\n",
       "  <thead>\n",
       "    <tr style=\"text-align: right;\">\n",
       "      <th></th>\n",
       "      <th>Currency</th>\n",
       "      <th>Closing Price (USD)</th>\n",
       "      <th>24h Open (USD)</th>\n",
       "      <th>24h High (USD)</th>\n",
       "      <th>24h Low (USD)</th>\n",
       "    </tr>\n",
       "    <tr>\n",
       "      <th>Date</th>\n",
       "      <th></th>\n",
       "      <th></th>\n",
       "      <th></th>\n",
       "      <th></th>\n",
       "      <th></th>\n",
       "    </tr>\n",
       "  </thead>\n",
       "  <tbody>\n",
       "    <tr>\n",
       "      <th>2021-05-14</th>\n",
       "      <td>BTC</td>\n",
       "      <td>49764.132082</td>\n",
       "      <td>49596.778891</td>\n",
       "      <td>51448.798576</td>\n",
       "      <td>46294.720180</td>\n",
       "    </tr>\n",
       "    <tr>\n",
       "      <th>2021-05-15</th>\n",
       "      <td>BTC</td>\n",
       "      <td>50032.693137</td>\n",
       "      <td>49717.354353</td>\n",
       "      <td>51578.312545</td>\n",
       "      <td>48944.346536</td>\n",
       "    </tr>\n",
       "    <tr>\n",
       "      <th>2021-05-16</th>\n",
       "      <td>BTC</td>\n",
       "      <td>47885.625255</td>\n",
       "      <td>49926.035067</td>\n",
       "      <td>50690.802950</td>\n",
       "      <td>47005.102292</td>\n",
       "    </tr>\n",
       "    <tr>\n",
       "      <th>2021-05-17</th>\n",
       "      <td>BTC</td>\n",
       "      <td>45604.615754</td>\n",
       "      <td>46805.537852</td>\n",
       "      <td>49670.414174</td>\n",
       "      <td>43868.638969</td>\n",
       "    </tr>\n",
       "    <tr>\n",
       "      <th>2021-05-18</th>\n",
       "      <td>BTC</td>\n",
       "      <td>43144.471291</td>\n",
       "      <td>46439.336570</td>\n",
       "      <td>46622.853437</td>\n",
       "      <td>42102.346430</td>\n",
       "    </tr>\n",
       "  </tbody>\n",
       "</table>\n",
       "</div>"
      ],
      "text/plain": [
       "           Currency  Closing Price (USD)  24h Open (USD)  24h High (USD)  \\\n",
       "Date                                                                       \n",
       "2021-05-14      BTC         49764.132082    49596.778891    51448.798576   \n",
       "2021-05-15      BTC         50032.693137    49717.354353    51578.312545   \n",
       "2021-05-16      BTC         47885.625255    49926.035067    50690.802950   \n",
       "2021-05-17      BTC         45604.615754    46805.537852    49670.414174   \n",
       "2021-05-18      BTC         43144.471291    46439.336570    46622.853437   \n",
       "\n",
       "            24h Low (USD)  \n",
       "Date                       \n",
       "2021-05-14   46294.720180  \n",
       "2021-05-15   48944.346536  \n",
       "2021-05-16   47005.102292  \n",
       "2021-05-17   43868.638969  \n",
       "2021-05-18   42102.346430  "
      ]
     },
     "execution_count": 2,
     "metadata": {},
     "output_type": "execute_result"
    }
   ],
   "source": [
    "df.tail()"
   ]
  },
  {
   "cell_type": "code",
   "execution_count": 3,
   "metadata": {},
   "outputs": [
    {
     "name": "stdout",
     "output_type": "stream",
     "text": [
      "<class 'pandas.core.frame.DataFrame'>\n",
      "DatetimeIndex: 2787 entries, 2013-10-01 to 2021-05-18\n",
      "Data columns (total 5 columns):\n",
      " #   Column               Non-Null Count  Dtype  \n",
      "---  ------               --------------  -----  \n",
      " 0   Currency             2787 non-null   object \n",
      " 1   Closing Price (USD)  2787 non-null   float64\n",
      " 2   24h Open (USD)       2787 non-null   float64\n",
      " 3   24h High (USD)       2787 non-null   float64\n",
      " 4   24h Low (USD)        2787 non-null   float64\n",
      "dtypes: float64(4), object(1)\n",
      "memory usage: 130.6+ KB\n"
     ]
    }
   ],
   "source": [
    "df.info()"
   ]
  },
  {
   "cell_type": "code",
   "execution_count": 4,
   "metadata": {},
   "outputs": [
    {
     "data": {
      "text/plain": [
       "2787"
      ]
     },
     "execution_count": 4,
     "metadata": {},
     "output_type": "execute_result"
    }
   ],
   "source": [
    "# How many samples do we have?\n",
    "len(df)"
   ]
  },
  {
   "attachments": {},
   "cell_type": "markdown",
   "metadata": {},
   "source": [
    "Typically deep learning models usually performs better on lots of samples.\n",
    "\n",
    "A smaller number of samples is something you'll often run into with time series data problems.\n",
    "\n",
    "> **NOTE:** The **seasonality** of a time series dataset is referred as the number of samples per year. So for our Bitcoin data, it has a seaonality of daily or value of 365 because we collect one sample per day meaning we'll get 365 samples per year."
   ]
  },
  {
   "cell_type": "code",
   "execution_count": 5,
   "metadata": {},
   "outputs": [
    {
     "data": {
      "text/html": [
       "<div>\n",
       "<style scoped>\n",
       "    .dataframe tbody tr th:only-of-type {\n",
       "        vertical-align: middle;\n",
       "    }\n",
       "\n",
       "    .dataframe tbody tr th {\n",
       "        vertical-align: top;\n",
       "    }\n",
       "\n",
       "    .dataframe thead th {\n",
       "        text-align: right;\n",
       "    }\n",
       "</style>\n",
       "<table border=\"1\" class=\"dataframe\">\n",
       "  <thead>\n",
       "    <tr style=\"text-align: right;\">\n",
       "      <th></th>\n",
       "      <th>Price</th>\n",
       "    </tr>\n",
       "    <tr>\n",
       "      <th>Date</th>\n",
       "      <th></th>\n",
       "    </tr>\n",
       "  </thead>\n",
       "  <tbody>\n",
       "    <tr>\n",
       "      <th>2013-10-01</th>\n",
       "      <td>123.65499</td>\n",
       "    </tr>\n",
       "    <tr>\n",
       "      <th>2013-10-02</th>\n",
       "      <td>125.45500</td>\n",
       "    </tr>\n",
       "    <tr>\n",
       "      <th>2013-10-03</th>\n",
       "      <td>108.58483</td>\n",
       "    </tr>\n",
       "    <tr>\n",
       "      <th>2013-10-04</th>\n",
       "      <td>118.67466</td>\n",
       "    </tr>\n",
       "    <tr>\n",
       "      <th>2013-10-05</th>\n",
       "      <td>121.33866</td>\n",
       "    </tr>\n",
       "  </tbody>\n",
       "</table>\n",
       "</div>"
      ],
      "text/plain": [
       "                Price\n",
       "Date                 \n",
       "2013-10-01  123.65499\n",
       "2013-10-02  125.45500\n",
       "2013-10-03  108.58483\n",
       "2013-10-04  118.67466\n",
       "2013-10-05  121.33866"
      ]
     },
     "execution_count": 5,
     "metadata": {},
     "output_type": "execute_result"
    }
   ],
   "source": [
    "# Only want closing price for each day\n",
    "bitcoin_prices = pd.DataFrame(df[\"Closing Price (USD)\"]).rename(columns={\"Closing Price (USD)\": \"Price\"})\n",
    "bitcoin_prices.head()"
   ]
  },
  {
   "cell_type": "code",
   "execution_count": 6,
   "metadata": {},
   "outputs": [
    {
     "data": {
      "image/png": "[encoded data removed]",
      "text/plain": [
       "<Figure size 800x600 with 1 Axes>"
      ]
     },
     "metadata": {},
     "output_type": "display_data"
    }
   ],
   "source": [
    "import matplotlib.pyplot as plt\n",
    "bitcoin_prices.plot(figsize=(8, 6))\n",
    "plt.ylabel(\"BTC Price\")\n",
    "plt.title(\"Price of Bitcoin from 1 Oct 2013 to 18 May 2021\", fontsize=16)\n",
    "plt.legend(fontsize=14);"
   ]
  },
  {
   "attachments": {},
   "cell_type": "markdown",
   "metadata": {},
   "source": [
    "## Importing time series data with Python's CSV module"
   ]
  },
  {
   "cell_type": "code",
   "execution_count": 7,
   "metadata": {},
   "outputs": [
    {
     "data": {
      "text/plain": [
       "([datetime.datetime(2013, 10, 1, 0, 0),\n",
       "  datetime.datetime(2013, 10, 2, 0, 0),\n",
       "  datetime.datetime(2013, 10, 3, 0, 0),\n",
       "  datetime.datetime(2013, 10, 4, 0, 0),\n",
       "  datetime.datetime(2013, 10, 5, 0, 0),\n",
       "  datetime.datetime(2013, 10, 6, 0, 0),\n",
       "  datetime.datetime(2013, 10, 7, 0, 0),\n",
       "  datetime.datetime(2013, 10, 8, 0, 0),\n",
       "  datetime.datetime(2013, 10, 9, 0, 0),\n",
       "  datetime.datetime(2013, 10, 10, 0, 0)],\n",
       " [123.65499,\n",
       "  125.455,\n",
       "  108.58483,\n",
       "  118.67466,\n",
       "  121.33866,\n",
       "  120.65533,\n",
       "  121.795,\n",
       "  123.033,\n",
       "  124.049,\n",
       "  125.96116])"
      ]
     },
     "execution_count": 7,
     "metadata": {},
     "output_type": "execute_result"
    }
   ],
   "source": [
    "# Importing and formatting historical Bitcoin data with Python\n",
    "import csv\n",
    "from datetime import datetime\n",
    "\n",
    "timesteps = []\n",
    "btc_price = []\n",
    "with open(\"BTC_USD_CoinDesk.csv\", \"r\") as f:\n",
    "  csv_reader = csv.reader(f, delimiter=\",\")\n",
    "  next(csv_reader) # skip first line (this skips all of the column titles)\n",
    "  for line in csv_reader:\n",
    "    timesteps.append(datetime.strptime(line[1], \"%Y-%m-%d\")) # get the dates as dates (not strings)\n",
    "    btc_price.append(float(line[2])) # get the closing price as float\n",
    "\n",
    "# View first 10 of each\n",
    "timesteps[:10], btc_price[:10]"
   ]
  },
  {
   "cell_type": "code",
   "execution_count": 8,
   "metadata": {},
   "outputs": [
    {
     "data": {
      "image/png": "[encoded data removed]",
      "text/plain": [
       "<Figure size 1000x700 with 1 Axes>"
      ]
     },
     "metadata": {},
     "output_type": "display_data"
    }
   ],
   "source": [
    "# Plot from CSV\n",
    "import matplotlib.pyplot as plt\n",
    "# import numpy as np\n",
    "plt.figure(figsize=(10,7))\n",
    "plt.plot(timesteps, btc_price)\n",
    "plt.ylabel(\"BTC Price\")\n",
    "plt.title(\"Price of Bitcoin from 1 Oct 2013 to 18 May 2021\", fontsize=16)\n",
    "plt.xlabel(\"Date\");"
   ]
  },
  {
   "attachments": {},
   "cell_type": "markdown",
   "metadata": {},
   "source": [
    "## Format data part 1: Create train and test sets of our time series data"
   ]
  },
  {
   "attachments": {},
   "cell_type": "markdown",
   "metadata": {},
   "source": [
    "### Creating train and test sets with time series data (NOT RECOMMENDED)"
   ]
  },
  {
   "cell_type": "code",
   "execution_count": 9,
   "metadata": {},
   "outputs": [
    {
     "data": {
      "text/html": [
       "<div>\n",
       "<style scoped>\n",
       "    .dataframe tbody tr th:only-of-type {\n",
       "        vertical-align: middle;\n",
       "    }\n",
       "\n",
       "    .dataframe tbody tr th {\n",
       "        vertical-align: top;\n",
       "    }\n",
       "\n",
       "    .dataframe thead th {\n",
       "        text-align: right;\n",
       "    }\n",
       "</style>\n",
       "<table border=\"1\" class=\"dataframe\">\n",
       "  <thead>\n",
       "    <tr style=\"text-align: right;\">\n",
       "      <th></th>\n",
       "      <th>Price</th>\n",
       "    </tr>\n",
       "    <tr>\n",
       "      <th>Date</th>\n",
       "      <th></th>\n",
       "    </tr>\n",
       "  </thead>\n",
       "  <tbody>\n",
       "    <tr>\n",
       "      <th>2013-10-01</th>\n",
       "      <td>123.65499</td>\n",
       "    </tr>\n",
       "    <tr>\n",
       "      <th>2013-10-02</th>\n",
       "      <td>125.45500</td>\n",
       "    </tr>\n",
       "    <tr>\n",
       "      <th>2013-10-03</th>\n",
       "      <td>108.58483</td>\n",
       "    </tr>\n",
       "    <tr>\n",
       "      <th>2013-10-04</th>\n",
       "      <td>118.67466</td>\n",
       "    </tr>\n",
       "    <tr>\n",
       "      <th>2013-10-05</th>\n",
       "      <td>121.33866</td>\n",
       "    </tr>\n",
       "  </tbody>\n",
       "</table>\n",
       "</div>"
      ],
      "text/plain": [
       "                Price\n",
       "Date                 \n",
       "2013-10-01  123.65499\n",
       "2013-10-02  125.45500\n",
       "2013-10-03  108.58483\n",
       "2013-10-04  118.67466\n",
       "2013-10-05  121.33866"
      ]
     },
     "execution_count": 9,
     "metadata": {},
     "output_type": "execute_result"
    }
   ],
   "source": [
    "bitcoin_prices[:5]"
   ]
  },
  {
   "cell_type": "code",
   "execution_count": 10,
   "metadata": {},
   "outputs": [
    {
     "data": {
      "text/plain": [
       "(array(['2013-10-01T00:00:00.000000000', '2013-10-02T00:00:00.000000000',\n",
       "        '2013-10-03T00:00:00.000000000', '2013-10-04T00:00:00.000000000',\n",
       "        '2013-10-05T00:00:00.000000000', '2013-10-06T00:00:00.000000000',\n",
       "        '2013-10-07T00:00:00.000000000', '2013-10-08T00:00:00.000000000',\n",
       "        '2013-10-09T00:00:00.000000000', '2013-10-10T00:00:00.000000000'],\n",
       "       dtype='datetime64[ns]'),\n",
       " array([123.65499, 125.455  , 108.58483, 118.67466, 121.33866, 120.65533,\n",
       "        121.795  , 123.033  , 124.049  , 125.96116]))"
      ]
     },
     "execution_count": 10,
     "metadata": {},
     "output_type": "execute_result"
    }
   ],
   "source": [
    "# Get bitcoin date array\n",
    "timesteps = bitcoin_prices.index.to_numpy()\n",
    "prices = bitcoin_prices[\"Price\"].to_numpy()\n",
    "\n",
    "timesteps[:10], prices[:10]"
   ]
  },
  {
   "cell_type": "code",
   "execution_count": 11,
   "metadata": {},
   "outputs": [
    {
     "data": {
      "text/plain": [
       "((2229,), (558,), (2229,), (558,))"
      ]
     },
     "execution_count": 11,
     "metadata": {},
     "output_type": "execute_result"
    }
   ],
   "source": [
    "# Method 1 to make train/test sets for time series data (NOT RECOMMENDED)\n",
    "from sklearn.model_selection import train_test_split\n",
    "\n",
    "X_train, X_test, y_train, y_test = train_test_split(timesteps, # dates\n",
    "                                                    prices, # BTC prices\n",
    "                                                    test_size=0.2,\n",
    "                                                    random_state=42)\n",
    "\n",
    "X_train.shape, X_test.shape, y_train.shape, y_test.shape"
   ]
  },
  {
   "cell_type": "code",
   "execution_count": 12,
   "metadata": {},
   "outputs": [
    {
     "data": {
      "image/png": "[encoded data removed]",
      "text/plain": [
       "<Figure size 1000x700 with 1 Axes>"
      ]
     },
     "metadata": {},
     "output_type": "display_data"
    }
   ],
   "source": [
    "# Let's plot wrong train and test splits\n",
    "plt.figure(figsize=(10, 7))\n",
    "plt.scatter(X_train, y_train, s=5, label=\"Train data\")\n",
    "plt.scatter(X_test, y_test, s=5, label=\"Test data\")\n",
    "plt.xlabel(\"Date\")\n",
    "plt.ylabel(\"BTC Price\")\n",
    "plt.legend(fontsize=14)\n",
    "plt.show();"
   ]
  },
  {
   "attachments": {},
   "cell_type": "markdown",
   "metadata": {},
   "source": [
    "**NOTE:** The below method is always recommended to be used during the time series data analysis. Since, the above method using the sklearn train and test split will split the data randomly which will lead to data from (pseudo) future leaks into past and we need the data in a way such that we will predict the future value of the bitcoin, hence we need to split the data manually."
   ]
  },
  {
   "attachments": {},
   "cell_type": "markdown",
   "metadata": {},
   "source": [
    "### Create train & test sets for time series (RECOMMENDED)"
   ]
  },
  {
   "cell_type": "code",
   "execution_count": 15,
   "metadata": {},
   "outputs": [
    {
     "data": {
      "text/plain": [
       "(2229, 558, 2229, 558)"
      ]
     },
     "execution_count": 15,
     "metadata": {},
     "output_type": "execute_result"
    }
   ],
   "source": [
    "# Create train and test splits the correct way for time series data\n",
    "split_size = int(0.8 * len(prices)) # 80% train, 20% test (can be changed as per needed)\n",
    "\n",
    "# Create train data splits (everything before the split)\n",
    "X_train, y_train = timesteps[:split_size], prices[:split_size]\n",
    "\n",
    "# Create test data splits (everything beyond the split)\n",
    "X_test, y_test = timesteps[split_size:], prices[split_size:]\n",
    "\n",
    "len(X_train), len(X_test), len(y_train), len(y_test)"
   ]
  },
  {
   "cell_type": "code",
   "execution_count": 16,
   "metadata": {},
   "outputs": [
    {
     "data": {
      "image/png": "[encoded data removed]",
      "text/plain": [
       "<Figure size 1000x700 with 1 Axes>"
      ]
     },
     "metadata": {},
     "output_type": "display_data"
    }
   ],
   "source": [
    "# Plot correctly made splits\n",
    "plt.figure(figsize=(10,7))\n",
    "plt.scatter(X_train, y_train, s=5, label=\"Train data\")\n",
    "plt.scatter(X_test, y_test, s=5, label=\"Test data\")\n",
    "plt.xlabel(\"Date\")\n",
    "plt.ylabel(\"BTC Price\")\n",
    "plt.legend(fontsize=14)\n",
    "plt.show();"
   ]
  },
  {
   "attachments": {},
   "cell_type": "markdown",
   "metadata": {},
   "source": [
    "## Create a plotting function"
   ]
  },
  {
   "cell_type": "code",
   "execution_count": 17,
   "metadata": {},
   "outputs": [],
   "source": [
    "# Create a function to plot time series data\n",
    "def plot_time_series(timesteps, values, format=\".\", start=0, end=None, label=None):\n",
    "  \"\"\"\n",
    "  Plots timesteps (a series of points in time) against values (a series of values across timesteps).\n",
    "\n",
    "  Parameters\n",
    "  ----------\n",
    "  timesteps : array of timestep values\n",
    "  values : array of values across time\n",
    "  format : style of plot, default \".\"\n",
    "  start : where to start the plot (setting a value will index from start of timesteps & values)\n",
    "  end : where to end the plot (similar to start but for the end)\n",
    "  label : label to show on plot about values, default None \n",
    "  \"\"\"\n",
    "  # Plot the series\n",
    "  plt.plot(timesteps[start:end], values[start:end], format, label=label)\n",
    "  plt.xlabel(\"Time\")\n",
    "  plt.ylabel(\"BTC Price\")\n",
    "  if label:\n",
    "    plt.legend(fontsize=14) # make label bigger\n",
    "  plt.grid(True)"
   ]
  },
  {
   "cell_type": "code",
   "execution_count": 18,
   "metadata": {},
   "outputs": [
    {
     "data": {
      "image/png": "[encoded data removed]",
      "text/plain": [
       "<Figure size 800x600 with 1 Axes>"
      ]
     },
     "metadata": {},
     "output_type": "display_data"
    }
   ],
   "source": [
    "# Test out plotting function\n",
    "plt.figure(figsize=(8, 6))\n",
    "plot_time_series(timesteps=X_train, values=y_train, label=\"Train data\")\n",
    "plot_time_series(timesteps=X_test, values=y_test, label=\"Test data\")"
   ]
  },
  {
   "attachments": {},
   "cell_type": "markdown",
   "metadata": {},
   "source": [
    "## Modelling Experiments\n",
    "\n",
    "We have got some Bitcoin historical data, to model it, let's run a series of modelling experiments and see which model performs best.\n",
    "\n",
    "**IMPORTANT TERMS:**\n",
    "* **Window size** = number of timesteps we're going to use to predict **horizon**\n",
    "* **Horizon** = number of timesteps into the future we're going to predict\n",
    "\n",
    "Modelling experiments, We will build:\n",
    "* Model 0 - Naive model (baseline)\t\n",
    "* Model 1 - Dense model, window = 7, horizon = 1\n",
    "* Model 2 - Same as 1, \twindow = 30, horizon = 1\n",
    "* Model 3 - Same as 1, \twindow = 30, horizon = 7\n",
    "* Model 4 - Conv1D, window = 7, horizon = 1\n",
    "* Model 5 - LSTM, window = 7, horizon = 1\n",
    "* Model 6 - Same as 1 Dense model (but with multivariate data), window = 7, horizon = 1\n",
    "* Model 7 - N-BEATs Algorithm, window = 7, horizon = 1\n",
    "* Model 8 - Ensemble (multiple models optimized on different loss functions), window = 7, horizon = 1\n",
    "* Model 9 - Future prediction model (model to predict future values), window = 7, horizon = 1\n",
    "* Model 10 - Same as 1 (but with turkey data introduced), window = 7, horizon = 1"
   ]
  },
  {
   "attachments": {},
   "cell_type": "markdown",
   "metadata": {},
   "source": [
    "## Model 0: Naive forecast (baseline)\n",
    "\n",
    "The formula looks like this:\n",
    "$$\\hat{y}_{t} = y_{t-1}$$\n",
    "> The prediction at timestep t (y-hat) is equal to the value at timestep t-1 (previous timestep) - this is for a horizon of 1."
   ]
  },
  {
   "cell_type": "code",
   "execution_count": 19,
   "metadata": {},
   "outputs": [
    {
     "data": {
      "text/plain": [
       "array([9226.48582088, 8794.35864452, 8798.04205463, 9081.18687849,\n",
       "       8711.53433917, 8760.89271814, 8749.52059102, 8656.97092235,\n",
       "       8500.64355816, 8469.2608989 ])"
      ]
     },
     "execution_count": 19,
     "metadata": {},
     "output_type": "execute_result"
    }
   ],
   "source": [
    "# Test Set Prices of Bitcoin\n",
    "y_test[:10]"
   ]
  },
  {
   "cell_type": "code",
   "execution_count": 20,
   "metadata": {},
   "outputs": [
    {
     "data": {
      "text/plain": [
       "(array([9226.48582088, 8794.35864452, 8798.04205463, 9081.18687849,\n",
       "        8711.53433917, 8760.89271814, 8749.52059102, 8656.97092235,\n",
       "        8500.64355816, 8469.2608989 ]),\n",
       " array([57107.12067189, 58788.20967893, 58102.19142623, 55715.54665129,\n",
       "        56573.5554719 , 52147.82118698, 49764.1320816 , 50032.69313676,\n",
       "        47885.62525472, 45604.61575361]))"
      ]
     },
     "execution_count": 20,
     "metadata": {},
     "output_type": "execute_result"
    }
   ],
   "source": [
    "# Create a naive forecast \n",
    "naive_forecast = y_test[:-1]\n",
    "\n",
    "# NOTE: Since, in the naive forecast model predicts the future forecast as from the previous forecast  y(t) = y(t-1) \n",
    "naive_forecast[:10], naive_forecast[-10:]"
   ]
  },
  {
   "cell_type": "code",
   "execution_count": 21,
   "metadata": {},
   "outputs": [
    {
     "data": {
      "text/plain": [
       "array([58788.20967893, 58102.19142623, 55715.54665129, 56573.5554719 ,\n",
       "       52147.82118698, 49764.1320816 , 50032.69313676, 47885.62525472,\n",
       "       45604.61575361, 43144.47129086])"
      ]
     },
     "execution_count": 21,
     "metadata": {},
     "output_type": "execute_result"
    }
   ],
   "source": [
    "y_test[-10:]"
   ]
  },
  {
   "cell_type": "code",
   "execution_count": 26,
   "metadata": {},
   "outputs": [
    {
     "data": {
      "image/png": "[encoded data removed]",
      "text/plain": [
       "<Figure size 800x600 with 1 Axes>"
      ]
     },
     "metadata": {},
     "output_type": "display_data"
    }
   ],
   "source": [
    "# Plot naive forecast\n",
    "plt.figure(figsize=(8, 6))\n",
    "# plot_time_series(timesteps=X_train, values=y_train, label=\"Train data\")\n",
    "plot_time_series(timesteps=X_test, values=y_test, start=350, format=\"-\", label=\"Test data\")\n",
    "plot_time_series(timesteps=X_test[1:], values=naive_forecast, start=350, format=\"-\", label=\"Naive Forecast\")"
   ]
  },
  {
   "attachments": {},
   "cell_type": "markdown",
   "metadata": {},
   "source": [
    "## Evaluating a time series model\n",
    "\n",
    "Some evaluation metrics for time series forecasting. \n",
    "\n",
    "Since, we are predicting a number, so that means we have a form of a regression problem.\n",
    "\n",
    "Because we are working on a regression problem, we will require some regression-like metrics.\n",
    "\n",
    "A few common regression metrics (which can also be used for time series forecasting):\n",
    "* MAE - mean absolute error\n",
    "* MSE - mean squared error\n",
    "* RMSE - root mean square error\n",
    "* MAPE/sMAPE - (symmetric) mean absolute percentage error\n",
    "* MASE - mean absolute scaled error\n",
    "\n",
    "For all of the above metrics, **lower is better**, for example, an MAE of 0 that is better than an MAE of 100.\n",
    "\n",
    "The important thing evaluating here is: **how do model's forecasts (y_pred) compare against the actual values (y_true or ground truth values)?**\n",
    "\n",
    "> **IMPORTANT RESOURCE:** For a deeper dive on the various kinds of time series forecasting methods see [Forecasting: Principles and Practice chapter 5.8](https://otexts.com/fpp3/accuracy.html) "
   ]
  },
  {
   "cell_type": "code",
   "execution_count": 27,
   "metadata": {},
   "outputs": [],
   "source": [
    "import tensorflow as tf"
   ]
  },
  {
   "cell_type": "code",
   "execution_count": 28,
   "metadata": {},
   "outputs": [],
   "source": [
    "# MASE implementation\n",
    "# A scaled error is >1 if the forecast is worse than the naive and <1 if the forecast is better than the naive.\n",
    "def mean_absolute_scaled_error(y_true, y_pred):\n",
    "  \"\"\"\n",
    "  Implement MASE (assuming no seasonality of data).\n",
    "  \"\"\"\n",
    "  mae = tf.reduce_mean(tf.abs(y_true-y_pred))\n",
    "\n",
    "  # Find MAE of naive forecast (no seasonality)\n",
    "  mae_naive_no_season = tf.reduce_mean(tf.abs(y_true[1:] - y_true[:-1])) # our seasonality is 1 day (hence the shift of 1)\n",
    "\n",
    "  return mae / mae_naive_no_season"
   ]
  },
  {
   "cell_type": "code",
   "execution_count": 29,
   "metadata": {},
   "outputs": [
    {
     "data": {
      "text/plain": [
       "0.9995699939182626"
      ]
     },
     "execution_count": 29,
     "metadata": {},
     "output_type": "execute_result"
    }
   ],
   "source": [
    "# Test MASE (this value should = 1 or be very close to 1 with the naive forecast)\n",
    "mean_absolute_scaled_error(y_true=y_test[1:], y_pred=naive_forecast).numpy()"
   ]
  },
  {
   "attachments": {},
   "cell_type": "markdown",
   "metadata": {},
   "source": [
    "### Evaluation function with various metrics"
   ]
  },
  {
   "cell_type": "code",
   "execution_count": 30,
   "metadata": {},
   "outputs": [],
   "source": [
    "# Create a function to take in model predictions and truth values and return evaluation metrics\n",
    "def evaluate_preds(y_true, y_pred):\n",
    "  # Make sure float32 datatype (for metric calculations with TensorFlow)\n",
    "  y_true = tf.cast(y_true, dtype=tf.float32)\n",
    "  y_pred = tf.cast(y_pred, dtype=tf.float32)\n",
    "\n",
    "  # Calculate various evaluation metrics \n",
    "  mae = tf.keras.metrics.mean_absolute_error(y_true, y_pred)\n",
    "  mse = tf.keras.metrics.mean_squared_error(y_true, y_pred)\n",
    "  rmse = tf.sqrt(mse)\n",
    "  mape = tf.keras.metrics.mean_absolute_percentage_error(y_true, y_pred)\n",
    "  mase = mean_absolute_scaled_error(y_true, y_pred)\n",
    "\n",
    "  return {\"mae\": mae.numpy(),\n",
    "          \"mse\": mse.numpy(),\n",
    "          \"rmse\": rmse.numpy(),\n",
    "          \"mape\": mape.numpy(),\n",
    "          \"mase\": mase.numpy()}"
   ]
  },
  {
   "cell_type": "code",
   "execution_count": 31,
   "metadata": {},
   "outputs": [
    {
     "data": {
      "text/plain": [
       "{'mae': 567.9802,\n",
       " 'mse': 1147547.0,\n",
       " 'rmse': 1071.2362,\n",
       " 'mape': 2.5165248,\n",
       " 'mase': 0.99957}"
      ]
     },
     "execution_count": 31,
     "metadata": {},
     "output_type": "execute_result"
    }
   ],
   "source": [
    "naive_results = evaluate_preds(y_true=y_test[1:],\n",
    "                               y_pred=naive_forecast)\n",
    "\n",
    "naive_results"
   ]
  },
  {
   "cell_type": "code",
   "execution_count": 32,
   "metadata": {},
   "outputs": [
    {
     "data": {
      "text/plain": [
       "array([57107.12067189, 58788.20967893, 58102.19142623, 55715.54665129,\n",
       "       56573.5554719 , 52147.82118698, 49764.1320816 , 50032.69313676,\n",
       "       47885.62525472, 45604.61575361])"
      ]
     },
     "execution_count": 32,
     "metadata": {},
     "output_type": "execute_result"
    }
   ],
   "source": [
    "naive_forecast[-10:]"
   ]
  },
  {
   "cell_type": "code",
   "execution_count": 33,
   "metadata": {},
   "outputs": [
    {
     "data": {
      "text/plain": [
       "<tf.Tensor: shape=(), dtype=float64, numpy=20056.632963737226>"
      ]
     },
     "execution_count": 33,
     "metadata": {},
     "output_type": "execute_result"
    }
   ],
   "source": [
    "tf.reduce_mean(y_test)"
   ]
  },
  {
   "cell_type": "code",
   "execution_count": 34,
   "metadata": {},
   "outputs": [
    {
     "data": {
      "text/plain": [
       "(<tf.Tensor: shape=(), dtype=float64, numpy=4944.7023359837>,\n",
       " <tf.Tensor: shape=(), dtype=float64, numpy=63346.7890351052>)"
      ]
     },
     "execution_count": 34,
     "metadata": {},
     "output_type": "execute_result"
    }
   ],
   "source": [
    "tf.reduce_min(y_test), tf.reduce_max(y_test)"
   ]
  },
  {
   "attachments": {},
   "cell_type": "markdown",
   "metadata": {},
   "source": [
    "## Other kinds of time series forecasting models which can be used for baselines and actual forecasts\n",
    "\n",
    "* Moving average - https://machinelearningmastery.com/moving-average-smoothing-for-time-series-forecasting-python/\n",
    "* ARIMA (Autoregression Integrated Moving Average) - https://machinelearningmastery.com/arima-for-time-series-forecasting-with-python/\n",
    "* sktime (Scikit-Learn for time series) - https://github.com/alan-turing-institute/sktime\n",
    "* TensorFlow Decision Forests (random forest, gradient boosting trees) - https://www.tensorflow.org/decision_forests\n",
    "* Facebook Kats (purpose-built forecasting and time series analysis library by Facebook) - https://github.com/facebookresearch/Kats\n",
    "* LinkedIn Greykite (flexible, intuitive and fast forecasts) - https://github.com/linkedin/greykite"
   ]
  },
  {
   "attachments": {},
   "cell_type": "markdown",
   "metadata": {},
   "source": [
    "## Format Data Part 2: Windowing our dataset\n",
    "\n",
    "We window our time series dataset to turn our data into a supervised learning problem.\n",
    "\n",
    "```\n",
    "Windowing for one week\n",
    "[0, 1, 2, 3, 4, 5, 6] -> [7]\n",
    "[1, 2, 3, 4, 5, 6, 7] -> [8]\n",
    "[2, 3, 4, 5, 6, 7, 8] -> [9]\n",
    "```"
   ]
  },
  {
   "cell_type": "code",
   "execution_count": 35,
   "metadata": {},
   "outputs": [
    {
     "name": "stdout",
     "output_type": "stream",
     "text": [
      "We want to use: [123.65499, 125.455, 108.58483, 118.67466, 121.33866, 120.65533, 121.795] to predict this: 123.033\n"
     ]
    }
   ],
   "source": [
    "# What we want to do with our Bitcoin data\n",
    "# We will use the past 7 days of data to predict the price of Bitcoin on the next day\n",
    "print(f\"We want to use: {btc_price[:7]} to predict this: {btc_price[7]}\")"
   ]
  },
  {
   "cell_type": "code",
   "execution_count": 36,
   "metadata": {},
   "outputs": [],
   "source": [
    "# Setup GLOBAL VARIABLES for window and horizon size\n",
    "WINDOW_SIZE = 7 # use the past week of Bitcoin data to make the prediction\n",
    "HORIZON = 1 # predict next 1 day"
   ]
  },
  {
   "cell_type": "code",
   "execution_count": 37,
   "metadata": {},
   "outputs": [],
   "source": [
    "# Create function to label windowed data\n",
    "def get_labelled_windows(x, horizon=HORIZON):\n",
    "  \"\"\"\n",
    "  Creates labels for windowed dataset.\n",
    "\n",
    "  E.g. if horizon=1\n",
    "  Input: [0, 1, 2, 3, 4, 5, 6, 7] -> Output: ([0, 1, 2, 3, 4, 5, 6], [7])\n",
    "  \"\"\"\n",
    "  return x[:, :-horizon], x[:, -horizon:]"
   ]
  },
  {
   "cell_type": "code",
   "execution_count": 38,
   "metadata": {},
   "outputs": [
    {
     "name": "stdout",
     "output_type": "stream",
     "text": [
      "Window: [0 1 2 3 4 5 6] -> Label: 7\n"
     ]
    }
   ],
   "source": [
    "# Test out the window labelling function\n",
    "test_window, test_label = get_labelled_windows(tf.expand_dims(tf.range(8), axis=0))\n",
    "print(f\"Window: {tf.squeeze(test_window).numpy()} -> Label: {tf.squeeze(test_label).numpy()}\")"
   ]
  },
  {
   "attachments": {},
   "cell_type": "markdown",
   "metadata": {},
   "source": [
    "We have build a function to label our windowed data. However, this only works on a small scale. Thus, it won't work across the entire time series dataset. We can use the Python for loops, but for large time series, that will be quite slow.\n",
    "\n",
    "* To speed up, we will use NumPy's array indexing: https://numpy.org/doc/stable/reference/arrays.indexing.html.\n",
    "\n",
    "Thus, the function created will:\n",
    "1. Create a window step of specific window size (e.g. [0, 1, 2, 3, 4, 5, 6])\n",
    "2. Use NumPy indexing to create a 2D array of multiple window steps, for example: \n",
    "```\n",
    "[[0, 1, 2, 3, 4, 5, 6],\n",
    "[1, 2, 3, 4, 5, 6, 7],\n",
    "[2, 3, 4, 5, 6, 7, 8]]\n",
    "```\n",
    "1. Uses the 2D array of multiple window steps (from step 2) to index on a target series (e.g. the historical price of Bitcoin)\n",
    "2. Uses our `get_labelled_windows()` function we created above to turn the window steps into windows with a specified horizon. \n",
    "\n",
    "> **IMPORTANT RESOURCE:** The function has been adapted from the following article: https://towardsdatascience.com/fast-and-robust-sliding-window-vectorization-with-numpy-3ad950ed62f5"
   ]
  },
  {
   "cell_type": "code",
   "execution_count": 72,
   "metadata": {},
   "outputs": [],
   "source": [
    "import numpy as np\n",
    "\n",
    "# Create function to view NumPy arrays as windows\n",
    "def make_windows(x, window_size=WINDOW_SIZE, horizon=HORIZON):\n",
    "  \"\"\"\n",
    "  Turns a 1D array into a 2D array of sequential labelled windows of window_size with horizon size labels.\n",
    "  \"\"\"\n",
    "  # 1. Create a window of specific window_size (add the horzion on the end for labelling later)\n",
    "  window_step = np.expand_dims(np.arange(window_size+horizon), axis=0)\n",
    "  # print(window_step)\n",
    "\n",
    "  # 2. Create a 2D array of multiple window steps (minus 1 to account for 0 indexing)\n",
    "  # create 2D array of windows of size window_size\n",
    "  window_indexes = window_step + np.expand_dims(np.arange(len(x)-(window_size+horizon-1)), axis=0).T \n",
    "  # print(f\"Window indexes:\\n {window_indexes, window_indexes.shape}\")\n",
    "\n",
    "  # 3. Index on the target array (a time series) with 2D array of multiple window steps\n",
    "  windowed_array = x[window_indexes]\n",
    "  # print(windowed_array)\n",
    "\n",
    "  # 4. Get the labelled windows\n",
    "  windows, labels = get_labelled_windows(windowed_array, horizon=horizon)\n",
    "  return windows, labels"
   ]
  },
  {
   "cell_type": "code",
   "execution_count": 75,
   "metadata": {},
   "outputs": [
    {
     "data": {
      "text/plain": [
       "(2780, 2780)"
      ]
     },
     "execution_count": 75,
     "metadata": {},
     "output_type": "execute_result"
    }
   ],
   "source": [
    "full_windows, full_labels = make_windows(prices, window_size=WINDOW_SIZE, horizon=HORIZON)\n",
    "len(full_windows), len(full_labels)"
   ]
  },
  {
   "cell_type": "code",
   "execution_count": 77,
   "metadata": {},
   "outputs": [
    {
     "name": "stdout",
     "output_type": "stream",
     "text": [
      "Window: [123.65499 125.455   108.58483 118.67466 121.33866 120.65533 121.795  ] -> Label: [123.033]\n",
      "Window: [125.455   108.58483 118.67466 121.33866 120.65533 121.795   123.033  ] -> Label: [124.049]\n",
      "Window: [108.58483 118.67466 121.33866 120.65533 121.795   123.033   124.049  ] -> Label: [125.96116]\n"
     ]
    }
   ],
   "source": [
    "# View the first 3 windows/labels\n",
    "for i in range(3):\n",
    "  print(f\"Window: {full_windows[i]} -> Label: {full_labels[i]}\")"
   ]
  },
  {
   "cell_type": "code",
   "execution_count": 78,
   "metadata": {},
   "outputs": [
    {
     "name": "stdout",
     "output_type": "stream",
     "text": [
      "Window: [58788.20967893 58102.19142623 55715.54665129 56573.5554719\n",
      " 52147.82118698 49764.1320816  50032.69313676] -> Label: [47885.62525472]\n",
      "Window: [58102.19142623 55715.54665129 56573.5554719  52147.82118698\n",
      " 49764.1320816  50032.69313676 47885.62525472] -> Label: [45604.61575361]\n",
      "Window: [55715.54665129 56573.5554719  52147.82118698 49764.1320816\n",
      " 50032.69313676 47885.62525472 45604.61575361] -> Label: [43144.47129086]\n"
     ]
    }
   ],
   "source": [
    "# View the last 3 windows/labels\n",
    "for i in range(3):\n",
    "  print(f\"Window: {full_windows[i-3]} -> Label: {full_labels[i-3]}\")"
   ]
  },
  {
   "attachments": {},
   "cell_type": "markdown",
   "metadata": {},
   "source": [
    "## Turning windows into training and test sets"
   ]
  },
  {
   "cell_type": "code",
   "execution_count": 79,
   "metadata": {},
   "outputs": [
    {
     "data": {
      "text/plain": [
       "(array([[123.65499, 125.455  , 108.58483, 118.67466, 121.33866, 120.65533,\n",
       "         121.795  ],\n",
       "        [125.455  , 108.58483, 118.67466, 121.33866, 120.65533, 121.795  ,\n",
       "         123.033  ],\n",
       "        [108.58483, 118.67466, 121.33866, 120.65533, 121.795  , 123.033  ,\n",
       "         124.049  ],\n",
       "        [118.67466, 121.33866, 120.65533, 121.795  , 123.033  , 124.049  ,\n",
       "         125.96116],\n",
       "        [121.33866, 120.65533, 121.795  , 123.033  , 124.049  , 125.96116,\n",
       "         125.27966]]),\n",
       " array([[123.033  ],\n",
       "        [124.049  ],\n",
       "        [125.96116],\n",
       "        [125.27966],\n",
       "        [125.9275 ]]))"
      ]
     },
     "execution_count": 79,
     "metadata": {},
     "output_type": "execute_result"
    }
   ],
   "source": [
    "full_windows[:5], full_labels[:5]"
   ]
  },
  {
   "cell_type": "code",
   "execution_count": 80,
   "metadata": {},
   "outputs": [],
   "source": [
    "# Make the train/test splits\n",
    "def make_train_test_splits(windows, labels, test_split=0.2):\n",
    "  \"\"\"\n",
    "  Splits matching pairs of winodws and labels into train and test splits.\n",
    "  \"\"\"\n",
    "  split_size = int(len(windows) * (1-test_split)) # this will default to 80% train/20% test\n",
    "  train_windows = windows[:split_size]\n",
    "  train_labels = labels[:split_size]\n",
    "  test_windows = windows[split_size:]\n",
    "  test_labels = labels[split_size:]\n",
    "  return train_windows, test_windows, train_labels, test_labels"
   ]
  },
  {
   "cell_type": "code",
   "execution_count": 81,
   "metadata": {},
   "outputs": [
    {
     "data": {
      "text/plain": [
       "(2224, 556, 2224, 556)"
      ]
     },
     "execution_count": 81,
     "metadata": {},
     "output_type": "execute_result"
    }
   ],
   "source": [
    "# Create train and test windows \n",
    "train_windows, test_windows, train_labels, test_labels = make_train_test_splits(full_windows, full_labels)\n",
    "len(train_windows), len(test_windows), len(train_labels), len(test_labels)"
   ]
  },
  {
   "cell_type": "code",
   "execution_count": 82,
   "metadata": {},
   "outputs": [
    {
     "data": {
      "text/plain": [
       "(array([[123.65499, 125.455  , 108.58483, 118.67466, 121.33866, 120.65533,\n",
       "         121.795  ],\n",
       "        [125.455  , 108.58483, 118.67466, 121.33866, 120.65533, 121.795  ,\n",
       "         123.033  ],\n",
       "        [108.58483, 118.67466, 121.33866, 120.65533, 121.795  , 123.033  ,\n",
       "         124.049  ],\n",
       "        [118.67466, 121.33866, 120.65533, 121.795  , 123.033  , 124.049  ,\n",
       "         125.96116],\n",
       "        [121.33866, 120.65533, 121.795  , 123.033  , 124.049  , 125.96116,\n",
       "         125.27966]]),\n",
       " array([[123.033  ],\n",
       "        [124.049  ],\n",
       "        [125.96116],\n",
       "        [125.27966],\n",
       "        [125.9275 ]]))"
      ]
     },
     "execution_count": 82,
     "metadata": {},
     "output_type": "execute_result"
    }
   ],
   "source": [
    "train_windows[:5], train_labels[:5]"
   ]
  },
  {
   "cell_type": "code",
   "execution_count": 83,
   "metadata": {},
   "outputs": [
    {
     "data": {
      "text/plain": [
       "(array([[9290.89660239, 9202.41545055, 9369.62808116, 9326.59962378,\n",
       "         9335.75240233, 9226.48582088, 8794.35864452],\n",
       "        [9202.41545055, 9369.62808116, 9326.59962378, 9335.75240233,\n",
       "         9226.48582088, 8794.35864452, 8798.04205463],\n",
       "        [9369.62808116, 9326.59962378, 9335.75240233, 9226.48582088,\n",
       "         8794.35864452, 8798.04205463, 9081.18687849],\n",
       "        [9326.59962378, 9335.75240233, 9226.48582088, 8794.35864452,\n",
       "         8798.04205463, 9081.18687849, 8711.53433917],\n",
       "        [9335.75240233, 9226.48582088, 8794.35864452, 8798.04205463,\n",
       "         9081.18687849, 8711.53433917, 8760.89271814]]),\n",
       " array([[8798.04205463],\n",
       "        [9081.18687849],\n",
       "        [8711.53433917],\n",
       "        [8760.89271814],\n",
       "        [8749.52059102]]))"
      ]
     },
     "execution_count": 83,
     "metadata": {},
     "output_type": "execute_result"
    }
   ],
   "source": [
    "test_windows[:5], test_labels[:5]"
   ]
  },
  {
   "cell_type": "code",
   "execution_count": 85,
   "metadata": {},
   "outputs": [
    {
     "data": {
      "text/plain": [
       "array([[ 123.033     ],\n",
       "       [ 124.049     ],\n",
       "       [ 125.96116   ],\n",
       "       ...,\n",
       "       [9369.62808116],\n",
       "       [9326.59962378],\n",
       "       [9335.75240233]])"
      ]
     },
     "execution_count": 85,
     "metadata": {},
     "output_type": "execute_result"
    }
   ],
   "source": [
    "train_labels[:-HORIZON-1]"
   ]
  },
  {
   "cell_type": "code",
   "execution_count": 84,
   "metadata": {},
   "outputs": [
    {
     "data": {
      "text/plain": [
       "True"
      ]
     },
     "execution_count": 84,
     "metadata": {},
     "output_type": "execute_result"
    }
   ],
   "source": [
    "# Check to see if train labels are the same (before and after window split)\n",
    "np.array_equal(np.squeeze(train_labels[:-HORIZON-1]), y_train[WINDOW_SIZE:])"
   ]
  },
  {
   "attachments": {},
   "cell_type": "markdown",
   "metadata": {},
   "source": [
    "## Creating modelling checkpoint callback\n",
    "\n",
    "We will compare each of our model's best performances against the other model's best performances.\n",
    "\n",
    "For example, if our model performs the best on epoch 55 (but we're training for 100 epochs), we want to load and evaluate the model saved on epoch 55.\n",
    "\n",
    "We can create a modelling checkpoint callback using the following: https://www.tensorflow.org/api_docs/python/tf/keras/callbacks/ModelCheckpoint"
   ]
  },
  {
   "cell_type": "code",
   "execution_count": 97,
   "metadata": {},
   "outputs": [],
   "source": [
    "import os\n",
    "\n",
    "# Create a function to implement a ModelCheckpoint callback with a specific filename \n",
    "def create_model_checkpoint(model_name, save_path=\"model_experiments\"):\n",
    "  return tf.keras.callbacks.ModelCheckpoint(filepath=os.path.join(save_path, model_name),\n",
    "                                            monitor=\"val_loss\",\n",
    "                                            verbose=0, # only output a limited amount of text\n",
    "                                            save_best_only=True)"
   ]
  },
  {
   "attachments": {},
   "cell_type": "markdown",
   "metadata": {},
   "source": [
    "## Model 1: Dense model (window = 7, horizon = 1)\n",
    "\n",
    "First deep model is going to be a simple dense model:\n",
    "* A single dense layer with 128 hidden units and ReLU\n",
    "* An output layer with linear activation (no activation)\n",
    "* Adam optimizaiton and MAE loss function\n",
    "* Batch size of 128\n",
    "* 100 epochs \n",
    "\n",
    "- **Hyperparameters** = values a machine learning practitioner can adjust themselves\n",
    "- **Parameters** = values a model learns on its own"
   ]
  },
  {
   "cell_type": "code",
   "execution_count": 98,
   "metadata": {},
   "outputs": [
    {
     "name": "stdout",
     "output_type": "stream",
     "text": [
      "Epoch 1/100\n",
      "18/18 [==============================] - ETA: 0s - loss: 2371.2253 - mae: 2371.2253 - mse: 16036579.0000 "
     ]
    },
    {
     "name": "stderr",
     "output_type": "stream",
     "text": [
      "WARNING:absl:Found untraced functions such as _update_step_xla while saving (showing 1 of 1). These functions will not be directly callable after loading.\n"
     ]
    },
    {
     "name": "stdout",
     "output_type": "stream",
     "text": [
      "INFO:tensorflow:Assets written to: model_experiments\\model_1_dense\\assets\n"
     ]
    },
    {
     "name": "stderr",
     "output_type": "stream",
     "text": [
      "INFO:tensorflow:Assets written to: model_experiments\\model_1_dense\\assets\n"
     ]
    },
    {
     "name": "stdout",
     "output_type": "stream",
     "text": [
      "18/18 [==============================] - 3s 93ms/step - loss: 2371.2253 - mae: 2371.2253 - mse: 16036579.0000 - val_loss: 2801.3201 - val_mae: 2801.3201 - val_mse: 16967458.0000\n",
      "Epoch 2/100\n",
      " 1/18 [>.............................] - ETA: 0s - loss: 320.8903 - mae: 320.8903 - mse: 446705.6250"
     ]
    },
    {
     "name": "stderr",
     "output_type": "stream",
     "text": [
      "WARNING:absl:Found untraced functions such as _update_step_xla while saving (showing 1 of 1). These functions will not be directly callable after loading.\n"
     ]
    },
    {
     "name": "stdout",
     "output_type": "stream",
     "text": [
      "INFO:tensorflow:Assets written to: model_experiments\\model_1_dense\\assets\n"
     ]
    },
    {
     "name": "stderr",
     "output_type": "stream",
     "text": [
      "INFO:tensorflow:Assets written to: model_experiments\\model_1_dense\\assets\n"
     ]
    },
    {
     "name": "stdout",
     "output_type": "stream",
     "text": [
      "18/18 [==============================] - 1s 67ms/step - loss: 372.7253 - mae: 372.7253 - mse: 539941.4375 - val_loss: 1650.2332 - val_mae: 1650.2332 - val_mse: 6914761.5000\n",
      "Epoch 3/100\n",
      "16/18 [=========================>....] - ETA: 0s - loss: 256.6220 - mae: 256.6220 - mse: 302260.5000"
     ]
    },
    {
     "name": "stderr",
     "output_type": "stream",
     "text": [
      "WARNING:absl:Found untraced functions such as _update_step_xla while saving (showing 1 of 1). These functions will not be directly callable after loading.\n"
     ]
    },
    {
     "name": "stdout",
     "output_type": "stream",
     "text": [
      "INFO:tensorflow:Assets written to: model_experiments\\model_1_dense\\assets\n"
     ]
    },
    {
     "name": "stderr",
     "output_type": "stream",
     "text": [
      "INFO:tensorflow:Assets written to: model_experiments\\model_1_dense\\assets\n"
     ]
    },
    {
     "name": "stdout",
     "output_type": "stream",
     "text": [
      "18/18 [==============================] - 1s 87ms/step - loss: 252.0290 - mae: 252.0290 - mse: 298388.0000 - val_loss: 1165.2491 - val_mae: 1165.2491 - val_mse: 4430542.5000\n",
      "Epoch 4/100\n",
      "15/18 [========================>.....] - ETA: 0s - loss: 209.1244 - mae: 209.1244 - mse: 225633.0156"
     ]
    },
    {
     "name": "stderr",
     "output_type": "stream",
     "text": [
      "WARNING:absl:Found untraced functions such as _update_step_xla while saving (showing 1 of 1). These functions will not be directly callable after loading.\n"
     ]
    },
    {
     "name": "stdout",
     "output_type": "stream",
     "text": [
      "INFO:tensorflow:Assets written to: model_experiments\\model_1_dense\\assets\n"
     ]
    },
    {
     "name": "stderr",
     "output_type": "stream",
     "text": [
      "INFO:tensorflow:Assets written to: model_experiments\\model_1_dense\\assets\n"
     ]
    },
    {
     "name": "stdout",
     "output_type": "stream",
     "text": [
      "18/18 [==============================] - 2s 127ms/step - loss: 211.0715 - mae: 211.0715 - mse: 226901.8125 - val_loss: 1139.6064 - val_mae: 1139.6064 - val_mse: 4333889.0000\n",
      "Epoch 5/100\n",
      "18/18 [==============================] - 0s 10ms/step - loss: 204.9219 - mae: 204.9219 - mse: 217873.1875 - val_loss: 1148.1582 - val_mae: 1148.1582 - val_mse: 4188748.0000\n",
      "Epoch 6/100\n",
      "17/18 [===========================>..] - ETA: 0s - loss: 198.5373 - mae: 198.5373 - mse: 195947.1250"
     ]
    },
    {
     "name": "stderr",
     "output_type": "stream",
     "text": [
      "WARNING:absl:Found untraced functions such as _update_step_xla while saving (showing 1 of 1). These functions will not be directly callable after loading.\n"
     ]
    },
    {
     "name": "stdout",
     "output_type": "stream",
     "text": [
      "INFO:tensorflow:Assets written to: model_experiments\\model_1_dense\\assets\n"
     ]
    },
    {
     "name": "stderr",
     "output_type": "stream",
     "text": [
      "INFO:tensorflow:Assets written to: model_experiments\\model_1_dense\\assets\n"
     ]
    },
    {
     "name": "stdout",
     "output_type": "stream",
     "text": [
      "18/18 [==============================] - 1s 52ms/step - loss: 200.3311 - mae: 200.3311 - mse: 208289.9844 - val_loss: 1111.4523 - val_mae: 1111.4523 - val_mse: 4128746.7500\n",
      "Epoch 7/100\n",
      " 1/18 [>.............................] - ETA: 0s - loss: 252.8341 - mae: 252.8341 - mse: 436858.0312"
     ]
    },
    {
     "name": "stderr",
     "output_type": "stream",
     "text": [
      "WARNING:absl:Found untraced functions such as _update_step_xla while saving (showing 1 of 1). These functions will not be directly callable after loading.\n"
     ]
    },
    {
     "name": "stdout",
     "output_type": "stream",
     "text": [
      "INFO:tensorflow:Assets written to: model_experiments\\model_1_dense\\assets\n"
     ]
    },
    {
     "name": "stderr",
     "output_type": "stream",
     "text": [
      "INFO:tensorflow:Assets written to: model_experiments\\model_1_dense\\assets\n"
     ]
    },
    {
     "name": "stdout",
     "output_type": "stream",
     "text": [
      "18/18 [==============================] - 1s 69ms/step - loss: 196.8184 - mae: 196.8184 - mse: 201702.3750 - val_loss: 1067.0442 - val_mae: 1067.0442 - val_mse: 3746145.5000\n",
      "Epoch 8/100\n",
      "18/18 [==============================] - ETA: 0s - loss: 189.4518 - mae: 189.4518 - mse: 187885.7500"
     ]
    },
    {
     "name": "stderr",
     "output_type": "stream",
     "text": [
      "WARNING:absl:Found untraced functions such as _update_step_xla while saving (showing 1 of 1). These functions will not be directly callable after loading.\n"
     ]
    },
    {
     "name": "stdout",
     "output_type": "stream",
     "text": [
      "INFO:tensorflow:Assets written to: model_experiments\\model_1_dense\\assets\n"
     ]
    },
    {
     "name": "stderr",
     "output_type": "stream",
     "text": [
      "INFO:tensorflow:Assets written to: model_experiments\\model_1_dense\\assets\n"
     ]
    },
    {
     "name": "stdout",
     "output_type": "stream",
     "text": [
      "18/18 [==============================] - 1s 61ms/step - loss: 189.4518 - mae: 189.4518 - mse: 187885.7500 - val_loss: 1061.3373 - val_mae: 1061.3373 - val_mse: 3589631.0000\n",
      "Epoch 9/100\n",
      "17/18 [===========================>..] - ETA: 0s - loss: 184.3265 - mae: 184.3265 - mse: 181389.6562"
     ]
    },
    {
     "name": "stderr",
     "output_type": "stream",
     "text": [
      "WARNING:absl:Found untraced functions such as _update_step_xla while saving (showing 1 of 1). These functions will not be directly callable after loading.\n"
     ]
    },
    {
     "name": "stdout",
     "output_type": "stream",
     "text": [
      "INFO:tensorflow:Assets written to: model_experiments\\model_1_dense\\assets\n"
     ]
    },
    {
     "name": "stderr",
     "output_type": "stream",
     "text": [
      "INFO:tensorflow:Assets written to: model_experiments\\model_1_dense\\assets\n"
     ]
    },
    {
     "name": "stdout",
     "output_type": "stream",
     "text": [
      "18/18 [==============================] - 1s 52ms/step - loss: 184.2583 - mae: 184.2583 - mse: 180037.1875 - val_loss: 1039.6354 - val_mae: 1039.6354 - val_mse: 3416288.5000\n",
      "Epoch 10/100\n",
      "17/18 [===========================>..] - ETA: 0s - loss: 178.9099 - mae: 178.9099 - mse: 171527.8750"
     ]
    },
    {
     "name": "stderr",
     "output_type": "stream",
     "text": [
      "WARNING:absl:Found untraced functions such as _update_step_xla while saving (showing 1 of 1). These functions will not be directly callable after loading.\n"
     ]
    },
    {
     "name": "stdout",
     "output_type": "stream",
     "text": [
      "INFO:tensorflow:Assets written to: model_experiments\\model_1_dense\\assets\n"
     ]
    },
    {
     "name": "stderr",
     "output_type": "stream",
     "text": [
      "INFO:tensorflow:Assets written to: model_experiments\\model_1_dense\\assets\n"
     ]
    },
    {
     "name": "stdout",
     "output_type": "stream",
     "text": [
      "18/18 [==============================] - 1s 56ms/step - loss: 180.4284 - mae: 180.4284 - mse: 172604.2344 - val_loss: 992.6938 - val_mae: 992.6938 - val_mse: 3194088.0000\n",
      "Epoch 11/100\n",
      "15/18 [========================>.....] - ETA: 0s - loss: 175.2511 - mae: 175.2511 - mse: 164978.4688"
     ]
    },
    {
     "name": "stderr",
     "output_type": "stream",
     "text": [
      "WARNING:absl:Found untraced functions such as _update_step_xla while saving (showing 1 of 1). These functions will not be directly callable after loading.\n"
     ]
    },
    {
     "name": "stdout",
     "output_type": "stream",
     "text": [
      "INFO:tensorflow:Assets written to: model_experiments\\model_1_dense\\assets\n"
     ]
    },
    {
     "name": "stderr",
     "output_type": "stream",
     "text": [
      "INFO:tensorflow:Assets written to: model_experiments\\model_1_dense\\assets\n"
     ]
    },
    {
     "name": "stdout",
     "output_type": "stream",
     "text": [
      "18/18 [==============================] - 1s 56ms/step - loss: 174.3693 - mae: 174.3693 - mse: 161314.2656 - val_loss: 952.0773 - val_mae: 952.0775 - val_mse: 3012487.0000\n",
      "Epoch 12/100\n",
      "18/18 [==============================] - 0s 10ms/step - loss: 170.3847 - mae: 170.3847 - mse: 153121.2812 - val_loss: 1105.9299 - val_mae: 1105.9299 - val_mse: 3384498.5000\n",
      "Epoch 13/100\n",
      "18/18 [==============================] - ETA: 0s - loss: 169.9096 - mae: 169.9096 - mse: 154771.8281"
     ]
    },
    {
     "name": "stderr",
     "output_type": "stream",
     "text": [
      "WARNING:absl:Found untraced functions such as _update_step_xla while saving (showing 1 of 1). These functions will not be directly callable after loading.\n"
     ]
    },
    {
     "name": "stdout",
     "output_type": "stream",
     "text": [
      "INFO:tensorflow:Assets written to: model_experiments\\model_1_dense\\assets\n"
     ]
    },
    {
     "name": "stderr",
     "output_type": "stream",
     "text": [
      "INFO:tensorflow:Assets written to: model_experiments\\model_1_dense\\assets\n"
     ]
    },
    {
     "name": "stdout",
     "output_type": "stream",
     "text": [
      "18/18 [==============================] - 1s 48ms/step - loss: 169.9096 - mae: 169.9096 - mse: 154771.8281 - val_loss: 905.1431 - val_mae: 905.1431 - val_mse: 2686970.7500\n",
      "Epoch 14/100\n",
      " 1/18 [>.............................] - ETA: 0s - loss: 189.5857 - mae: 189.5857 - mse: 177341.0625"
     ]
    },
    {
     "name": "stderr",
     "output_type": "stream",
     "text": [
      "WARNING:absl:Found untraced functions such as _update_step_xla while saving (showing 1 of 1). These functions will not be directly callable after loading.\n"
     ]
    },
    {
     "name": "stdout",
     "output_type": "stream",
     "text": [
      "INFO:tensorflow:Assets written to: model_experiments\\model_1_dense\\assets\n"
     ]
    },
    {
     "name": "stderr",
     "output_type": "stream",
     "text": [
      "INFO:tensorflow:Assets written to: model_experiments\\model_1_dense\\assets\n"
     ]
    },
    {
     "name": "stdout",
     "output_type": "stream",
     "text": [
      "18/18 [==============================] - 1s 63ms/step - loss: 159.5723 - mae: 159.5723 - mse: 137843.0000 - val_loss: 905.0954 - val_mae: 905.0954 - val_mse: 2580751.5000\n",
      "Epoch 15/100\n",
      "18/18 [==============================] - 0s 10ms/step - loss: 160.7240 - mae: 160.7240 - mse: 137494.4219 - val_loss: 1007.5056 - val_mae: 1007.5056 - val_mse: 2840894.5000\n",
      "Epoch 16/100\n",
      " 1/18 [>.............................] - ETA: 0s - loss: 157.5920 - mae: 157.5920 - mse: 99638.1094"
     ]
    },
    {
     "name": "stderr",
     "output_type": "stream",
     "text": [
      "WARNING:absl:Found untraced functions such as _update_step_xla while saving (showing 1 of 1). These functions will not be directly callable after loading.\n"
     ]
    },
    {
     "name": "stdout",
     "output_type": "stream",
     "text": [
      "INFO:tensorflow:Assets written to: model_experiments\\model_1_dense\\assets\n"
     ]
    },
    {
     "name": "stderr",
     "output_type": "stream",
     "text": [
      "INFO:tensorflow:Assets written to: model_experiments\\model_1_dense\\assets\n"
     ]
    },
    {
     "name": "stdout",
     "output_type": "stream",
     "text": [
      "18/18 [==============================] - 1s 48ms/step - loss: 157.1239 - mae: 157.1239 - mse: 131626.5156 - val_loss: 848.8624 - val_mae: 848.8624 - val_mse: 2307141.0000\n",
      "Epoch 17/100\n",
      "14/18 [======================>.......] - ETA: 0s - loss: 147.4286 - mae: 147.4286 - mse: 118721.5547"
     ]
    },
    {
     "name": "stderr",
     "output_type": "stream",
     "text": [
      "WARNING:absl:Found untraced functions such as _update_step_xla while saving (showing 1 of 1). These functions will not be directly callable after loading.\n"
     ]
    },
    {
     "name": "stdout",
     "output_type": "stream",
     "text": [
      "INFO:tensorflow:Assets written to: model_experiments\\model_1_dense\\assets\n"
     ]
    },
    {
     "name": "stderr",
     "output_type": "stream",
     "text": [
      "INFO:tensorflow:Assets written to: model_experiments\\model_1_dense\\assets\n"
     ]
    },
    {
     "name": "stdout",
     "output_type": "stream",
     "text": [
      "18/18 [==============================] - 1s 54ms/step - loss: 149.3200 - mae: 149.3200 - mse: 121097.4219 - val_loss: 825.0844 - val_mae: 825.0844 - val_mse: 2189470.5000\n",
      "Epoch 18/100\n",
      " 1/18 [>.............................] - ETA: 0s - loss: 152.2730 - mae: 152.2730 - mse: 103695.5156"
     ]
    },
    {
     "name": "stderr",
     "output_type": "stream",
     "text": [
      "WARNING:absl:Found untraced functions such as _update_step_xla while saving (showing 1 of 1). These functions will not be directly callable after loading.\n"
     ]
    },
    {
     "name": "stdout",
     "output_type": "stream",
     "text": [
      "INFO:tensorflow:Assets written to: model_experiments\\model_1_dense\\assets\n"
     ]
    },
    {
     "name": "stderr",
     "output_type": "stream",
     "text": [
      "INFO:tensorflow:Assets written to: model_experiments\\model_1_dense\\assets\n"
     ]
    },
    {
     "name": "stdout",
     "output_type": "stream",
     "text": [
      "18/18 [==============================] - 1s 43ms/step - loss: 144.9763 - mae: 144.9763 - mse: 116483.5234 - val_loss: 810.1152 - val_mae: 810.1152 - val_mse: 2099029.5000\n",
      "Epoch 19/100\n",
      " 1/18 [>.............................] - ETA: 0s - loss: 82.9104 - mae: 82.9104 - mse: 37079.3438"
     ]
    },
    {
     "name": "stderr",
     "output_type": "stream",
     "text": [
      "WARNING:absl:Found untraced functions such as _update_step_xla while saving (showing 1 of 1). These functions will not be directly callable after loading.\n"
     ]
    },
    {
     "name": "stdout",
     "output_type": "stream",
     "text": [
      "INFO:tensorflow:Assets written to: model_experiments\\model_1_dense\\assets\n"
     ]
    },
    {
     "name": "stderr",
     "output_type": "stream",
     "text": [
      "INFO:tensorflow:Assets written to: model_experiments\\model_1_dense\\assets\n"
     ]
    },
    {
     "name": "stdout",
     "output_type": "stream",
     "text": [
      "18/18 [==============================] - 1s 44ms/step - loss: 141.1312 - mae: 141.1312 - mse: 111306.0781 - val_loss: 784.9943 - val_mae: 784.9943 - val_mse: 1996403.1250\n",
      "Epoch 20/100\n",
      " 1/18 [>.............................] - ETA: 0s - loss: 149.6286 - mae: 149.6286 - mse: 135412.2031"
     ]
    },
    {
     "name": "stderr",
     "output_type": "stream",
     "text": [
      "WARNING:absl:Found untraced functions such as _update_step_xla while saving (showing 1 of 1). These functions will not be directly callable after loading.\n"
     ]
    },
    {
     "name": "stdout",
     "output_type": "stream",
     "text": [
      "INFO:tensorflow:Assets written to: model_experiments\\model_1_dense\\assets\n"
     ]
    },
    {
     "name": "stderr",
     "output_type": "stream",
     "text": [
      "INFO:tensorflow:Assets written to: model_experiments\\model_1_dense\\assets\n"
     ]
    },
    {
     "name": "stdout",
     "output_type": "stream",
     "text": [
      "18/18 [==============================] - 1s 86ms/step - loss: 141.0331 - mae: 141.0331 - mse: 111912.4844 - val_loss: 759.7964 - val_mae: 759.7964 - val_mse: 1957176.6250\n",
      "Epoch 21/100\n",
      "13/18 [====================>.........] - ETA: 0s - loss: 141.5419 - mae: 141.5419 - mse: 105645.4062"
     ]
    },
    {
     "name": "stderr",
     "output_type": "stream",
     "text": [
      "WARNING:absl:Found untraced functions such as _update_step_xla while saving (showing 1 of 1). These functions will not be directly callable after loading.\n"
     ]
    },
    {
     "name": "stdout",
     "output_type": "stream",
     "text": [
      "INFO:tensorflow:Assets written to: model_experiments\\model_1_dense\\assets\n"
     ]
    },
    {
     "name": "stderr",
     "output_type": "stream",
     "text": [
      "INFO:tensorflow:Assets written to: model_experiments\\model_1_dense\\assets\n"
     ]
    },
    {
     "name": "stdout",
     "output_type": "stream",
     "text": [
      "18/18 [==============================] - 1s 48ms/step - loss: 141.4973 - mae: 141.4973 - mse: 110604.7969 - val_loss: 744.5723 - val_mae: 744.5723 - val_mse: 1837563.0000\n",
      "Epoch 22/100\n",
      " 1/18 [>.............................] - ETA: 0s - loss: 192.1605 - mae: 192.1605 - mse: 213196.3438"
     ]
    },
    {
     "name": "stderr",
     "output_type": "stream",
     "text": [
      "WARNING:absl:Found untraced functions such as _update_step_xla while saving (showing 1 of 1). These functions will not be directly callable after loading.\n"
     ]
    },
    {
     "name": "stdout",
     "output_type": "stream",
     "text": [
      "INFO:tensorflow:Assets written to: model_experiments\\model_1_dense\\assets\n"
     ]
    },
    {
     "name": "stderr",
     "output_type": "stream",
     "text": [
      "INFO:tensorflow:Assets written to: model_experiments\\model_1_dense\\assets\n"
     ]
    },
    {
     "name": "stdout",
     "output_type": "stream",
     "text": [
      "18/18 [==============================] - 1s 45ms/step - loss: 135.3165 - mae: 135.3165 - mse: 102753.8516 - val_loss: 730.1885 - val_mae: 730.1885 - val_mse: 1776995.5000\n",
      "Epoch 23/100\n",
      " 1/18 [>.............................] - ETA: 0s - loss: 150.7737 - mae: 150.7737 - mse: 103001.3906"
     ]
    },
    {
     "name": "stderr",
     "output_type": "stream",
     "text": [
      "WARNING:absl:Found untraced functions such as _update_step_xla while saving (showing 1 of 1). These functions will not be directly callable after loading.\n"
     ]
    },
    {
     "name": "stdout",
     "output_type": "stream",
     "text": [
      "INFO:tensorflow:Assets written to: model_experiments\\model_1_dense\\assets\n"
     ]
    },
    {
     "name": "stderr",
     "output_type": "stream",
     "text": [
      "INFO:tensorflow:Assets written to: model_experiments\\model_1_dense\\assets\n"
     ]
    },
    {
     "name": "stdout",
     "output_type": "stream",
     "text": [
      "18/18 [==============================] - 1s 44ms/step - loss: 133.4990 - mae: 133.4990 - mse: 99525.7812 - val_loss: 725.2820 - val_mae: 725.2820 - val_mse: 1734394.0000\n",
      "Epoch 24/100\n",
      " 1/18 [>.............................] - ETA: 0s - loss: 147.9784 - mae: 147.9784 - mse: 97086.9453"
     ]
    },
    {
     "name": "stderr",
     "output_type": "stream",
     "text": [
      "WARNING:absl:Found untraced functions such as _update_step_xla while saving (showing 1 of 1). These functions will not be directly callable after loading.\n"
     ]
    },
    {
     "name": "stdout",
     "output_type": "stream",
     "text": [
      "INFO:tensorflow:Assets written to: model_experiments\\model_1_dense\\assets\n"
     ]
    },
    {
     "name": "stderr",
     "output_type": "stream",
     "text": [
      "INFO:tensorflow:Assets written to: model_experiments\\model_1_dense\\assets\n"
     ]
    },
    {
     "name": "stdout",
     "output_type": "stream",
     "text": [
      "18/18 [==============================] - 1s 45ms/step - loss: 132.9074 - mae: 132.9074 - mse: 98570.1250 - val_loss: 703.9578 - val_mae: 703.9578 - val_mse: 1678812.8750\n",
      "Epoch 25/100\n",
      "18/18 [==============================] - 0s 5ms/step - loss: 135.1676 - mae: 135.1676 - mse: 97242.7734 - val_loss: 704.2468 - val_mae: 704.2468 - val_mse: 1696460.0000\n",
      "Epoch 26/100\n",
      "18/18 [==============================] - 0s 7ms/step - loss: 132.1337 - mae: 132.1337 - mse: 95533.1641 - val_loss: 710.7179 - val_mae: 710.7179 - val_mse: 1722327.1250\n",
      "Epoch 27/100\n",
      " 1/18 [>.............................] - ETA: 0s - loss: 196.0533 - mae: 196.0533 - mse: 177600.4375"
     ]
    },
    {
     "name": "stderr",
     "output_type": "stream",
     "text": [
      "WARNING:absl:Found untraced functions such as _update_step_xla while saving (showing 1 of 1). These functions will not be directly callable after loading.\n"
     ]
    },
    {
     "name": "stdout",
     "output_type": "stream",
     "text": [
      "INFO:tensorflow:Assets written to: model_experiments\\model_1_dense\\assets\n"
     ]
    },
    {
     "name": "stderr",
     "output_type": "stream",
     "text": [
      "INFO:tensorflow:Assets written to: model_experiments\\model_1_dense\\assets\n"
     ]
    },
    {
     "name": "stdout",
     "output_type": "stream",
     "text": [
      "18/18 [==============================] - 1s 50ms/step - loss: 130.4085 - mae: 130.4085 - mse: 94915.1172 - val_loss: 681.8040 - val_mae: 681.8040 - val_mse: 1598662.7500\n",
      "Epoch 28/100\n",
      "18/18 [==============================] - 0s 4ms/step - loss: 127.2826 - mae: 127.2826 - mse: 91111.6328 - val_loss: 682.2699 - val_mae: 682.2699 - val_mse: 1562786.5000\n",
      "Epoch 29/100\n",
      "18/18 [==============================] - 0s 10ms/step - loss: 125.4954 - mae: 125.4954 - mse: 89629.2266 - val_loss: 708.4170 - val_mae: 708.4170 - val_mse: 1613986.3750\n",
      "Epoch 30/100\n",
      "18/18 [==============================] - 0s 5ms/step - loss: 130.5779 - mae: 130.5779 - mse: 91760.5000 - val_loss: 731.3862 - val_mae: 731.3862 - val_mse: 1666387.7500\n",
      "Epoch 31/100\n",
      "18/18 [==============================] - 0s 4ms/step - loss: 137.9399 - mae: 137.9399 - mse: 96928.4297 - val_loss: 853.8484 - val_mae: 853.8484 - val_mse: 2043721.5000\n",
      "Epoch 32/100\n",
      "18/18 [==============================] - 0s 4ms/step - loss: 133.9428 - mae: 133.9428 - mse: 92316.3906 - val_loss: 686.4258 - val_mae: 686.4258 - val_mse: 1540890.5000\n",
      "Epoch 33/100\n",
      "18/18 [==============================] - 0s 4ms/step - loss: 123.1038 - mae: 123.1038 - mse: 84119.4062 - val_loss: 683.2159 - val_mae: 683.2159 - val_mse: 1527868.3750\n",
      "Epoch 34/100\n",
      " 1/18 [>.............................] - ETA: 0s - loss: 139.3683 - mae: 139.3683 - mse: 118952.3281"
     ]
    },
    {
     "name": "stderr",
     "output_type": "stream",
     "text": [
      "WARNING:absl:Found untraced functions such as _update_step_xla while saving (showing 1 of 1). These functions will not be directly callable after loading.\n"
     ]
    },
    {
     "name": "stdout",
     "output_type": "stream",
     "text": [
      "INFO:tensorflow:Assets written to: model_experiments\\model_1_dense\\assets\n"
     ]
    },
    {
     "name": "stderr",
     "output_type": "stream",
     "text": [
      "INFO:tensorflow:Assets written to: model_experiments\\model_1_dense\\assets\n"
     ]
    },
    {
     "name": "stdout",
     "output_type": "stream",
     "text": [
      "18/18 [==============================] - 1s 59ms/step - loss: 124.5342 - mae: 124.5342 - mse: 87466.3203 - val_loss: 644.4610 - val_mae: 644.4610 - val_mse: 1440930.0000\n",
      "Epoch 35/100\n",
      " 1/18 [>.............................] - ETA: 0s - loss: 103.2353 - mae: 103.2353 - mse: 55513.9844"
     ]
    },
    {
     "name": "stderr",
     "output_type": "stream",
     "text": [
      "WARNING:absl:Found untraced functions such as _update_step_xla while saving (showing 1 of 1). These functions will not be directly callable after loading.\n"
     ]
    },
    {
     "name": "stdout",
     "output_type": "stream",
     "text": [
      "INFO:tensorflow:Assets written to: model_experiments\\model_1_dense\\assets\n"
     ]
    },
    {
     "name": "stderr",
     "output_type": "stream",
     "text": [
      "INFO:tensorflow:Assets written to: model_experiments\\model_1_dense\\assets\n"
     ]
    },
    {
     "name": "stdout",
     "output_type": "stream",
     "text": [
      "18/18 [==============================] - 1s 41ms/step - loss: 119.9175 - mae: 119.9175 - mse: 84151.4062 - val_loss: 642.6091 - val_mae: 642.6091 - val_mse: 1440188.3750\n",
      "Epoch 36/100\n",
      "18/18 [==============================] - 0s 3ms/step - loss: 126.6927 - mae: 126.6927 - mse: 87392.2656 - val_loss: 692.8871 - val_mae: 692.8871 - val_mse: 1537456.1250\n",
      "Epoch 37/100\n",
      "18/18 [==============================] - 0s 4ms/step - loss: 122.4420 - mae: 122.4420 - mse: 85021.5078 - val_loss: 662.9973 - val_mae: 662.9973 - val_mse: 1509095.5000\n",
      "Epoch 38/100\n",
      " 1/18 [>.............................] - ETA: 0s - loss: 115.7505 - mae: 115.7505 - mse: 75697.4609"
     ]
    },
    {
     "name": "stderr",
     "output_type": "stream",
     "text": [
      "WARNING:absl:Found untraced functions such as _update_step_xla while saving (showing 1 of 1). These functions will not be directly callable after loading.\n"
     ]
    },
    {
     "name": "stdout",
     "output_type": "stream",
     "text": [
      "INFO:tensorflow:Assets written to: model_experiments\\model_1_dense\\assets\n"
     ]
    },
    {
     "name": "stderr",
     "output_type": "stream",
     "text": [
      "INFO:tensorflow:Assets written to: model_experiments\\model_1_dense\\assets\n"
     ]
    },
    {
     "name": "stdout",
     "output_type": "stream",
     "text": [
      "18/18 [==============================] - 1s 53ms/step - loss: 121.1891 - mae: 121.1891 - mse: 84880.1250 - val_loss: 635.9137 - val_mae: 635.9137 - val_mse: 1396408.3750\n",
      "Epoch 39/100\n",
      " 1/18 [>.............................] - ETA: 0s - loss: 130.4823 - mae: 130.4823 - mse: 107212.8438"
     ]
    },
    {
     "name": "stderr",
     "output_type": "stream",
     "text": [
      "WARNING:absl:Found untraced functions such as _update_step_xla while saving (showing 1 of 1). These functions will not be directly callable after loading.\n"
     ]
    },
    {
     "name": "stdout",
     "output_type": "stream",
     "text": [
      "INFO:tensorflow:Assets written to: model_experiments\\model_1_dense\\assets\n"
     ]
    },
    {
     "name": "stderr",
     "output_type": "stream",
     "text": [
      "INFO:tensorflow:Assets written to: model_experiments\\model_1_dense\\assets\n"
     ]
    },
    {
     "name": "stdout",
     "output_type": "stream",
     "text": [
      "18/18 [==============================] - 1s 40ms/step - loss: 119.1690 - mae: 119.1690 - mse: 82741.7188 - val_loss: 632.5483 - val_mae: 632.5483 - val_mse: 1403335.3750\n",
      "Epoch 40/100\n",
      " 1/18 [>.............................] - ETA: 0s - loss: 109.3603 - mae: 109.3603 - mse: 105274.2031"
     ]
    },
    {
     "name": "stderr",
     "output_type": "stream",
     "text": [
      "WARNING:absl:Found untraced functions such as _update_step_xla while saving (showing 1 of 1). These functions will not be directly callable after loading.\n"
     ]
    },
    {
     "name": "stdout",
     "output_type": "stream",
     "text": [
      "INFO:tensorflow:Assets written to: model_experiments\\model_1_dense\\assets\n"
     ]
    },
    {
     "name": "stderr",
     "output_type": "stream",
     "text": [
      "INFO:tensorflow:Assets written to: model_experiments\\model_1_dense\\assets\n"
     ]
    },
    {
     "name": "stdout",
     "output_type": "stream",
     "text": [
      "18/18 [==============================] - 1s 50ms/step - loss: 119.5924 - mae: 119.5924 - mse: 81957.8047 - val_loss: 629.4961 - val_mae: 629.4961 - val_mse: 1392240.6250\n",
      "Epoch 41/100\n",
      "18/18 [==============================] - 0s 5ms/step - loss: 122.7009 - mae: 122.7009 - mse: 83890.5078 - val_loss: 658.8821 - val_mae: 658.8821 - val_mse: 1481397.1250\n",
      "Epoch 42/100\n",
      "18/18 [==============================] - 0s 4ms/step - loss: 124.6744 - mae: 124.6744 - mse: 86081.0000 - val_loss: 631.1104 - val_mae: 631.1104 - val_mse: 1398016.8750\n",
      "Epoch 43/100\n",
      "18/18 [==============================] - 0s 4ms/step - loss: 117.1638 - mae: 117.1638 - mse: 79591.6250 - val_loss: 636.5634 - val_mae: 636.5634 - val_mse: 1411823.1250\n",
      "Epoch 44/100\n",
      " 1/18 [>.............................] - ETA: 0s - loss: 73.1118 - mae: 73.1118 - mse: 19362.5977"
     ]
    },
    {
     "name": "stderr",
     "output_type": "stream",
     "text": [
      "WARNING:absl:Found untraced functions such as _update_step_xla while saving (showing 1 of 1). These functions will not be directly callable after loading.\n"
     ]
    },
    {
     "name": "stdout",
     "output_type": "stream",
     "text": [
      "INFO:tensorflow:Assets written to: model_experiments\\model_1_dense\\assets\n"
     ]
    },
    {
     "name": "stderr",
     "output_type": "stream",
     "text": [
      "INFO:tensorflow:Assets written to: model_experiments\\model_1_dense\\assets\n"
     ]
    },
    {
     "name": "stdout",
     "output_type": "stream",
     "text": [
      "18/18 [==============================] - 1s 71ms/step - loss: 118.5055 - mae: 118.5055 - mse: 80554.6797 - val_loss: 620.5840 - val_mae: 620.5840 - val_mse: 1359306.6250\n",
      "Epoch 45/100\n",
      "18/18 [==============================] - 0s 5ms/step - loss: 119.3130 - mae: 119.3130 - mse: 82288.5547 - val_loss: 637.9014 - val_mae: 637.9014 - val_mse: 1372785.7500\n",
      "Epoch 46/100\n",
      " 1/18 [>.............................] - ETA: 0s - loss: 91.8922 - mae: 91.8922 - mse: 57115.5703"
     ]
    },
    {
     "name": "stderr",
     "output_type": "stream",
     "text": [
      "WARNING:absl:Found untraced functions such as _update_step_xla while saving (showing 1 of 1). These functions will not be directly callable after loading.\n"
     ]
    },
    {
     "name": "stdout",
     "output_type": "stream",
     "text": [
      "INFO:tensorflow:Assets written to: model_experiments\\model_1_dense\\assets\n"
     ]
    },
    {
     "name": "stderr",
     "output_type": "stream",
     "text": [
      "INFO:tensorflow:Assets written to: model_experiments\\model_1_dense\\assets\n"
     ]
    },
    {
     "name": "stdout",
     "output_type": "stream",
     "text": [
      "18/18 [==============================] - 1s 53ms/step - loss: 118.6076 - mae: 118.6076 - mse: 80900.7734 - val_loss: 616.8311 - val_mae: 616.8311 - val_mse: 1327819.5000\n",
      "Epoch 47/100\n",
      "18/18 [==============================] - 0s 6ms/step - loss: 120.9625 - mae: 120.9625 - mse: 83483.1484 - val_loss: 698.0241 - val_mae: 698.0241 - val_mse: 1521106.1250\n",
      "Epoch 48/100\n",
      "18/18 [==============================] - 0s 4ms/step - loss: 116.9901 - mae: 116.9901 - mse: 78725.3047 - val_loss: 617.4734 - val_mae: 617.4734 - val_mse: 1321238.2500\n",
      "Epoch 49/100\n",
      "18/18 [==============================] - 0s 4ms/step - loss: 117.5563 - mae: 117.5563 - mse: 80236.7109 - val_loss: 676.3707 - val_mae: 676.3707 - val_mse: 1459110.5000\n",
      "Epoch 50/100\n",
      "18/18 [==============================] - 0s 4ms/step - loss: 135.0732 - mae: 135.0732 - mse: 87728.1406 - val_loss: 635.0325 - val_mae: 635.0325 - val_mse: 1354260.2500\n",
      "Epoch 51/100\n",
      "18/18 [==============================] - 0s 4ms/step - loss: 115.8946 - mae: 115.8946 - mse: 76377.3672 - val_loss: 625.0444 - val_mae: 625.0444 - val_mse: 1329624.6250\n",
      "Epoch 52/100\n",
      "18/18 [==============================] - 0s 4ms/step - loss: 118.7046 - mae: 118.7046 - mse: 81793.2422 - val_loss: 636.5943 - val_mae: 636.5943 - val_mse: 1386481.3750\n",
      "Epoch 53/100\n",
      " 1/18 [>.............................] - ETA: 0s - loss: 65.2191 - mae: 65.2191 - mse: 22954.0957"
     ]
    },
    {
     "name": "stderr",
     "output_type": "stream",
     "text": [
      "WARNING:absl:Found untraced functions such as _update_step_xla while saving (showing 1 of 1). These functions will not be directly callable after loading.\n"
     ]
    },
    {
     "name": "stdout",
     "output_type": "stream",
     "text": [
      "INFO:tensorflow:Assets written to: model_experiments\\model_1_dense\\assets\n"
     ]
    },
    {
     "name": "stderr",
     "output_type": "stream",
     "text": [
      "INFO:tensorflow:Assets written to: model_experiments\\model_1_dense\\assets\n"
     ]
    },
    {
     "name": "stdout",
     "output_type": "stream",
     "text": [
      "18/18 [==============================] - 1s 45ms/step - loss: 120.1368 - mae: 120.1368 - mse: 80544.6250 - val_loss: 613.7180 - val_mae: 613.7180 - val_mse: 1301253.8750\n",
      "Epoch 54/100\n",
      "18/18 [==============================] - 0s 10ms/step - loss: 119.4502 - mae: 119.4502 - mse: 79935.1016 - val_loss: 651.9584 - val_mae: 651.9584 - val_mse: 1387428.8750\n",
      "Epoch 55/100\n",
      " 1/18 [>.............................] - ETA: 0s - loss: 138.0572 - mae: 138.0572 - mse: 98618.1250"
     ]
    },
    {
     "name": "stderr",
     "output_type": "stream",
     "text": [
      "WARNING:absl:Found untraced functions such as _update_step_xla while saving (showing 1 of 1). These functions will not be directly callable after loading.\n"
     ]
    },
    {
     "name": "stdout",
     "output_type": "stream",
     "text": [
      "INFO:tensorflow:Assets written to: model_experiments\\model_1_dense\\assets\n"
     ]
    },
    {
     "name": "stderr",
     "output_type": "stream",
     "text": [
      "INFO:tensorflow:Assets written to: model_experiments\\model_1_dense\\assets\n"
     ]
    },
    {
     "name": "stdout",
     "output_type": "stream",
     "text": [
      "18/18 [==============================] - 1s 62ms/step - loss: 117.9019 - mae: 117.9019 - mse: 79481.6797 - val_loss: 608.0829 - val_mae: 608.0829 - val_mse: 1309418.6250\n",
      "Epoch 56/100\n",
      "18/18 [==============================] - 0s 6ms/step - loss: 113.8500 - mae: 113.8500 - mse: 76479.2734 - val_loss: 806.6090 - val_mae: 806.6090 - val_mse: 1918446.7500\n",
      "Epoch 57/100\n",
      "18/18 [==============================] - 0s 6ms/step - loss: 134.7850 - mae: 134.7850 - mse: 92500.4531 - val_loss: 732.6119 - val_mae: 732.6119 - val_mse: 1657892.6250\n",
      "Epoch 58/100\n",
      "18/18 [==============================] - 0s 6ms/step - loss: 126.8406 - mae: 126.8406 - mse: 85323.6016 - val_loss: 653.8862 - val_mae: 653.8862 - val_mse: 1415952.2500\n",
      "Epoch 59/100\n",
      "12/18 [===================>..........] - ETA: 0s - loss: 112.7436 - mae: 112.7436 - mse: 78171.9531"
     ]
    },
    {
     "name": "stderr",
     "output_type": "stream",
     "text": [
      "WARNING:absl:Found untraced functions such as _update_step_xla while saving (showing 1 of 1). These functions will not be directly callable after loading.\n"
     ]
    },
    {
     "name": "stdout",
     "output_type": "stream",
     "text": [
      "INFO:tensorflow:Assets written to: model_experiments\\model_1_dense\\assets\n"
     ]
    },
    {
     "name": "stderr",
     "output_type": "stream",
     "text": [
      "INFO:tensorflow:Assets written to: model_experiments\\model_1_dense\\assets\n"
     ]
    },
    {
     "name": "stdout",
     "output_type": "stream",
     "text": [
      "18/18 [==============================] - 1s 87ms/step - loss: 114.3456 - mae: 114.3456 - mse: 75894.6094 - val_loss: 603.2684 - val_mae: 603.2684 - val_mse: 1291524.6250\n",
      "Epoch 60/100\n",
      "18/18 [==============================] - 0s 12ms/step - loss: 113.7244 - mae: 113.7244 - mse: 76473.1016 - val_loss: 603.7241 - val_mae: 603.7241 - val_mse: 1271072.6250\n",
      "Epoch 61/100\n",
      "18/18 [==============================] - 0s 6ms/step - loss: 112.7511 - mae: 112.7511 - mse: 76063.3359 - val_loss: 607.7527 - val_mae: 607.7527 - val_mse: 1276417.3750\n",
      "Epoch 62/100\n",
      " 1/18 [>.............................] - ETA: 0s - loss: 78.9516 - mae: 78.9516 - mse: 42996.9648"
     ]
    },
    {
     "name": "stderr",
     "output_type": "stream",
     "text": [
      "WARNING:absl:Found untraced functions such as _update_step_xla while saving (showing 1 of 1). These functions will not be directly callable after loading.\n"
     ]
    },
    {
     "name": "stdout",
     "output_type": "stream",
     "text": [
      "INFO:tensorflow:Assets written to: model_experiments\\model_1_dense\\assets\n"
     ]
    },
    {
     "name": "stderr",
     "output_type": "stream",
     "text": [
      "INFO:tensorflow:Assets written to: model_experiments\\model_1_dense\\assets\n"
     ]
    },
    {
     "name": "stdout",
     "output_type": "stream",
     "text": [
      "18/18 [==============================] - 1s 67ms/step - loss: 111.5149 - mae: 111.5149 - mse: 74247.8594 - val_loss: 598.2030 - val_mae: 598.2030 - val_mse: 1274131.2500\n",
      "Epoch 63/100\n",
      "18/18 [==============================] - 0s 6ms/step - loss: 113.5972 - mae: 113.5972 - mse: 76142.7812 - val_loss: 602.4269 - val_mae: 602.4269 - val_mse: 1263787.0000\n",
      "Epoch 64/100\n",
      "18/18 [==============================] - 0s 4ms/step - loss: 113.1852 - mae: 113.1852 - mse: 75227.7969 - val_loss: 618.3867 - val_mae: 618.3867 - val_mse: 1295485.0000\n",
      "Epoch 65/100\n",
      " 1/18 [>.............................] - ETA: 0s - loss: 133.2272 - mae: 133.2272 - mse: 157716.7656"
     ]
    },
    {
     "name": "stderr",
     "output_type": "stream",
     "text": [
      "WARNING:absl:Found untraced functions such as _update_step_xla while saving (showing 1 of 1). These functions will not be directly callable after loading.\n"
     ]
    },
    {
     "name": "stdout",
     "output_type": "stream",
     "text": [
      "INFO:tensorflow:Assets written to: model_experiments\\model_1_dense\\assets\n"
     ]
    },
    {
     "name": "stderr",
     "output_type": "stream",
     "text": [
      "INFO:tensorflow:Assets written to: model_experiments\\model_1_dense\\assets\n"
     ]
    },
    {
     "name": "stdout",
     "output_type": "stream",
     "text": [
      "18/18 [==============================] - 1s 46ms/step - loss: 116.7842 - mae: 116.7842 - mse: 76793.7266 - val_loss: 587.7099 - val_mae: 587.7099 - val_mse: 1243522.8750\n",
      "Epoch 66/100\n",
      "18/18 [==============================] - 0s 11ms/step - loss: 114.8641 - mae: 114.8641 - mse: 74621.0312 - val_loss: 591.2753 - val_mae: 591.2753 - val_mse: 1252373.6250\n",
      "Epoch 67/100\n",
      "18/18 [==============================] - 0s 10ms/step - loss: 111.6639 - mae: 111.6639 - mse: 73232.1172 - val_loss: 679.8810 - val_mae: 679.8810 - val_mse: 1467059.6250\n",
      "Epoch 68/100\n",
      "18/18 [==============================] - 0s 8ms/step - loss: 116.4464 - mae: 116.4464 - mse: 73391.7891 - val_loss: 744.4190 - val_mae: 744.4190 - val_mse: 1671962.0000\n",
      "Epoch 69/100\n",
      "18/18 [==============================] - 0s 6ms/step - loss: 132.2703 - mae: 132.2703 - mse: 87871.3828 - val_loss: 699.2435 - val_mae: 699.2435 - val_mse: 1524126.6250\n",
      "Epoch 70/100\n",
      "18/18 [==============================] - 0s 8ms/step - loss: 123.7720 - mae: 123.7720 - mse: 81863.3125 - val_loss: 589.9658 - val_mae: 589.9658 - val_mse: 1247335.8750\n",
      "Epoch 71/100\n",
      "18/18 [==============================] - 0s 5ms/step - loss: 113.9396 - mae: 113.9396 - mse: 74149.5000 - val_loss: 599.7769 - val_mae: 599.7769 - val_mse: 1251740.0000\n",
      "Epoch 72/100\n",
      " 1/18 [>.............................] - ETA: 0s - loss: 98.9778 - mae: 98.9778 - mse: 67871.1484"
     ]
    },
    {
     "name": "stderr",
     "output_type": "stream",
     "text": [
      "WARNING:absl:Found untraced functions such as _update_step_xla while saving (showing 1 of 1). These functions will not be directly callable after loading.\n"
     ]
    },
    {
     "name": "stdout",
     "output_type": "stream",
     "text": [
      "INFO:tensorflow:Assets written to: model_experiments\\model_1_dense\\assets\n"
     ]
    },
    {
     "name": "stderr",
     "output_type": "stream",
     "text": [
      "INFO:tensorflow:Assets written to: model_experiments\\model_1_dense\\assets\n"
     ]
    },
    {
     "name": "stdout",
     "output_type": "stream",
     "text": [
      "18/18 [==============================] - 1s 57ms/step - loss: 111.3534 - mae: 111.3534 - mse: 73631.6875 - val_loss: 585.1522 - val_mae: 585.1522 - val_mse: 1228076.1250\n",
      "Epoch 73/100\n",
      "18/18 [==============================] - 0s 8ms/step - loss: 112.6930 - mae: 112.6930 - mse: 73891.1641 - val_loss: 636.9014 - val_mae: 636.9014 - val_mse: 1350206.2500\n",
      "Epoch 74/100\n",
      " 1/18 [>.............................] - ETA: 0s - loss: 169.7133 - mae: 169.7133 - mse: 178324.5938"
     ]
    },
    {
     "name": "stderr",
     "output_type": "stream",
     "text": [
      "WARNING:absl:Found untraced functions such as _update_step_xla while saving (showing 1 of 1). These functions will not be directly callable after loading.\n"
     ]
    },
    {
     "name": "stdout",
     "output_type": "stream",
     "text": [
      "INFO:tensorflow:Assets written to: model_experiments\\model_1_dense\\assets\n"
     ]
    },
    {
     "name": "stderr",
     "output_type": "stream",
     "text": [
      "INFO:tensorflow:Assets written to: model_experiments\\model_1_dense\\assets\n"
     ]
    },
    {
     "name": "stdout",
     "output_type": "stream",
     "text": [
      "18/18 [==============================] - 1s 45ms/step - loss: 110.5595 - mae: 110.5595 - mse: 73387.5938 - val_loss: 584.4964 - val_mae: 584.4964 - val_mse: 1231342.8750\n",
      "Epoch 75/100\n",
      "18/18 [==============================] - 0s 5ms/step - loss: 111.1291 - mae: 111.1291 - mse: 72961.2188 - val_loss: 597.2874 - val_mae: 597.2874 - val_mse: 1242257.2500\n",
      "Epoch 76/100\n",
      " 1/18 [>.............................] - ETA: 0s - loss: 80.9615 - mae: 80.9615 - mse: 29210.3867"
     ]
    },
    {
     "name": "stderr",
     "output_type": "stream",
     "text": [
      "WARNING:absl:Found untraced functions such as _update_step_xla while saving (showing 1 of 1). These functions will not be directly callable after loading.\n"
     ]
    },
    {
     "name": "stdout",
     "output_type": "stream",
     "text": [
      "INFO:tensorflow:Assets written to: model_experiments\\model_1_dense\\assets\n"
     ]
    },
    {
     "name": "stderr",
     "output_type": "stream",
     "text": [
      "INFO:tensorflow:Assets written to: model_experiments\\model_1_dense\\assets\n"
     ]
    },
    {
     "name": "stdout",
     "output_type": "stream",
     "text": [
      "18/18 [==============================] - 1s 75ms/step - loss: 113.3444 - mae: 113.3444 - mse: 74898.8906 - val_loss: 582.8467 - val_mae: 582.8467 - val_mse: 1224813.1250\n",
      "Epoch 77/100\n",
      "18/18 [==============================] - 0s 6ms/step - loss: 110.9476 - mae: 110.9476 - mse: 72417.5078 - val_loss: 591.9425 - val_mae: 591.9425 - val_mse: 1244111.0000\n",
      "Epoch 78/100\n",
      "18/18 [==============================] - 0s 5ms/step - loss: 114.6244 - mae: 114.6244 - mse: 75383.2344 - val_loss: 610.1310 - val_mae: 610.1310 - val_mse: 1264168.1250\n",
      "Epoch 79/100\n",
      "18/18 [==============================] - 0s 5ms/step - loss: 110.4056 - mae: 110.4056 - mse: 73931.3203 - val_loss: 628.2992 - val_mae: 628.2992 - val_mse: 1318873.3750\n",
      "Epoch 80/100\n",
      "18/18 [==============================] - 0s 5ms/step - loss: 111.1091 - mae: 111.1091 - mse: 73532.3828 - val_loss: 603.2129 - val_mae: 603.2129 - val_mse: 1247780.5000\n",
      "Epoch 81/100\n",
      "18/18 [==============================] - 0s 4ms/step - loss: 109.1832 - mae: 109.1832 - mse: 71626.5312 - val_loss: 599.4958 - val_mae: 599.4958 - val_mse: 1239046.8750\n",
      "Epoch 82/100\n",
      " 1/18 [>.............................] - ETA: 0s - loss: 200.6393 - mae: 200.6393 - mse: 239651.8438"
     ]
    },
    {
     "name": "stderr",
     "output_type": "stream",
     "text": [
      "WARNING:absl:Found untraced functions such as _update_step_xla while saving (showing 1 of 1). These functions will not be directly callable after loading.\n"
     ]
    },
    {
     "name": "stdout",
     "output_type": "stream",
     "text": [
      "INFO:tensorflow:Assets written to: model_experiments\\model_1_dense\\assets\n"
     ]
    },
    {
     "name": "stderr",
     "output_type": "stream",
     "text": [
      "INFO:tensorflow:Assets written to: model_experiments\\model_1_dense\\assets\n"
     ]
    },
    {
     "name": "stdout",
     "output_type": "stream",
     "text": [
      "18/18 [==============================] - 1s 59ms/step - loss: 116.4781 - mae: 116.4781 - mse: 77700.4062 - val_loss: 578.9484 - val_mae: 578.9484 - val_mse: 1204725.3750\n",
      "Epoch 83/100\n",
      "18/18 [==============================] - 0s 5ms/step - loss: 114.3931 - mae: 114.3931 - mse: 75445.8281 - val_loss: 664.5399 - val_mae: 664.5399 - val_mse: 1410117.2500\n",
      "Epoch 84/100\n",
      "18/18 [==============================] - 0s 5ms/step - loss: 113.8804 - mae: 113.8804 - mse: 73057.1797 - val_loss: 608.7894 - val_mae: 608.7894 - val_mse: 1270481.5000\n",
      "Epoch 85/100\n",
      "18/18 [==============================] - 0s 6ms/step - loss: 110.8611 - mae: 110.8611 - mse: 72458.4844 - val_loss: 624.7332 - val_mae: 624.7332 - val_mse: 1286635.5000\n",
      "Epoch 86/100\n",
      "18/18 [==============================] - 0s 5ms/step - loss: 109.7541 - mae: 109.7541 - mse: 70674.4297 - val_loss: 607.0733 - val_mae: 607.0733 - val_mse: 1251584.7500\n",
      "Epoch 87/100\n",
      "18/18 [==============================] - 0s 5ms/step - loss: 108.6530 - mae: 108.6530 - mse: 69861.7500 - val_loss: 620.7435 - val_mae: 620.7435 - val_mse: 1292648.2500\n",
      "Epoch 88/100\n",
      "18/18 [==============================] - 0s 6ms/step - loss: 109.4396 - mae: 109.4396 - mse: 72650.0312 - val_loss: 580.0598 - val_mae: 580.0598 - val_mse: 1210237.0000\n",
      "Epoch 89/100\n",
      " 1/18 [>.............................] - ETA: 0s - loss: 101.7985 - mae: 101.7985 - mse: 62198.5820"
     ]
    },
    {
     "name": "stderr",
     "output_type": "stream",
     "text": [
      "WARNING:absl:Found untraced functions such as _update_step_xla while saving (showing 1 of 1). These functions will not be directly callable after loading.\n"
     ]
    },
    {
     "name": "stdout",
     "output_type": "stream",
     "text": [
      "INFO:tensorflow:Assets written to: model_experiments\\model_1_dense\\assets\n"
     ]
    },
    {
     "name": "stderr",
     "output_type": "stream",
     "text": [
      "INFO:tensorflow:Assets written to: model_experiments\\model_1_dense\\assets\n"
     ]
    },
    {
     "name": "stdout",
     "output_type": "stream",
     "text": [
      "18/18 [==============================] - 1s 52ms/step - loss: 108.9353 - mae: 108.9353 - mse: 70818.2266 - val_loss: 573.3650 - val_mae: 573.3650 - val_mse: 1195144.1250\n",
      "Epoch 90/100\n",
      "18/18 [==============================] - 0s 6ms/step - loss: 108.2294 - mae: 108.2294 - mse: 68478.9062 - val_loss: 616.4083 - val_mae: 616.4083 - val_mse: 1264152.3750\n",
      "Epoch 91/100\n",
      "18/18 [==============================] - 0s 5ms/step - loss: 113.9224 - mae: 113.9224 - mse: 73841.8516 - val_loss: 661.2878 - val_mae: 661.2878 - val_mse: 1394841.7500\n",
      "Epoch 92/100\n",
      "18/18 [==============================] - 0s 5ms/step - loss: 110.1197 - mae: 110.1197 - mse: 71940.3516 - val_loss: 652.1838 - val_mae: 652.1838 - val_mse: 1370697.2500\n",
      "Epoch 93/100\n",
      "18/18 [==============================] - 0s 5ms/step - loss: 119.2315 - mae: 119.2315 - mse: 75998.5859 - val_loss: 657.3577 - val_mae: 657.3577 - val_mse: 1383093.6250\n",
      "Epoch 94/100\n",
      "18/18 [==============================] - 0s 6ms/step - loss: 112.2807 - mae: 112.2807 - mse: 73514.7109 - val_loss: 585.4832 - val_mae: 585.4832 - val_mse: 1204118.3750\n",
      "Epoch 95/100\n",
      " 1/18 [>.............................] - ETA: 0s - loss: 137.0520 - mae: 137.0520 - mse: 114159.6094"
     ]
    },
    {
     "name": "stderr",
     "output_type": "stream",
     "text": [
      "WARNING:absl:Found untraced functions such as _update_step_xla while saving (showing 1 of 1). These functions will not be directly callable after loading.\n"
     ]
    },
    {
     "name": "stdout",
     "output_type": "stream",
     "text": [
      "INFO:tensorflow:Assets written to: model_experiments\\model_1_dense\\assets\n"
     ]
    },
    {
     "name": "stderr",
     "output_type": "stream",
     "text": [
      "INFO:tensorflow:Assets written to: model_experiments\\model_1_dense\\assets\n"
     ]
    },
    {
     "name": "stdout",
     "output_type": "stream",
     "text": [
      "18/18 [==============================] - 1s 69ms/step - loss: 107.5167 - mae: 107.5167 - mse: 69571.5000 - val_loss: 570.1768 - val_mae: 570.1768 - val_mse: 1184536.6250\n",
      "Epoch 96/100\n",
      "18/18 [==============================] - 0s 6ms/step - loss: 114.8537 - mae: 114.8537 - mse: 73203.6328 - val_loss: 702.6754 - val_mae: 702.6754 - val_mse: 1507538.0000\n",
      "Epoch 97/100\n",
      "18/18 [==============================] - 0s 5ms/step - loss: 111.0783 - mae: 111.0783 - mse: 73562.2578 - val_loss: 589.8061 - val_mae: 589.8061 - val_mse: 1211167.8750\n",
      "Epoch 98/100\n",
      "18/18 [==============================] - 0s 5ms/step - loss: 110.8947 - mae: 110.8947 - mse: 72316.8281 - val_loss: 595.4794 - val_mae: 595.4794 - val_mse: 1232217.5000\n",
      "Epoch 99/100\n",
      "18/18 [==============================] - 0s 6ms/step - loss: 108.5504 - mae: 108.5504 - mse: 71184.2344 - val_loss: 575.3597 - val_mae: 575.3597 - val_mse: 1183689.0000\n",
      "Epoch 100/100\n",
      "18/18 [==============================] - 0s 6ms/step - loss: 115.2950 - mae: 115.2950 - mse: 72409.2500 - val_loss: 699.7551 - val_mae: 699.7551 - val_mse: 1456603.0000\n"
     ]
    },
    {
     "data": {
      "text/plain": [
       "<keras.callbacks.History at 0x1faaebbd880>"
      ]
     },
     "execution_count": 98,
     "metadata": {},
     "output_type": "execute_result"
    }
   ],
   "source": [
    "import tensorflow as tf\n",
    "from tensorflow.keras import layers\n",
    "\n",
    "# Set random seed for as reproducible results as possible\n",
    "tf.random.set_seed(42)\n",
    "\n",
    "# 1. Construct the model\n",
    "model_1 = tf.keras.Sequential([\n",
    "  layers.Dense(128, activation=\"relu\"),\n",
    "  layers.Dense(HORIZON, activation=\"linear\") # linear activation is the same as having no activation               \n",
    "], name=\"model_1_dense\") # name our model so we can save it\n",
    "\n",
    "# 2. Compile the model\n",
    "model_1.compile(loss=\"mae\",\n",
    "                optimizer=tf.keras.optimizers.Adam(),\n",
    "                metrics=[\"mae\", \"mse\"])\n",
    "\n",
    "# 3. Fit the model\n",
    "model_1.fit(x=train_windows,\n",
    "            y=train_labels,\n",
    "            epochs=100,\n",
    "            verbose=1,\n",
    "            batch_size=128,\n",
    "            validation_data=(test_windows, test_labels),\n",
    "            callbacks=[create_model_checkpoint(model_name=model_1.name)])"
   ]
  },
  {
   "cell_type": "code",
   "execution_count": 99,
   "metadata": {},
   "outputs": [
    {
     "name": "stdout",
     "output_type": "stream",
     "text": [
      "18/18 [==============================] - 0s 2ms/step - loss: 699.7551 - mae: 699.7551 - mse: 1456603.1250\n"
     ]
    },
    {
     "data": {
      "text/plain": [
       "[699.755126953125, 699.755126953125, 1456603.125]"
      ]
     },
     "execution_count": 99,
     "metadata": {},
     "output_type": "execute_result"
    }
   ],
   "source": [
    "# Evaluate model on test data\n",
    "model_1.evaluate(test_windows, test_labels)"
   ]
  },
  {
   "cell_type": "code",
   "execution_count": 100,
   "metadata": {},
   "outputs": [
    {
     "name": "stdout",
     "output_type": "stream",
     "text": [
      "18/18 [==============================] - 1s 7ms/step - loss: 570.1768 - mae: 570.1768 - mse: 1184536.6250\n"
     ]
    },
    {
     "data": {
      "text/plain": [
       "[570.1767578125, 570.1767578125, 1184536.625]"
      ]
     },
     "execution_count": 100,
     "metadata": {},
     "output_type": "execute_result"
    }
   ],
   "source": [
    "# Load in saved best performing model_1 and evaluate it on test data\n",
    "model_1 = tf.keras.models.load_model(\"model_experiments/model_1_dense/\")\n",
    "model_1.evaluate(test_windows, test_labels)"
   ]
  },
  {
   "attachments": {},
   "cell_type": "markdown",
   "metadata": {},
   "source": [
    "## Making forecasts with a model (on the test dataset)\n",
    "\n",
    "To make \"forecasts\" on the test dataset (note: these won't be actual forecasts, they're only psuedo forecasts because actual forecasts are into the future):\n",
    "\n",
    "Writing a function to make predictions:\n",
    "1. Take in a train model\n",
    "2. Takes in some input data (same kind of data the model was trained on)\n",
    "3. Passes the input data to the model's `predict()` method\n",
    "4. Returns the predictions "
   ]
  },
  {
   "cell_type": "code",
   "execution_count": 102,
   "metadata": {},
   "outputs": [],
   "source": [
    "def make_preds(model, input_data):\n",
    "  \"\"\"\n",
    "  Uses model to make predictions input_data.\n",
    "  \"\"\"\n",
    "  forecast = model.predict(input_data)\n",
    "  return tf.squeeze(forecast) # return 1D array of predictions"
   ]
  },
  {
   "cell_type": "code",
   "execution_count": 103,
   "metadata": {},
   "outputs": [
    {
     "name": "stdout",
     "output_type": "stream",
     "text": [
      "18/18 [==============================] - 0s 941us/step\n"
     ]
    },
    {
     "data": {
      "text/plain": [
       "(556,\n",
       " <tf.Tensor: shape=(10,), dtype=float32, numpy=\n",
       " array([8899.291 , 8787.5   , 8999.502 , 8826.5625, 8764.794 , 8730.83  ,\n",
       "        8693.531 , 8569.538 , 8456.468 , 8530.006 ], dtype=float32)>)"
      ]
     },
     "execution_count": 103,
     "metadata": {},
     "output_type": "execute_result"
    }
   ],
   "source": [
    "# Make predictions using model_1 on the test dataset and view results\n",
    "model_1_preds = make_preds(model_1, test_windows) \n",
    "len(model_1_preds), model_1_preds[:10]"
   ]
  },
  {
   "cell_type": "code",
   "execution_count": 104,
   "metadata": {},
   "outputs": [
    {
     "data": {
      "text/plain": [
       "(TensorShape([556]), TensorShape([556]))"
      ]
     },
     "execution_count": 104,
     "metadata": {},
     "output_type": "execute_result"
    }
   ],
   "source": [
    "tf.squeeze(test_labels).shape, model_1_preds.shape"
   ]
  },
  {
   "cell_type": "code",
   "execution_count": 105,
   "metadata": {},
   "outputs": [
    {
     "data": {
      "text/plain": [
       "{'mae': 570.1768,\n",
       " 'mse': 1184536.2,\n",
       " 'rmse': 1088.364,\n",
       " 'mape': 2.5716565,\n",
       " 'mase': 1.0016427}"
      ]
     },
     "execution_count": 105,
     "metadata": {},
     "output_type": "execute_result"
    }
   ],
   "source": [
    "# Evaluate preds\n",
    "model_1_results = evaluate_preds(y_true=tf.squeeze(test_labels),\n",
    "                                 y_pred=model_1_preds)\n",
    "model_1_results"
   ]
  },
  {
   "cell_type": "code",
   "execution_count": 106,
   "metadata": {},
   "outputs": [
    {
     "data": {
      "text/plain": [
       "{'mae': 567.9802,\n",
       " 'mse': 1147547.0,\n",
       " 'rmse': 1071.2362,\n",
       " 'mape': 2.5165248,\n",
       " 'mase': 0.99957}"
      ]
     },
     "execution_count": 106,
     "metadata": {},
     "output_type": "execute_result"
    }
   ],
   "source": [
    "naive_results"
   ]
  },
  {
   "cell_type": "code",
   "execution_count": 107,
   "metadata": {},
   "outputs": [
    {
     "data": {
      "image/png": "[encoded data removed]",
      "text/plain": [
       "<Figure size 800x600 with 1 Axes>"
      ]
     },
     "metadata": {},
     "output_type": "display_data"
    }
   ],
   "source": [
    "# Let's plot our model 1 predictions\n",
    "offset = 450\n",
    "plt.figure(figsize=(8, 6))\n",
    "# Account for the test_window offset and index into test_labels to ensure correct plotting\n",
    "plot_time_series(timesteps=X_test[-len(test_windows):], \n",
    "                 values=test_labels[:, 0], \n",
    "                 start=offset, \n",
    "                 label=\"Test Data\")\n",
    "\n",
    "plot_time_series(timesteps=X_test[-len(test_windows):],\n",
    "                 values=model_1_preds,\n",
    "                 start=offset, \n",
    "                 format=\"-\",\n",
    "                 label=\"model_1_preds\")"
   ]
  },
  {
   "attachments": {},
   "cell_type": "markdown",
   "metadata": {},
   "source": [
    "## Model 2: Dense (window = 30, horizon = 1)"
   ]
  },
  {
   "cell_type": "code",
   "execution_count": 108,
   "metadata": {},
   "outputs": [],
   "source": [
    "HORIZON = 1 # predict one step at a time (one day of Bitcoin prices)\n",
    "WINDOW_SIZE = 30 # use 30 timesteps in past"
   ]
  },
  {
   "cell_type": "code",
   "execution_count": 109,
   "metadata": {},
   "outputs": [
    {
     "data": {
      "text/plain": [
       "(2757, 2757)"
      ]
     },
     "execution_count": 109,
     "metadata": {},
     "output_type": "execute_result"
    }
   ],
   "source": [
    "# Make windowed data with appropriate horizon and window sizes\n",
    "full_windows, full_labels = make_windows(prices, window_size=WINDOW_SIZE, horizon=HORIZON)\n",
    "len(full_windows), len(full_labels)"
   ]
  },
  {
   "cell_type": "code",
   "execution_count": 110,
   "metadata": {},
   "outputs": [
    {
     "data": {
      "text/plain": [
       "(2205, 552, 2205, 552)"
      ]
     },
     "execution_count": 110,
     "metadata": {},
     "output_type": "execute_result"
    }
   ],
   "source": [
    "# Make train and testing windows\n",
    "train_windows, test_windows, train_labels, test_labels = make_train_test_splits(windows=full_windows,\n",
    "                                                                                labels=full_labels,\n",
    "                                                                                test_split=0.2)\n",
    "len(train_windows), len(test_windows), len(train_labels), len(test_labels)"
   ]
  },
  {
   "cell_type": "code",
   "execution_count": 111,
   "metadata": {},
   "outputs": [
    {
     "name": "stderr",
     "output_type": "stream",
     "text": [
      "WARNING:absl:Found untraced functions such as _update_step_xla while saving (showing 1 of 1). These functions will not be directly callable after loading.\n"
     ]
    },
    {
     "name": "stdout",
     "output_type": "stream",
     "text": [
      "INFO:tensorflow:Assets written to: model_experiments\\model_2_dense\\assets\n"
     ]
    },
    {
     "name": "stderr",
     "output_type": "stream",
     "text": [
      "INFO:tensorflow:Assets written to: model_experiments\\model_2_dense\\assets\n",
      "WARNING:absl:Found untraced functions such as _update_step_xla while saving (showing 1 of 1). These functions will not be directly callable after loading.\n"
     ]
    },
    {
     "name": "stdout",
     "output_type": "stream",
     "text": [
      "INFO:tensorflow:Assets written to: model_experiments\\model_2_dense\\assets\n"
     ]
    },
    {
     "name": "stderr",
     "output_type": "stream",
     "text": [
      "INFO:tensorflow:Assets written to: model_experiments\\model_2_dense\\assets\n",
      "WARNING:absl:Found untraced functions such as _update_step_xla while saving (showing 1 of 1). These functions will not be directly callable after loading.\n"
     ]
    },
    {
     "name": "stdout",
     "output_type": "stream",
     "text": [
      "INFO:tensorflow:Assets written to: model_experiments\\model_2_dense\\assets\n"
     ]
    },
    {
     "name": "stderr",
     "output_type": "stream",
     "text": [
      "INFO:tensorflow:Assets written to: model_experiments\\model_2_dense\\assets\n",
      "WARNING:absl:Found untraced functions such as _update_step_xla while saving (showing 1 of 1). These functions will not be directly callable after loading.\n"
     ]
    },
    {
     "name": "stdout",
     "output_type": "stream",
     "text": [
      "INFO:tensorflow:Assets written to: model_experiments\\model_2_dense\\assets\n"
     ]
    },
    {
     "name": "stderr",
     "output_type": "stream",
     "text": [
      "INFO:tensorflow:Assets written to: model_experiments\\model_2_dense\\assets\n",
      "WARNING:absl:Found untraced functions such as _update_step_xla while saving (showing 1 of 1). These functions will not be directly callable after loading.\n"
     ]
    },
    {
     "name": "stdout",
     "output_type": "stream",
     "text": [
      "INFO:tensorflow:Assets written to: model_experiments\\model_2_dense\\assets\n"
     ]
    },
    {
     "name": "stderr",
     "output_type": "stream",
     "text": [
      "INFO:tensorflow:Assets written to: model_experiments\\model_2_dense\\assets\n",
      "WARNING:absl:Found untraced functions such as _update_step_xla while saving (showing 1 of 1). These functions will not be directly callable after loading.\n"
     ]
    },
    {
     "name": "stdout",
     "output_type": "stream",
     "text": [
      "INFO:tensorflow:Assets written to: model_experiments\\model_2_dense\\assets\n"
     ]
    },
    {
     "name": "stderr",
     "output_type": "stream",
     "text": [
      "INFO:tensorflow:Assets written to: model_experiments\\model_2_dense\\assets\n",
      "WARNING:absl:Found untraced functions such as _update_step_xla while saving (showing 1 of 1). These functions will not be directly callable after loading.\n"
     ]
    },
    {
     "name": "stdout",
     "output_type": "stream",
     "text": [
      "INFO:tensorflow:Assets written to: model_experiments\\model_2_dense\\assets\n"
     ]
    },
    {
     "name": "stderr",
     "output_type": "stream",
     "text": [
      "INFO:tensorflow:Assets written to: model_experiments\\model_2_dense\\assets\n",
      "WARNING:absl:Found untraced functions such as _update_step_xla while saving (showing 1 of 1). These functions will not be directly callable after loading.\n"
     ]
    },
    {
     "name": "stdout",
     "output_type": "stream",
     "text": [
      "INFO:tensorflow:Assets written to: model_experiments\\model_2_dense\\assets\n"
     ]
    },
    {
     "name": "stderr",
     "output_type": "stream",
     "text": [
      "INFO:tensorflow:Assets written to: model_experiments\\model_2_dense\\assets\n",
      "WARNING:absl:Found untraced functions such as _update_step_xla while saving (showing 1 of 1). These functions will not be directly callable after loading.\n"
     ]
    },
    {
     "name": "stdout",
     "output_type": "stream",
     "text": [
      "INFO:tensorflow:Assets written to: model_experiments\\model_2_dense\\assets\n"
     ]
    },
    {
     "name": "stderr",
     "output_type": "stream",
     "text": [
      "INFO:tensorflow:Assets written to: model_experiments\\model_2_dense\\assets\n",
      "WARNING:absl:Found untraced functions such as _update_step_xla while saving (showing 1 of 1). These functions will not be directly callable after loading.\n"
     ]
    },
    {
     "name": "stdout",
     "output_type": "stream",
     "text": [
      "INFO:tensorflow:Assets written to: model_experiments\\model_2_dense\\assets\n"
     ]
    },
    {
     "name": "stderr",
     "output_type": "stream",
     "text": [
      "INFO:tensorflow:Assets written to: model_experiments\\model_2_dense\\assets\n",
      "WARNING:absl:Found untraced functions such as _update_step_xla while saving (showing 1 of 1). These functions will not be directly callable after loading.\n"
     ]
    },
    {
     "name": "stdout",
     "output_type": "stream",
     "text": [
      "INFO:tensorflow:Assets written to: model_experiments\\model_2_dense\\assets\n"
     ]
    },
    {
     "name": "stderr",
     "output_type": "stream",
     "text": [
      "INFO:tensorflow:Assets written to: model_experiments\\model_2_dense\\assets\n",
      "WARNING:absl:Found untraced functions such as _update_step_xla while saving (showing 1 of 1). These functions will not be directly callable after loading.\n"
     ]
    },
    {
     "name": "stdout",
     "output_type": "stream",
     "text": [
      "INFO:tensorflow:Assets written to: model_experiments\\model_2_dense\\assets\n"
     ]
    },
    {
     "name": "stderr",
     "output_type": "stream",
     "text": [
      "INFO:tensorflow:Assets written to: model_experiments\\model_2_dense\\assets\n",
      "WARNING:absl:Found untraced functions such as _update_step_xla while saving (showing 1 of 1). These functions will not be directly callable after loading.\n"
     ]
    },
    {
     "name": "stdout",
     "output_type": "stream",
     "text": [
      "INFO:tensorflow:Assets written to: model_experiments\\model_2_dense\\assets\n"
     ]
    },
    {
     "name": "stderr",
     "output_type": "stream",
     "text": [
      "INFO:tensorflow:Assets written to: model_experiments\\model_2_dense\\assets\n",
      "WARNING:absl:Found untraced functions such as _update_step_xla while saving (showing 1 of 1). These functions will not be directly callable after loading.\n"
     ]
    },
    {
     "name": "stdout",
     "output_type": "stream",
     "text": [
      "INFO:tensorflow:Assets written to: model_experiments\\model_2_dense\\assets\n"
     ]
    },
    {
     "name": "stderr",
     "output_type": "stream",
     "text": [
      "INFO:tensorflow:Assets written to: model_experiments\\model_2_dense\\assets\n",
      "WARNING:absl:Found untraced functions such as _update_step_xla while saving (showing 1 of 1). These functions will not be directly callable after loading.\n"
     ]
    },
    {
     "name": "stdout",
     "output_type": "stream",
     "text": [
      "INFO:tensorflow:Assets written to: model_experiments\\model_2_dense\\assets\n"
     ]
    },
    {
     "name": "stderr",
     "output_type": "stream",
     "text": [
      "INFO:tensorflow:Assets written to: model_experiments\\model_2_dense\\assets\n",
      "WARNING:absl:Found untraced functions such as _update_step_xla while saving (showing 1 of 1). These functions will not be directly callable after loading.\n"
     ]
    },
    {
     "name": "stdout",
     "output_type": "stream",
     "text": [
      "INFO:tensorflow:Assets written to: model_experiments\\model_2_dense\\assets\n"
     ]
    },
    {
     "name": "stderr",
     "output_type": "stream",
     "text": [
      "INFO:tensorflow:Assets written to: model_experiments\\model_2_dense\\assets\n",
      "WARNING:absl:Found untraced functions such as _update_step_xla while saving (showing 1 of 1). These functions will not be directly callable after loading.\n"
     ]
    },
    {
     "name": "stdout",
     "output_type": "stream",
     "text": [
      "INFO:tensorflow:Assets written to: model_experiments\\model_2_dense\\assets\n"
     ]
    },
    {
     "name": "stderr",
     "output_type": "stream",
     "text": [
      "INFO:tensorflow:Assets written to: model_experiments\\model_2_dense\\assets\n",
      "WARNING:absl:Found untraced functions such as _update_step_xla while saving (showing 1 of 1). These functions will not be directly callable after loading.\n"
     ]
    },
    {
     "name": "stdout",
     "output_type": "stream",
     "text": [
      "INFO:tensorflow:Assets written to: model_experiments\\model_2_dense\\assets\n"
     ]
    },
    {
     "name": "stderr",
     "output_type": "stream",
     "text": [
      "INFO:tensorflow:Assets written to: model_experiments\\model_2_dense\\assets\n",
      "WARNING:absl:Found untraced functions such as _update_step_xla while saving (showing 1 of 1). These functions will not be directly callable after loading.\n"
     ]
    },
    {
     "name": "stdout",
     "output_type": "stream",
     "text": [
      "INFO:tensorflow:Assets written to: model_experiments\\model_2_dense\\assets\n"
     ]
    },
    {
     "name": "stderr",
     "output_type": "stream",
     "text": [
      "INFO:tensorflow:Assets written to: model_experiments\\model_2_dense\\assets\n",
      "WARNING:absl:Found untraced functions such as _update_step_xla while saving (showing 1 of 1). These functions will not be directly callable after loading.\n"
     ]
    },
    {
     "name": "stdout",
     "output_type": "stream",
     "text": [
      "INFO:tensorflow:Assets written to: model_experiments\\model_2_dense\\assets\n"
     ]
    },
    {
     "name": "stderr",
     "output_type": "stream",
     "text": [
      "INFO:tensorflow:Assets written to: model_experiments\\model_2_dense\\assets\n",
      "WARNING:absl:Found untraced functions such as _update_step_xla while saving (showing 1 of 1). These functions will not be directly callable after loading.\n"
     ]
    },
    {
     "name": "stdout",
     "output_type": "stream",
     "text": [
      "INFO:tensorflow:Assets written to: model_experiments\\model_2_dense\\assets\n"
     ]
    },
    {
     "name": "stderr",
     "output_type": "stream",
     "text": [
      "INFO:tensorflow:Assets written to: model_experiments\\model_2_dense\\assets\n",
      "WARNING:absl:Found untraced functions such as _update_step_xla while saving (showing 1 of 1). These functions will not be directly callable after loading.\n"
     ]
    },
    {
     "name": "stdout",
     "output_type": "stream",
     "text": [
      "INFO:tensorflow:Assets written to: model_experiments\\model_2_dense\\assets\n"
     ]
    },
    {
     "name": "stderr",
     "output_type": "stream",
     "text": [
      "INFO:tensorflow:Assets written to: model_experiments\\model_2_dense\\assets\n",
      "WARNING:absl:Found untraced functions such as _update_step_xla while saving (showing 1 of 1). These functions will not be directly callable after loading.\n"
     ]
    },
    {
     "name": "stdout",
     "output_type": "stream",
     "text": [
      "INFO:tensorflow:Assets written to: model_experiments\\model_2_dense\\assets\n"
     ]
    },
    {
     "name": "stderr",
     "output_type": "stream",
     "text": [
      "INFO:tensorflow:Assets written to: model_experiments\\model_2_dense\\assets\n",
      "WARNING:absl:Found untraced functions such as _update_step_xla while saving (showing 1 of 1). These functions will not be directly callable after loading.\n"
     ]
    },
    {
     "name": "stdout",
     "output_type": "stream",
     "text": [
      "INFO:tensorflow:Assets written to: model_experiments\\model_2_dense\\assets\n"
     ]
    },
    {
     "name": "stderr",
     "output_type": "stream",
     "text": [
      "INFO:tensorflow:Assets written to: model_experiments\\model_2_dense\\assets\n",
      "WARNING:absl:Found untraced functions such as _update_step_xla while saving (showing 1 of 1). These functions will not be directly callable after loading.\n"
     ]
    },
    {
     "name": "stdout",
     "output_type": "stream",
     "text": [
      "INFO:tensorflow:Assets written to: model_experiments\\model_2_dense\\assets\n"
     ]
    },
    {
     "name": "stderr",
     "output_type": "stream",
     "text": [
      "INFO:tensorflow:Assets written to: model_experiments\\model_2_dense\\assets\n",
      "WARNING:absl:Found untraced functions such as _update_step_xla while saving (showing 1 of 1). These functions will not be directly callable after loading.\n"
     ]
    },
    {
     "name": "stdout",
     "output_type": "stream",
     "text": [
      "INFO:tensorflow:Assets written to: model_experiments\\model_2_dense\\assets\n"
     ]
    },
    {
     "name": "stderr",
     "output_type": "stream",
     "text": [
      "INFO:tensorflow:Assets written to: model_experiments\\model_2_dense\\assets\n"
     ]
    },
    {
     "data": {
      "text/plain": [
       "<keras.callbacks.History at 0x1fab4bd3f40>"
      ]
     },
     "execution_count": 111,
     "metadata": {},
     "output_type": "execute_result"
    }
   ],
   "source": [
    "tf.random.set_seed(42)\n",
    "\n",
    "# Create the model\n",
    "model_2 = tf.keras.Sequential([\n",
    "  layers.Dense(128, activation=\"relu\"),\n",
    "  layers.Dense(HORIZON),\n",
    "], name=\"model_2_dense\")\n",
    "\n",
    "# Compile the model\n",
    "model_2.compile(loss=\"mae\",\n",
    "                optimizer=tf.keras.optimizers.Adam())\n",
    "\n",
    "# Fit the model\n",
    "model_2.fit(train_windows,\n",
    "            train_labels,\n",
    "            epochs=100,\n",
    "            batch_size=128,\n",
    "            verbose=0,\n",
    "            validation_data=(test_windows, test_labels),\n",
    "            callbacks=[create_model_checkpoint(model_name=model_2.name)])"
   ]
  },
  {
   "cell_type": "code",
   "execution_count": 112,
   "metadata": {},
   "outputs": [
    {
     "name": "stdout",
     "output_type": "stream",
     "text": [
      "18/18 [==============================] - 0s 6ms/step - loss: 617.2764\n"
     ]
    },
    {
     "data": {
      "text/plain": [
       "617.2763671875"
      ]
     },
     "execution_count": 112,
     "metadata": {},
     "output_type": "execute_result"
    }
   ],
   "source": [
    "# Evaluate model 2 on test data\n",
    "model_2.evaluate(test_windows, test_labels)"
   ]
  },
  {
   "cell_type": "code",
   "execution_count": 113,
   "metadata": {},
   "outputs": [
    {
     "name": "stdout",
     "output_type": "stream",
     "text": [
      "18/18 [==============================] - 0s 2ms/step - loss: 610.0207\n"
     ]
    },
    {
     "data": {
      "text/plain": [
       "610.0206909179688"
      ]
     },
     "execution_count": 113,
     "metadata": {},
     "output_type": "execute_result"
    }
   ],
   "source": [
    "# Load in the best performing model\n",
    "model_2 = tf.keras.models.load_model(\"model_experiments/model_2_dense/\")\n",
    "model_2.evaluate(test_windows, test_labels)"
   ]
  },
  {
   "cell_type": "code",
   "execution_count": 114,
   "metadata": {},
   "outputs": [
    {
     "name": "stdout",
     "output_type": "stream",
     "text": [
      "18/18 [==============================] - 0s 2ms/step\n"
     ]
    }
   ],
   "source": [
    "# Get forecast predictions\n",
    "model_2_preds = make_preds(model_2,\n",
    "                           input_data=test_windows)"
   ]
  },
  {
   "cell_type": "code",
   "execution_count": 115,
   "metadata": {},
   "outputs": [
    {
     "data": {
      "text/plain": [
       "(TensorShape([552]), TensorShape([552]))"
      ]
     },
     "execution_count": 115,
     "metadata": {},
     "output_type": "execute_result"
    }
   ],
   "source": [
    "tf.squeeze(test_labels).shape, model_2_preds.shape"
   ]
  },
  {
   "cell_type": "code",
   "execution_count": 116,
   "metadata": {},
   "outputs": [
    {
     "data": {
      "text/plain": [
       "{'mae': 610.02094,\n",
       " 'mse': 1250821.1,\n",
       " 'rmse': 1118.4011,\n",
       " 'mape': 2.76912,\n",
       " 'mase': 1.0663226}"
      ]
     },
     "execution_count": 116,
     "metadata": {},
     "output_type": "execute_result"
    }
   ],
   "source": [
    "# Evaluate results for model 2 predictions\n",
    "model_2_results = evaluate_preds(y_true=tf.squeeze(test_labels),\n",
    "                                 y_pred=model_2_preds)\n",
    "model_2_results"
   ]
  },
  {
   "cell_type": "code",
   "execution_count": 117,
   "metadata": {},
   "outputs": [
    {
     "data": {
      "text/plain": [
       "{'mae': 570.1768,\n",
       " 'mse': 1184536.2,\n",
       " 'rmse': 1088.364,\n",
       " 'mape': 2.5716565,\n",
       " 'mase': 1.0016427}"
      ]
     },
     "execution_count": 117,
     "metadata": {},
     "output_type": "execute_result"
    }
   ],
   "source": [
    "model_1_results"
   ]
  },
  {
   "cell_type": "code",
   "execution_count": 119,
   "metadata": {},
   "outputs": [
    {
     "data": {
      "image/png": "[encoded data removed]",
      "text/plain": [
       "<Figure size 800x600 with 1 Axes>"
      ]
     },
     "metadata": {},
     "output_type": "display_data"
    }
   ],
   "source": [
    "offset = 300\n",
    "plt.figure(figsize=(8, 6))\n",
    "# Account for test_window offset when plotting\n",
    "plot_time_series(timesteps=X_test[-len(test_windows):], values=test_labels[:, 0], start=offset, format=\"-\", label=\"Test Data\")\n",
    "plot_time_series(timesteps=X_test[-len(test_windows):], values=model_2_preds, start=offset, format=\"-\", label=\"model_2_preds\")"
   ]
  },
  {
   "attachments": {},
   "cell_type": "markdown",
   "metadata": {},
   "source": [
    "## Model 3: Dense (window = 30, horizon = 7)"
   ]
  },
  {
   "cell_type": "code",
   "execution_count": 120,
   "metadata": {},
   "outputs": [],
   "source": [
    "HORIZON = 7\n",
    "WINDOW_SIZE = 30"
   ]
  },
  {
   "cell_type": "code",
   "execution_count": 121,
   "metadata": {},
   "outputs": [
    {
     "data": {
      "text/plain": [
       "(2751, 2751)"
      ]
     },
     "execution_count": 121,
     "metadata": {},
     "output_type": "execute_result"
    }
   ],
   "source": [
    "full_windows, full_labels = make_windows(prices, window_size=WINDOW_SIZE, horizon=HORIZON)\n",
    "len(full_windows), len(full_labels)"
   ]
  },
  {
   "cell_type": "code",
   "execution_count": 122,
   "metadata": {},
   "outputs": [
    {
     "data": {
      "text/plain": [
       "(2200, 551, 2200, 551)"
      ]
     },
     "execution_count": 122,
     "metadata": {},
     "output_type": "execute_result"
    }
   ],
   "source": [
    "train_windows, test_windows, train_labels, test_labels = make_train_test_splits(windows=full_windows,\n",
    "                                                                                labels=full_labels)\n",
    "len(train_windows), len(test_windows), len(train_labels), len(test_labels)"
   ]
  },
  {
   "cell_type": "code",
   "execution_count": 123,
   "metadata": {},
   "outputs": [
    {
     "name": "stderr",
     "output_type": "stream",
     "text": [
      "WARNING:absl:Found untraced functions such as _update_step_xla while saving (showing 1 of 1). These functions will not be directly callable after loading.\n"
     ]
    },
    {
     "name": "stdout",
     "output_type": "stream",
     "text": [
      "INFO:tensorflow:Assets written to: model_experiments\\model_3_dense\\assets\n"
     ]
    },
    {
     "name": "stderr",
     "output_type": "stream",
     "text": [
      "INFO:tensorflow:Assets written to: model_experiments\\model_3_dense\\assets\n",
      "WARNING:absl:Found untraced functions such as _update_step_xla while saving (showing 1 of 1). These functions will not be directly callable after loading.\n"
     ]
    },
    {
     "name": "stdout",
     "output_type": "stream",
     "text": [
      "INFO:tensorflow:Assets written to: model_experiments\\model_3_dense\\assets\n"
     ]
    },
    {
     "name": "stderr",
     "output_type": "stream",
     "text": [
      "INFO:tensorflow:Assets written to: model_experiments\\model_3_dense\\assets\n",
      "WARNING:absl:Found untraced functions such as _update_step_xla while saving (showing 1 of 1). These functions will not be directly callable after loading.\n"
     ]
    },
    {
     "name": "stdout",
     "output_type": "stream",
     "text": [
      "INFO:tensorflow:Assets written to: model_experiments\\model_3_dense\\assets\n"
     ]
    },
    {
     "name": "stderr",
     "output_type": "stream",
     "text": [
      "INFO:tensorflow:Assets written to: model_experiments\\model_3_dense\\assets\n",
      "WARNING:absl:Found untraced functions such as _update_step_xla while saving (showing 1 of 1). These functions will not be directly callable after loading.\n"
     ]
    },
    {
     "name": "stdout",
     "output_type": "stream",
     "text": [
      "INFO:tensorflow:Assets written to: model_experiments\\model_3_dense\\assets\n"
     ]
    },
    {
     "name": "stderr",
     "output_type": "stream",
     "text": [
      "INFO:tensorflow:Assets written to: model_experiments\\model_3_dense\\assets\n",
      "WARNING:absl:Found untraced functions such as _update_step_xla while saving (showing 1 of 1). These functions will not be directly callable after loading.\n"
     ]
    },
    {
     "name": "stdout",
     "output_type": "stream",
     "text": [
      "INFO:tensorflow:Assets written to: model_experiments\\model_3_dense\\assets\n"
     ]
    },
    {
     "name": "stderr",
     "output_type": "stream",
     "text": [
      "INFO:tensorflow:Assets written to: model_experiments\\model_3_dense\\assets\n",
      "WARNING:absl:Found untraced functions such as _update_step_xla while saving (showing 1 of 1). These functions will not be directly callable after loading.\n"
     ]
    },
    {
     "name": "stdout",
     "output_type": "stream",
     "text": [
      "INFO:tensorflow:Assets written to: model_experiments\\model_3_dense\\assets\n"
     ]
    },
    {
     "name": "stderr",
     "output_type": "stream",
     "text": [
      "INFO:tensorflow:Assets written to: model_experiments\\model_3_dense\\assets\n",
      "WARNING:absl:Found untraced functions such as _update_step_xla while saving (showing 1 of 1). These functions will not be directly callable after loading.\n"
     ]
    },
    {
     "name": "stdout",
     "output_type": "stream",
     "text": [
      "INFO:tensorflow:Assets written to: model_experiments\\model_3_dense\\assets\n"
     ]
    },
    {
     "name": "stderr",
     "output_type": "stream",
     "text": [
      "INFO:tensorflow:Assets written to: model_experiments\\model_3_dense\\assets\n",
      "WARNING:absl:Found untraced functions such as _update_step_xla while saving (showing 1 of 1). These functions will not be directly callable after loading.\n"
     ]
    },
    {
     "name": "stdout",
     "output_type": "stream",
     "text": [
      "INFO:tensorflow:Assets written to: model_experiments\\model_3_dense\\assets\n"
     ]
    },
    {
     "name": "stderr",
     "output_type": "stream",
     "text": [
      "INFO:tensorflow:Assets written to: model_experiments\\model_3_dense\\assets\n",
      "WARNING:absl:Found untraced functions such as _update_step_xla while saving (showing 1 of 1). These functions will not be directly callable after loading.\n"
     ]
    },
    {
     "name": "stdout",
     "output_type": "stream",
     "text": [
      "INFO:tensorflow:Assets written to: model_experiments\\model_3_dense\\assets\n"
     ]
    },
    {
     "name": "stderr",
     "output_type": "stream",
     "text": [
      "INFO:tensorflow:Assets written to: model_experiments\\model_3_dense\\assets\n",
      "WARNING:absl:Found untraced functions such as _update_step_xla while saving (showing 1 of 1). These functions will not be directly callable after loading.\n"
     ]
    },
    {
     "name": "stdout",
     "output_type": "stream",
     "text": [
      "INFO:tensorflow:Assets written to: model_experiments\\model_3_dense\\assets\n"
     ]
    },
    {
     "name": "stderr",
     "output_type": "stream",
     "text": [
      "INFO:tensorflow:Assets written to: model_experiments\\model_3_dense\\assets\n",
      "WARNING:absl:Found untraced functions such as _update_step_xla while saving (showing 1 of 1). These functions will not be directly callable after loading.\n"
     ]
    },
    {
     "name": "stdout",
     "output_type": "stream",
     "text": [
      "INFO:tensorflow:Assets written to: model_experiments\\model_3_dense\\assets\n"
     ]
    },
    {
     "name": "stderr",
     "output_type": "stream",
     "text": [
      "INFO:tensorflow:Assets written to: model_experiments\\model_3_dense\\assets\n",
      "WARNING:absl:Found untraced functions such as _update_step_xla while saving (showing 1 of 1). These functions will not be directly callable after loading.\n"
     ]
    },
    {
     "name": "stdout",
     "output_type": "stream",
     "text": [
      "INFO:tensorflow:Assets written to: model_experiments\\model_3_dense\\assets\n"
     ]
    },
    {
     "name": "stderr",
     "output_type": "stream",
     "text": [
      "INFO:tensorflow:Assets written to: model_experiments\\model_3_dense\\assets\n",
      "WARNING:absl:Found untraced functions such as _update_step_xla while saving (showing 1 of 1). These functions will not be directly callable after loading.\n"
     ]
    },
    {
     "name": "stdout",
     "output_type": "stream",
     "text": [
      "INFO:tensorflow:Assets written to: model_experiments\\model_3_dense\\assets\n"
     ]
    },
    {
     "name": "stderr",
     "output_type": "stream",
     "text": [
      "INFO:tensorflow:Assets written to: model_experiments\\model_3_dense\\assets\n",
      "WARNING:absl:Found untraced functions such as _update_step_xla while saving (showing 1 of 1). These functions will not be directly callable after loading.\n"
     ]
    },
    {
     "name": "stdout",
     "output_type": "stream",
     "text": [
      "INFO:tensorflow:Assets written to: model_experiments\\model_3_dense\\assets\n"
     ]
    },
    {
     "name": "stderr",
     "output_type": "stream",
     "text": [
      "INFO:tensorflow:Assets written to: model_experiments\\model_3_dense\\assets\n",
      "WARNING:absl:Found untraced functions such as _update_step_xla while saving (showing 1 of 1). These functions will not be directly callable after loading.\n"
     ]
    },
    {
     "name": "stdout",
     "output_type": "stream",
     "text": [
      "INFO:tensorflow:Assets written to: model_experiments\\model_3_dense\\assets\n"
     ]
    },
    {
     "name": "stderr",
     "output_type": "stream",
     "text": [
      "INFO:tensorflow:Assets written to: model_experiments\\model_3_dense\\assets\n",
      "WARNING:absl:Found untraced functions such as _update_step_xla while saving (showing 1 of 1). These functions will not be directly callable after loading.\n"
     ]
    },
    {
     "name": "stdout",
     "output_type": "stream",
     "text": [
      "INFO:tensorflow:Assets written to: model_experiments\\model_3_dense\\assets\n"
     ]
    },
    {
     "name": "stderr",
     "output_type": "stream",
     "text": [
      "INFO:tensorflow:Assets written to: model_experiments\\model_3_dense\\assets\n",
      "WARNING:absl:Found untraced functions such as _update_step_xla while saving (showing 1 of 1). These functions will not be directly callable after loading.\n"
     ]
    },
    {
     "name": "stdout",
     "output_type": "stream",
     "text": [
      "INFO:tensorflow:Assets written to: model_experiments\\model_3_dense\\assets\n"
     ]
    },
    {
     "name": "stderr",
     "output_type": "stream",
     "text": [
      "INFO:tensorflow:Assets written to: model_experiments\\model_3_dense\\assets\n",
      "WARNING:absl:Found untraced functions such as _update_step_xla while saving (showing 1 of 1). These functions will not be directly callable after loading.\n"
     ]
    },
    {
     "name": "stdout",
     "output_type": "stream",
     "text": [
      "INFO:tensorflow:Assets written to: model_experiments\\model_3_dense\\assets\n"
     ]
    },
    {
     "name": "stderr",
     "output_type": "stream",
     "text": [
      "INFO:tensorflow:Assets written to: model_experiments\\model_3_dense\\assets\n",
      "WARNING:absl:Found untraced functions such as _update_step_xla while saving (showing 1 of 1). These functions will not be directly callable after loading.\n"
     ]
    },
    {
     "name": "stdout",
     "output_type": "stream",
     "text": [
      "INFO:tensorflow:Assets written to: model_experiments\\model_3_dense\\assets\n"
     ]
    },
    {
     "name": "stderr",
     "output_type": "stream",
     "text": [
      "INFO:tensorflow:Assets written to: model_experiments\\model_3_dense\\assets\n",
      "WARNING:absl:Found untraced functions such as _update_step_xla while saving (showing 1 of 1). These functions will not be directly callable after loading.\n"
     ]
    },
    {
     "name": "stdout",
     "output_type": "stream",
     "text": [
      "INFO:tensorflow:Assets written to: model_experiments\\model_3_dense\\assets\n"
     ]
    },
    {
     "name": "stderr",
     "output_type": "stream",
     "text": [
      "INFO:tensorflow:Assets written to: model_experiments\\model_3_dense\\assets\n",
      "WARNING:absl:Found untraced functions such as _update_step_xla while saving (showing 1 of 1). These functions will not be directly callable after loading.\n"
     ]
    },
    {
     "name": "stdout",
     "output_type": "stream",
     "text": [
      "INFO:tensorflow:Assets written to: model_experiments\\model_3_dense\\assets\n"
     ]
    },
    {
     "name": "stderr",
     "output_type": "stream",
     "text": [
      "INFO:tensorflow:Assets written to: model_experiments\\model_3_dense\\assets\n",
      "WARNING:absl:Found untraced functions such as _update_step_xla while saving (showing 1 of 1). These functions will not be directly callable after loading.\n"
     ]
    },
    {
     "name": "stdout",
     "output_type": "stream",
     "text": [
      "INFO:tensorflow:Assets written to: model_experiments\\model_3_dense\\assets\n"
     ]
    },
    {
     "name": "stderr",
     "output_type": "stream",
     "text": [
      "INFO:tensorflow:Assets written to: model_experiments\\model_3_dense\\assets\n",
      "WARNING:absl:Found untraced functions such as _update_step_xla while saving (showing 1 of 1). These functions will not be directly callable after loading.\n"
     ]
    },
    {
     "name": "stdout",
     "output_type": "stream",
     "text": [
      "INFO:tensorflow:Assets written to: model_experiments\\model_3_dense\\assets\n"
     ]
    },
    {
     "name": "stderr",
     "output_type": "stream",
     "text": [
      "INFO:tensorflow:Assets written to: model_experiments\\model_3_dense\\assets\n",
      "WARNING:absl:Found untraced functions such as _update_step_xla while saving (showing 1 of 1). These functions will not be directly callable after loading.\n"
     ]
    },
    {
     "name": "stdout",
     "output_type": "stream",
     "text": [
      "INFO:tensorflow:Assets written to: model_experiments\\model_3_dense\\assets\n"
     ]
    },
    {
     "name": "stderr",
     "output_type": "stream",
     "text": [
      "INFO:tensorflow:Assets written to: model_experiments\\model_3_dense\\assets\n"
     ]
    },
    {
     "data": {
      "text/plain": [
       "<keras.callbacks.History at 0x1fab5e58f10>"
      ]
     },
     "execution_count": 123,
     "metadata": {},
     "output_type": "execute_result"
    }
   ],
   "source": [
    "tf.random.set_seed(42)\n",
    "\n",
    "# Create model (same as model_1 except with different data input and output sizes)\n",
    "model_3 = tf.keras.Sequential([\n",
    "  layers.Dense(128, activation=\"relu\"),\n",
    "  layers.Dense(HORIZON)\n",
    "], name=\"model_3_dense\")\n",
    "\n",
    "# Compile the model\n",
    "model_3.compile(loss=\"MAE\",\n",
    "                optimizer=tf.keras.optimizers.Adam())\n",
    "\n",
    "# Fit the model\n",
    "model_3.fit(train_windows,\n",
    "            train_labels,\n",
    "            batch_size=128,\n",
    "            epochs=100,\n",
    "            verbose=0,\n",
    "            validation_data=(test_windows, test_labels),\n",
    "            callbacks=[create_model_checkpoint(model_name=model_3.name)])"
   ]
  },
  {
   "cell_type": "code",
   "execution_count": 124,
   "metadata": {},
   "outputs": [
    {
     "name": "stdout",
     "output_type": "stream",
     "text": [
      "18/18 [==============================] - 0s 3ms/step - loss: 1440.7437\n"
     ]
    },
    {
     "data": {
      "text/plain": [
       "1440.74365234375"
      ]
     },
     "execution_count": 124,
     "metadata": {},
     "output_type": "execute_result"
    }
   ],
   "source": [
    "# Evaluate the model on the test data\n",
    "model_3.evaluate(test_windows, test_labels)"
   ]
  },
  {
   "cell_type": "code",
   "execution_count": 125,
   "metadata": {},
   "outputs": [
    {
     "name": "stdout",
     "output_type": "stream",
     "text": [
      "18/18 [==============================] - 0s 2ms/step - loss: 1236.2660\n"
     ]
    },
    {
     "data": {
      "text/plain": [
       "1236.2659912109375"
      ]
     },
     "execution_count": 125,
     "metadata": {},
     "output_type": "execute_result"
    }
   ],
   "source": [
    "# Load best version of model_3 and evaluate\n",
    "model_3 = tf.keras.models.load_model(\"model_experiments/model_3_dense\")\n",
    "model_3.evaluate(test_windows, test_labels)"
   ]
  },
  {
   "cell_type": "code",
   "execution_count": 126,
   "metadata": {},
   "outputs": [
    {
     "name": "stdout",
     "output_type": "stream",
     "text": [
      "18/18 [==============================] - 0s 1ms/step\n"
     ]
    },
    {
     "data": {
      "text/plain": [
       "<tf.Tensor: shape=(5, 7), dtype=float32, numpy=\n",
       "array([[9165.634 , 9369.2705, 9203.648 , 9510.419 , 9605.509 , 9604.088 ,\n",
       "        9692.749 ],\n",
       "       [8816.037 , 8914.066 , 9161.848 , 9151.326 , 9375.513 , 9381.256 ,\n",
       "        9475.709 ],\n",
       "       [8604.2705, 8793.647 , 9161.581 , 9074.748 , 9099.517 , 9147.328 ,\n",
       "        9232.473 ],\n",
       "       [8835.745 , 9158.584 , 9151.464 , 9300.908 , 9120.606 , 9249.2705,\n",
       "        9230.05  ],\n",
       "       [8847.679 , 9168.027 , 8930.256 , 9123.109 , 9028.177 , 9122.196 ,\n",
       "        9123.838 ]], dtype=float32)>"
      ]
     },
     "execution_count": 126,
     "metadata": {},
     "output_type": "execute_result"
    }
   ],
   "source": [
    "# Make predictions with model_3\n",
    "model_3_preds = make_preds(model_3,\n",
    "                           input_data=test_windows)\n",
    "model_3_preds[:5]"
   ]
  },
  {
   "cell_type": "code",
   "execution_count": 127,
   "metadata": {},
   "outputs": [
    {
     "data": {
      "text/plain": [
       "{'mae': 610.02094,\n",
       " 'mse': 1250821.1,\n",
       " 'rmse': 1118.4011,\n",
       " 'mape': 2.76912,\n",
       " 'mase': 1.0663226}"
      ]
     },
     "execution_count": 127,
     "metadata": {},
     "output_type": "execute_result"
    }
   ],
   "source": [
    "model_2_results"
   ]
  },
  {
   "cell_type": "code",
   "execution_count": 128,
   "metadata": {},
   "outputs": [
    {
     "data": {
      "text/plain": [
       "(TensorShape([551, 7]), TensorShape([552]), TensorShape([556]))"
      ]
     },
     "execution_count": 128,
     "metadata": {},
     "output_type": "execute_result"
    }
   ],
   "source": [
    "model_3_preds.shape, model_2_preds.shape, model_1_preds.shape"
   ]
  },
  {
   "cell_type": "code",
   "execution_count": 129,
   "metadata": {},
   "outputs": [
    {
     "data": {
      "text/plain": [
       "{'mae': array([ 656.9732  ,  478.7436  ,  448.19824 ,  522.9237  ,  494.69254 ,\n",
       "         551.5695  ,  490.56223 ,  473.60162 ,  524.6795  ,  568.2337  ,\n",
       "         747.353   ,  721.10187 ,  889.0074  ,  928.1666  ,  615.49854 ,\n",
       "         198.42564 ,  163.89182 ,  233.14188 ,  241.0784  ,  267.58908 ,\n",
       "         222.99686 ,  278.4802  ,  355.77197 ,  345.53564 ,  171.61266 ,\n",
       "         122.14307 ,  151.90353 ,  218.39084 ,  162.0724  ,  200.69434 ,\n",
       "         301.11002 ,  370.93646 ,  363.05545 ,  349.36176 ,  314.17166 ,\n",
       "         350.59604 ,  358.31906 ,  218.28773 ,  217.67215 ,  193.65353 ,\n",
       "         576.64417 ,  123.43115 ,  106.99916 ,  108.65653 ,  133.52832 ,\n",
       "         132.16727 ,  119.921104,  156.21184 ,  100.673546,  175.70912 ,\n",
       "         136.26012 ,  193.96053 ,  218.9481  ,  139.42    ,  194.13197 ,\n",
       "         236.26248 ,  528.7692  ,  486.13873 ,  446.21722 ,  532.19586 ,\n",
       "         296.5457  ,  189.7101  ,  185.76967 ,  319.03787 ,  353.63358 ,\n",
       "         440.4554  ,  329.72064 ,  413.02182 ,  181.11858 ,  243.06375 ,\n",
       "         395.83762 ,  516.53516 ,  589.2281  ,  471.94476 ,  438.91156 ,\n",
       "         322.2352  ,  290.0434  ,  319.05734 ,  437.65054 ,  697.6285  ,\n",
       "         760.0424  ,  542.8919  ,  220.8549  ,  228.79213 ,  250.36621 ,\n",
       "         224.80971 ,  159.32701 ,  231.78488 ,  354.94644 ,  557.21735 ,\n",
       "         409.10672 ,  304.29617 ,  261.10394 ,  193.21275 ,  259.37192 ,\n",
       "         408.51382 ,  426.58328 ,  656.3581  ,  712.3619  ,  834.8546  ,\n",
       "         563.3263  ,  377.65707 ,  190.10994 ,  385.46442 ,  359.61832 ,\n",
       "         494.8898  ,  608.2394  ,  814.1974  , 1068.1819  , 1001.2874  ,\n",
       "         840.2034  ,  311.02945 ,  151.17188 ,  156.50963 ,  225.12193 ,\n",
       "         409.25424 ,  364.41107 ,  528.17725 ,  649.4682  , 1120.6179  ,\n",
       "        1683.5963  , 2143.0217  , 2057.472   , 2043.1307  , 2329.6165  ,\n",
       "        2616.6526  , 1211.7595  ,  615.05255 ,  349.40317 ,  354.84787 ,\n",
       "         425.7264  ,  519.6919  ,  488.57422 ,  242.56961 ,  213.7364  ,\n",
       "         344.12088 ,  401.5939  ,  205.00969 ,  315.63715 ,  267.0817  ,\n",
       "         394.94342 ,  484.66238 ,  528.6319  ,  987.1991  ,  801.8908  ,\n",
       "         596.3122  ,  362.3055  ,  165.5099  ,  213.84709 ,  230.9423  ,\n",
       "         280.10568 ,  273.9317  ,  267.24234 ,  483.87354 ,  639.9741  ,\n",
       "         196.55699 ,  196.11043 ,  112.40541 ,  162.61879 ,  199.25272 ,\n",
       "         286.43317 ,  179.54959 ,  195.52463 ,  243.13197 ,  156.21693 ,\n",
       "         340.90924 ,  483.6862  ,  669.55176 ,  592.46515 ,  617.08514 ,\n",
       "         685.9941  ,  798.7669  ,  875.9989  ,  995.5228  ,  362.33832 ,\n",
       "         270.78348 ,  297.01465 ,  289.82407 ,  382.79214 ,  449.1211  ,\n",
       "         588.4668  ,  575.78125 ,  827.73047 , 1063.139   ,  974.4503  ,\n",
       "         209.14774 ,  429.29492 ,  587.9205  ,  270.97992 ,  214.35184 ,\n",
       "         222.54465 ,  290.19476 ,  465.9329  ,  594.14325 ,  658.1553  ,\n",
       "         558.6595  ,  322.15164 ,  357.1797  ,  282.87152 ,  293.3065  ,\n",
       "         483.68668 ,  716.2182  ,  647.68    ,  324.80133 ,  268.68234 ,\n",
       "         214.54018 ,  239.2998  ,  649.5667  ,  246.11789 ,  143.26842 ,\n",
       "         179.36119 ,  161.44865 ,  286.4615  ,  397.8404  ,  443.89508 ,\n",
       "         556.61176 ,  612.89325 ,  249.10156 ,  315.5307  ,  243.29018 ,\n",
       "         234.49959 ,  188.34459 ,  113.780136,  196.97336 ,  203.39857 ,\n",
       "         175.61565 ,  239.0692  ,  285.80106 ,  514.20844 ,  585.3262  ,\n",
       "         367.6709  ,  236.58357 ,  251.73047 ,  118.583984,  164.99763 ,\n",
       "          81.71484 ,  182.94447 ,  143.5925  ,   86.37988 ,  167.96666 ,\n",
       "         133.66853 ,  108.65862 ,  122.8305  ,  125.66657 ,  279.63657 ,\n",
       "         247.07729 ,  167.07408 ,  171.58998 ,  185.54408 ,  205.00223 ,\n",
       "         178.85213 ,  132.42746 ,  118.66992 ,   90.43401 ,  162.63867 ,\n",
       "         276.2309  ,  588.7062  ,  614.0267  ,  723.92786 ,  808.6353  ,\n",
       "        1033.1925  , 1234.1749  , 1226.433   ,  343.25504 ,  250.56487 ,\n",
       "         254.25    ,  271.32016 ,  318.57602 ,  555.829   ,  193.27498 ,\n",
       "          82.80692 ,  199.46652 ,  317.49875 ,  482.07504 ,  382.68723 ,\n",
       "         342.6762  ,  399.4241  ,  394.90332 ,  138.84738 ,  292.47797 ,\n",
       "         139.14648 ,  252.83678 ,  296.84457 ,  292.34222 ,  547.53754 ,\n",
       "         619.6324  ,  432.1589  ,  362.80246 ,  382.64648 ,  478.2267  ,\n",
       "         386.0233  ,  268.0127  ,  137.24135 ,  144.20633 ,  371.6677  ,\n",
       "         484.85742 ,  702.91223 ,  955.6263  , 1264.2673  , 1568.9441  ,\n",
       "        1410.4082  ,  834.94824 ,  494.1116  ,  132.26158 ,  217.7885  ,\n",
       "         141.43387 ,  334.27762 ,  328.45914 ,  329.9149  ,  319.90317 ,\n",
       "         283.62445 ,  491.1811  ,  246.12305 ,  197.28781 ,  388.55524 ,\n",
       "         407.14984 ,  452.94937 ,  457.13058 ,  384.87125 ,  165.7302  ,\n",
       "         104.2832  ,  214.06502 ,  184.19322 ,  283.00266 ,  326.30258 ,\n",
       "         382.4912  ,  326.8972  ,  316.32965 ,  263.435   ,  135.31543 ,\n",
       "         158.29869 ,  215.71443 ,  297.46234 ,  375.4153  ,  514.0995  ,\n",
       "         612.0575  ,  514.2383  ,  328.3732  ,  198.63908 ,  263.41812 ,\n",
       "         401.9615  ,  263.79352 ,  331.07855 ,  473.21945 ,  718.45886 ,\n",
       "         943.9067  , 1114.1592  , 1017.8326  , 1027.7142  ,  230.81236 ,\n",
       "         222.61551 ,  214.48424 ,  185.10715 ,  158.619   ,  192.65402 ,\n",
       "         229.52776 ,  144.08469 ,  362.58316 ,  605.25964 ,  555.8802  ,\n",
       "         703.40735 , 1022.9044  , 1000.09625 ,  864.5335  ,  353.30273 ,\n",
       "         414.79172 ,  295.2807  ,  178.33846 ,  396.1307  ,  670.4213  ,\n",
       "         812.5339  ,  750.9017  ,  789.47406 , 1009.8139  , 1510.7274  ,\n",
       "        1321.3303  ,  826.87    ,  381.12695 ,  460.99777 ,  794.1124  ,\n",
       "        1187.86    , 1343.9484  ,  978.99023 , 1075.3917  , 1127.8613  ,\n",
       "         593.13586 , 1291.5935  , 1278.6091  ,  983.62274 ,  394.85825 ,\n",
       "         591.8024  ,  696.8019  , 1109.2687  ,  833.43164 ,  752.03485 ,\n",
       "         634.8714  ,  740.3175  ,  474.25894 ,  715.8407  , 1584.3162  ,\n",
       "        2330.1863  , 2474.3667  , 2798.1978  , 3066.139   , 3205.7058  ,\n",
       "        1960.4373  ,  516.2835  ,  524.34796 ,  913.7885  , 1081.7174  ,\n",
       "        1197.2897  , 1637.0323  , 2375.2737  , 2810.6724  , 2549.0767  ,\n",
       "        1843.9857  , 2187.02    , 2510.2302  , 3174.784   , 2812.4524  ,\n",
       "        3555.3774  , 4762.6     , 4264.193   , 4046.199   , 4514.058   ,\n",
       "        3384.5261  , 2892.4146  , 2618.496   , 4320.902   , 5241.5664  ,\n",
       "        5046.1167  , 1687.327   , 1030.8181  , 1189.1144  , 2873.0022  ,\n",
       "        3173.0413  , 3235.3047  , 3299.8333  , 3723.8535  , 4332.0796  ,\n",
       "        3862.903   ,  870.983   , 1556.4679  , 1599.7227  , 1333.8691  ,\n",
       "        1845.7081  , 2208.607   , 3569.0354  , 2848.6965  , 2249.9077  ,\n",
       "        2433.3772  , 2906.9458  , 3958.6277  , 4611.6743  , 4577.529   ,\n",
       "        5546.2695  , 6423.718   , 5728.632   , 6827.38    , 2540.7874  ,\n",
       "        1195.2142  , 1543.0764  , 1541.6462  , 1810.495   , 2169.8784  ,\n",
       "        2713.6519  , 3672.7974  , 3614.6233  , 2573.4973  , 3801.9817  ,\n",
       "        5811.941   , 7508.578   , 9955.505   , 9959.742   , 5102.3267  ,\n",
       "        2905.5374  , 2135.3286  , 1951.8722  , 1959.38    , 4098.9497  ,\n",
       "        2167.8074  , 2955.7378  , 2271.8372  , 4247.308   , 4402.685   ,\n",
       "        5149.3657  , 6025.6064  , 6429.215   , 4438.8823  , 2185.8538  ,\n",
       "        1263.7517  , 1601.5703  , 2590.0417  , 4108.3823  , 2637.2886  ,\n",
       "        2814.5034  , 3971.1567  , 5448.3438  , 5757.676   , 5036.573   ,\n",
       "        4543.4688  , 2368.567   , 1398.0374  , 2470.1055  , 4549.144   ,\n",
       "        3017.3833  , 1683.418   , 2290.49    , 1897.5569  ,  580.68024 ,\n",
       "        1041.0748  , 1473.8811  , 1335.6328  , 1221.0206  , 1419.2338  ,\n",
       "        1353.1875  ,  924.87946 , 2390.356   , 2523.1472  , 2805.302   ,\n",
       "        2317.8013  , 2184.5352  , 3249.8806  , 4641.2695  , 6259.763   ,\n",
       "        8326.823   , 8187.0366  , 8098.302   , 6373.9507  , 4955.6333  ,\n",
       "        4167.6636  , 2924.4666  , 1522.1959  , 2794.3215  , 3944.3655  ,\n",
       "        5966.1357  , 3851.2043  , 1694.9158  , 1804.8689  , 2199.1892  ,\n",
       "        1400.101   , 1524.472   , 1216.3828  , 1158.5944  , 2312.0754  ,\n",
       "        1597.2874  , 2648.7717  , 3845.0664  , 6487.2183  , 8376.743   ,\n",
       "        9399.406   ], dtype=float32),\n",
       " 'mse': array([5.19122844e+05, 3.21525906e+05, 2.42436578e+05, 3.17488156e+05,\n",
       "        3.06007688e+05, 4.03794750e+05, 2.91936344e+05, 3.24932938e+05,\n",
       "        4.62528938e+05, 4.82867688e+05, 8.05412688e+05, 7.42442812e+05,\n",
       "        9.11172500e+05, 9.50906875e+05, 3.98233469e+05, 6.40920430e+04,\n",
       "        3.52791367e+04, 7.53809453e+04, 7.97466953e+04, 1.16892664e+05,\n",
       "        6.57098906e+04, 9.51203047e+04, 1.50329766e+05, 1.29801109e+05,\n",
       "        4.26851562e+04, 2.73991309e+04, 3.88408945e+04, 5.45139062e+04,\n",
       "        3.70262266e+04, 5.52393828e+04, 1.08385695e+05, 1.66208109e+05,\n",
       "        1.90769078e+05, 2.39377359e+05, 1.70310344e+05, 1.83106141e+05,\n",
       "        2.04590078e+05, 8.87748516e+04, 1.05223750e+05, 4.87770352e+04,\n",
       "        3.52825812e+05, 1.72466445e+04, 1.63051641e+04, 2.46950801e+04,\n",
       "        2.06861406e+04, 2.18705938e+04, 1.89200449e+04, 3.33443086e+04,\n",
       "        1.54324307e+04, 4.39142773e+04, 3.33078867e+04, 4.65198008e+04,\n",
       "        7.03320547e+04, 2.76111836e+04, 6.75332500e+04, 1.01709023e+05,\n",
       "        3.39178062e+05, 2.94536094e+05, 2.56474766e+05, 3.01714062e+05,\n",
       "        1.00689477e+05, 9.13947500e+04, 6.59686797e+04, 1.67615828e+05,\n",
       "        1.97274797e+05, 2.44502750e+05, 1.35464766e+05, 2.03430500e+05,\n",
       "        4.36277227e+04, 8.40758594e+04, 2.06076047e+05, 3.36955938e+05,\n",
       "        4.18405250e+05, 2.99220344e+05, 2.37374641e+05, 1.53843344e+05,\n",
       "        1.14569539e+05, 1.64294422e+05, 2.68392781e+05, 5.61068938e+05,\n",
       "        5.96720062e+05, 3.11647656e+05, 7.75787500e+04, 6.73748906e+04,\n",
       "        1.05975797e+05, 8.19934844e+04, 4.84268945e+04, 7.22597969e+04,\n",
       "        1.49118578e+05, 3.30401781e+05, 2.01041281e+05, 1.15051305e+05,\n",
       "        7.71679297e+04, 5.17190664e+04, 1.11508438e+05, 2.23997250e+05,\n",
       "        2.73475188e+05, 5.53975562e+05, 6.36850438e+05, 7.52198000e+05,\n",
       "        3.85919844e+05, 1.73967906e+05, 7.36076641e+04, 1.78621859e+05,\n",
       "        2.84395625e+05, 4.15710594e+05, 5.42287875e+05, 8.82713188e+05,\n",
       "        1.39561200e+06, 1.12502025e+06, 7.50890688e+05, 1.48114219e+05,\n",
       "        3.84603867e+04, 3.78622500e+04, 7.71717109e+04, 1.86716906e+05,\n",
       "        2.42565625e+05, 4.11010406e+05, 5.04450719e+05, 2.26008375e+06,\n",
       "        4.47906150e+06, 6.32433650e+06, 6.01802400e+06, 5.80186400e+06,\n",
       "        6.35793050e+06, 6.90718850e+06, 1.53791875e+06, 4.41389938e+05,\n",
       "        1.51260109e+05, 1.68762891e+05, 3.30010688e+05, 3.63971469e+05,\n",
       "        3.07751906e+05, 8.27642109e+04, 7.82349766e+04, 1.75230078e+05,\n",
       "        2.06684172e+05, 7.22368047e+04, 1.37082656e+05, 1.22954336e+05,\n",
       "        1.91121141e+05, 3.44968281e+05, 4.13823812e+05, 1.03527944e+06,\n",
       "        7.43685125e+05, 4.10917000e+05, 1.61283297e+05, 3.12062402e+04,\n",
       "        6.60138672e+04, 9.93900391e+04, 9.34038359e+04, 1.02416820e+05,\n",
       "        7.79372344e+04, 2.54342031e+05, 4.41044812e+05, 5.12291875e+04,\n",
       "        4.60606680e+04, 1.45062051e+04, 3.75487773e+04, 4.89155625e+04,\n",
       "        1.02479828e+05, 4.86546523e+04, 5.23062695e+04, 1.04178273e+05,\n",
       "        4.96666875e+04, 1.49420922e+05, 2.63867031e+05, 6.34121688e+05,\n",
       "        5.82516625e+05, 6.73316688e+05, 7.04038875e+05, 8.08044688e+05,\n",
       "        8.62724625e+05, 1.00027162e+06, 1.69696578e+05, 1.49657703e+05,\n",
       "        1.28637445e+05, 1.11990820e+05, 2.08976297e+05, 2.74480969e+05,\n",
       "        3.83421781e+05, 4.03343312e+05, 9.55825125e+05, 1.33021300e+06,\n",
       "        1.02986731e+06, 7.26187969e+04, 2.29477969e+05, 3.72971438e+05,\n",
       "        1.13860789e+05, 7.61266953e+04, 7.49753281e+04, 1.24438500e+05,\n",
       "        3.16974938e+05, 4.72420781e+05, 5.63885812e+05, 3.92469344e+05,\n",
       "        1.70291359e+05, 1.94269547e+05, 1.01953266e+05, 1.02874711e+05,\n",
       "        3.65906781e+05, 5.81266562e+05, 4.71409500e+05, 1.93060266e+05,\n",
       "        1.85321703e+05, 6.56494219e+04, 1.01783836e+05, 4.43988562e+05,\n",
       "        8.03575703e+04, 2.97360020e+04, 6.10725547e+04, 4.78263672e+04,\n",
       "        1.22508914e+05, 2.20857219e+05, 2.60888703e+05, 3.41041312e+05,\n",
       "        3.90356500e+05, 9.80298828e+04, 1.27668336e+05, 8.59437734e+04,\n",
       "        8.16295000e+04, 5.35760508e+04, 1.98140508e+04, 6.14334297e+04,\n",
       "        5.57443320e+04, 5.53162500e+04, 8.34637109e+04, 1.05082461e+05,\n",
       "        2.82760594e+05, 3.65926344e+05, 1.59691516e+05, 8.22946641e+04,\n",
       "        7.66638281e+04, 1.80128398e+04, 4.50290703e+04, 1.03924326e+04,\n",
       "        3.76204414e+04, 3.68553945e+04, 1.12962246e+04, 3.28061836e+04,\n",
       "        1.97218555e+04, 2.86094844e+04, 1.72287031e+04, 2.61101055e+04,\n",
       "        8.89681250e+04, 8.66021172e+04, 4.62735312e+04, 4.04160703e+04,\n",
       "        4.79036602e+04, 4.81572422e+04, 3.70768047e+04, 2.97358125e+04,\n",
       "        1.79949043e+04, 1.23472080e+04, 3.17946660e+04, 9.47458047e+04,\n",
       "        6.01806438e+05, 7.23733438e+05, 9.43420875e+05, 1.01597431e+06,\n",
       "        1.37507762e+06, 1.69161525e+06, 1.55034262e+06, 1.64299531e+05,\n",
       "        1.00546328e+05, 9.95249844e+04, 9.66700547e+04, 1.32864359e+05,\n",
       "        3.37844031e+05, 4.80239922e+04, 1.27879873e+04, 7.20035703e+04,\n",
       "        1.42025344e+05, 2.90847250e+05, 1.89977016e+05, 1.70630609e+05,\n",
       "        1.77867828e+05, 1.69232781e+05, 3.71965117e+04, 1.18200703e+05,\n",
       "        3.06542070e+04, 7.92811250e+04, 1.28380734e+05, 1.19247570e+05,\n",
       "        3.68593344e+05, 4.16064281e+05, 2.21324578e+05, 2.19669141e+05,\n",
       "        2.02107109e+05, 2.59388750e+05, 1.78686172e+05, 8.27838203e+04,\n",
       "        2.27957812e+04, 3.79182109e+04, 2.04330266e+05, 3.38499781e+05,\n",
       "        7.13538312e+05, 1.42044775e+06, 1.93466762e+06, 2.76942025e+06,\n",
       "        2.07361088e+06, 7.76176562e+05, 2.71910344e+05, 2.02857363e+04,\n",
       "        6.04745938e+04, 2.75334336e+04, 1.29402805e+05, 1.55162125e+05,\n",
       "        1.39152422e+05, 1.23625875e+05, 1.00095414e+05, 2.80777812e+05,\n",
       "        6.81868984e+04, 7.58020469e+04, 2.36390531e+05, 2.61012656e+05,\n",
       "        2.52022344e+05, 2.52082953e+05, 1.62320344e+05, 3.54964922e+04,\n",
       "        2.22995879e+04, 5.57495234e+04, 5.44127422e+04, 1.33506531e+05,\n",
       "        1.75846969e+05, 1.75461719e+05, 1.33822969e+05, 1.12233953e+05,\n",
       "        8.28261953e+04, 2.77146152e+04, 3.47134141e+04, 7.29870312e+04,\n",
       "        1.32249219e+05, 2.04500219e+05, 3.16925156e+05, 4.02674094e+05,\n",
       "        2.77786969e+05, 1.41731328e+05, 4.88217422e+04, 8.84379922e+04,\n",
       "        1.95514672e+05, 9.63914844e+04, 2.43683719e+05, 4.78857281e+05,\n",
       "        8.91824562e+05, 1.23305888e+06, 1.43905925e+06, 1.12831625e+06,\n",
       "        1.12746688e+06, 7.16113906e+04, 6.92277969e+04, 5.28876875e+04,\n",
       "        5.12007148e+04, 3.97262930e+04, 8.10089609e+04, 7.83764141e+04,\n",
       "        3.91613555e+04, 3.38910219e+05, 7.11776000e+05, 5.51533125e+05,\n",
       "        7.83125688e+05, 1.26589625e+06, 1.12648550e+06, 9.02014688e+05,\n",
       "        2.14641031e+05, 2.44729797e+05, 1.40604875e+05, 7.40906484e+04,\n",
       "        2.33838594e+05, 6.97238688e+05, 9.82197062e+05, 8.64296000e+05,\n",
       "        8.77664000e+05, 1.37401062e+06, 2.47173075e+06, 1.78432462e+06,\n",
       "        8.16615125e+05, 1.89472500e+05, 4.71508312e+05, 1.32604425e+06,\n",
       "        2.12475725e+06, 2.59672000e+06, 1.54249288e+06, 1.83583888e+06,\n",
       "        1.76018062e+06, 4.41984281e+05, 1.97482512e+06, 1.76083612e+06,\n",
       "        1.14570212e+06, 2.42619609e+05, 3.77563344e+05, 5.63790875e+05,\n",
       "        1.33245825e+06, 1.03140169e+06, 8.10318312e+05, 5.52112125e+05,\n",
       "        7.47164188e+05, 4.18185219e+05, 1.08242475e+06, 4.53558650e+06,\n",
       "        7.70103150e+06, 8.84497700e+06, 9.94831900e+06, 1.06943620e+07,\n",
       "        1.05248960e+07, 3.96572125e+06, 4.02149344e+05, 3.59141250e+05,\n",
       "        1.12688188e+06, 1.46383825e+06, 2.30644250e+06, 3.75283475e+06,\n",
       "        7.23210150e+06, 8.86615900e+06, 7.48923650e+06, 6.39604800e+06,\n",
       "        7.86344000e+06, 8.63700700e+06, 1.25359750e+07, 1.19896800e+07,\n",
       "        2.05022140e+07, 3.14966620e+07, 2.62406020e+07, 2.09681000e+07,\n",
       "        2.56084520e+07, 1.56703850e+07, 1.02218770e+07, 1.10544820e+07,\n",
       "        2.44256440e+07, 3.14097320e+07, 2.59484160e+07, 3.79297775e+06,\n",
       "        1.71924525e+06, 2.13785950e+06, 1.26562510e+07, 1.54410800e+07,\n",
       "        1.65244770e+07, 1.69699080e+07, 1.68918960e+07, 2.18494140e+07,\n",
       "        1.66817190e+07, 1.45971925e+06, 2.82044175e+06, 3.84058775e+06,\n",
       "        3.18026125e+06, 4.15255250e+06, 6.04495900e+06, 1.43025810e+07,\n",
       "        1.08144510e+07, 6.69021250e+06, 7.33458500e+06, 1.05016100e+07,\n",
       "        2.15275960e+07, 3.21373960e+07, 3.33289240e+07, 4.34431360e+07,\n",
       "        5.25132240e+07, 3.75569160e+07, 4.78161080e+07, 7.90422300e+06,\n",
       "        1.81502225e+06, 3.59300475e+06, 2.76099550e+06, 5.07705550e+06,\n",
       "        6.65386500e+06, 1.05559910e+07, 1.71249840e+07, 1.42719680e+07,\n",
       "        1.04555440e+07, 1.87062340e+07, 5.26192720e+07, 6.99414960e+07,\n",
       "        1.12153920e+08, 1.03930112e+08, 3.20751240e+07, 1.39244340e+07,\n",
       "        5.65491450e+06, 5.02098700e+06, 4.71029350e+06, 1.87285220e+07,\n",
       "        6.34936650e+06, 1.20679940e+07, 1.13255600e+07, 2.45479940e+07,\n",
       "        2.62580220e+07, 3.70163800e+07, 4.29233720e+07, 4.64279080e+07,\n",
       "        2.19507220e+07, 7.58767200e+06, 2.98538825e+06, 5.14773700e+06,\n",
       "        7.82595550e+06, 1.79516620e+07, 1.35339670e+07, 1.37571070e+07,\n",
       "        2.51688800e+07, 4.21597640e+07, 4.08917400e+07, 2.96798300e+07,\n",
       "        2.25285160e+07, 8.73216100e+06, 3.16793050e+06, 8.39519900e+06,\n",
       "        2.21186400e+07, 1.08617030e+07, 3.89251975e+06, 5.66515600e+06,\n",
       "        4.43273650e+06, 6.91528000e+05, 1.52994512e+06, 2.83064250e+06,\n",
       "        2.71401525e+06, 2.12249350e+06, 2.78861675e+06, 2.79608050e+06,\n",
       "        1.54009400e+06, 6.83366300e+06, 8.68866700e+06, 9.41952400e+06,\n",
       "        7.59670900e+06, 6.74052250e+06, 1.47938630e+07, 3.34765640e+07,\n",
       "        5.42974720e+07, 8.34973600e+07, 8.13987920e+07, 7.44714400e+07,\n",
       "        5.10099000e+07, 2.95908040e+07, 2.12342540e+07, 1.29211440e+07,\n",
       "        3.53023425e+06, 9.27452100e+06, 1.90875040e+07, 3.70560880e+07,\n",
       "        1.64866830e+07, 4.02960400e+06, 4.15435075e+06, 6.29202000e+06,\n",
       "        3.49599550e+06, 3.03565475e+06, 2.81424550e+06, 2.06467375e+06,\n",
       "        6.94175850e+06, 4.46454900e+06, 1.42465060e+07, 2.74648280e+07,\n",
       "        6.16039880e+07, 9.30734960e+07, 1.16375824e+08], dtype=float32),\n",
       " 'rmse': array([  720.5018  ,   567.03253 ,   492.37848 ,   563.4609  ,\n",
       "          553.1796  ,   635.4485  ,   540.31134 ,   570.0289  ,\n",
       "          680.0948  ,   694.88684 ,   897.4479  ,   861.6512  ,\n",
       "          954.5536  ,   975.14453 ,   631.05743 ,   253.16406 ,\n",
       "          187.82741 ,   274.5559  ,   282.39456 ,   341.8957  ,\n",
       "          256.33942 ,   308.4158  ,   387.72382 ,   360.2792  ,\n",
       "          206.60387 ,   165.52682 ,   197.08093 ,   233.48213 ,\n",
       "          192.422   ,   235.0306  ,   329.21982 ,   407.68628 ,\n",
       "          436.7712  ,   489.26205 ,   412.68674 ,   427.90903 ,\n",
       "          452.31635 ,   297.95108 ,   324.3821  ,   220.85524 ,\n",
       "          593.99146 ,   131.32648 ,   127.69167 ,   157.14668 ,\n",
       "          143.82677 ,   147.8871  ,   137.55016 ,   182.60423 ,\n",
       "          124.22733 ,   209.55734 ,   182.50449 ,   215.6845  ,\n",
       "          265.2019  ,   166.16614 ,   259.8716  ,   318.91852 ,\n",
       "          582.38995 ,   542.7118  ,   506.43338 ,   549.28503 ,\n",
       "          317.31604 ,   302.31564 ,   256.8437  ,   409.40912 ,\n",
       "          444.15628 ,   494.4722  ,   368.0554  ,   451.0327  ,\n",
       "          208.8725  ,   289.95837 ,   453.956   ,   580.47906 ,\n",
       "          646.8425  ,   547.0104  ,   487.2111  ,   392.2287  ,\n",
       "          338.48123 ,   405.3325  ,   518.0664  ,   749.04535 ,\n",
       "          772.47656 ,   558.2541  ,   278.52963 ,   259.56674 ,\n",
       "          325.53925 ,   286.34503 ,   220.06111 ,   268.81183 ,\n",
       "          386.15875 ,   574.80585 ,   448.37628 ,   339.19214 ,\n",
       "          277.79117 ,   227.41826 ,   333.9288  ,   473.28348 ,\n",
       "          522.94855 ,   744.29535 ,   798.0291  ,   867.2935  ,\n",
       "          621.2245  ,   417.0946  ,   271.3073  ,   422.63678 ,\n",
       "          533.28754 ,   644.7562  ,   736.402   ,   939.5282  ,\n",
       "         1181.3602  ,  1060.6697  ,   866.5395  ,   384.8561  ,\n",
       "          196.1132  ,   194.58224 ,   277.79797 ,   432.1075  ,\n",
       "          492.50952 ,   641.10095 ,   710.24695 ,  1503.3575  ,\n",
       "         2116.3794  ,  2514.8232  ,  2453.166   ,  2408.7058  ,\n",
       "         2521.4937  ,  2628.153   ,  1240.1285  ,   664.3718  ,\n",
       "          388.92172 ,   410.80762 ,   574.4656  ,   603.3005  ,\n",
       "          554.7539  ,   287.68768 ,   279.70517 ,   418.60492 ,\n",
       "          454.6253  ,   268.76904 ,   370.24677 ,   350.64844 ,\n",
       "          437.17404 ,   587.34    ,   643.2914  ,  1017.4868  ,\n",
       "          862.3718  ,   641.0281  ,   401.60092 ,   176.65288 ,\n",
       "          256.93164 ,   315.26187 ,   305.62042 ,   320.02628 ,\n",
       "          279.17242 ,   504.32333 ,   664.11206 ,   226.33865 ,\n",
       "          214.6175  ,   120.44171 ,   193.77507 ,   221.16862 ,\n",
       "          320.1247  ,   220.578   ,   228.70564 ,   322.7666  ,\n",
       "          222.86024 ,   386.55002 ,   513.6799  ,   796.31757 ,\n",
       "          763.2278  ,   820.5588  ,   839.07025 ,   898.9131  ,\n",
       "          928.8297  ,  1000.1358  ,   411.94244 ,   386.85617 ,\n",
       "          358.6606  ,   334.6503  ,   457.13925 ,   523.9093  ,\n",
       "          619.21063 ,   635.09314 ,   977.6631  ,  1153.3486  ,\n",
       "         1014.8238  ,   269.47876 ,   479.03857 ,   610.71387 ,\n",
       "          337.43265 ,   275.91068 ,   273.81622 ,   352.75842 ,\n",
       "          563.00525 ,   687.32874 ,   750.9233  ,   626.47375 ,\n",
       "          412.66373 ,   440.7602  ,   319.3012  ,   320.74088 ,\n",
       "          604.9023  ,   762.4084  ,   686.59265 ,   439.38623 ,\n",
       "          430.49008 ,   256.22144 ,   319.0358  ,   666.32465 ,\n",
       "          283.47412 ,   172.4413  ,   247.12862 ,   218.6924  ,\n",
       "          350.01273 ,   469.9545  ,   510.77264 ,   583.9874  ,\n",
       "          624.78516 ,   313.09723 ,   357.30707 ,   293.16168 ,\n",
       "          285.70877 ,   231.46501 ,   140.76239 ,   247.85768 ,\n",
       "          236.10237 ,   235.19406 ,   288.90088 ,   324.16425 ,\n",
       "          531.7524  ,   604.91846 ,   399.6142  ,   286.87045 ,\n",
       "          276.88232 ,   134.21191 ,   212.20055 ,   101.94328 ,\n",
       "          193.9599  ,   191.97758 ,   106.2837  ,   181.12477 ,\n",
       "          140.43452 ,   169.14339 ,   131.25815 ,   161.58621 ,\n",
       "          298.27524 ,   294.28238 ,   215.11284 ,   201.03749 ,\n",
       "          218.86905 ,   219.44759 ,   192.55338 ,   172.44075 ,\n",
       "          134.14508 ,   111.11799 ,   178.3106  ,   307.80807 ,\n",
       "          775.76184 ,   850.7252  ,   971.2985  ,  1007.9555  ,\n",
       "         1172.6371  ,  1300.6211  ,  1245.1276  ,   405.33878 ,\n",
       "          317.09042 ,   315.4758  ,   310.9181  ,   364.50565 ,\n",
       "          581.2435  ,   219.14377 ,   113.083984,   268.3348  ,\n",
       "          376.8625  ,   539.30255 ,   435.86353 ,   413.0746  ,\n",
       "          421.7438  ,   411.37912 ,   192.86397 ,   343.80328 ,\n",
       "          175.08344 ,   281.56903 ,   358.30258 ,   345.32242 ,\n",
       "          607.1189  ,   645.03046 ,   470.45148 ,   468.68875 ,\n",
       "          449.56323 ,   509.30222 ,   422.71286 ,   287.72177 ,\n",
       "          150.98271 ,   194.72598 ,   452.02905 ,   581.8073  ,\n",
       "          844.712   ,  1191.8254  ,  1390.9233  ,  1664.1575  ,\n",
       "         1440.0038  ,   881.00885 ,   521.45026 ,   142.42801 ,\n",
       "          245.91583 ,   165.93202 ,   359.726   ,   393.90625 ,\n",
       "          373.0314  ,   351.6047  ,   316.3786  ,   529.8847  ,\n",
       "          261.12622 ,   275.32172 ,   486.2001  ,   510.89398 ,\n",
       "          502.01828 ,   502.07864 ,   402.88998 ,   188.40512 ,\n",
       "          149.33046 ,   236.11337 ,   233.2654  ,   365.38547 ,\n",
       "          419.34113 ,   418.8815  ,   365.8182  ,   335.01337 ,\n",
       "          287.7954  ,   166.47707 ,   186.31537 ,   270.16113 ,\n",
       "          363.66086 ,   452.217   ,   562.96106 ,   634.56604 ,\n",
       "          527.055   ,   376.47223 ,   220.95642 ,   297.38525 ,\n",
       "          442.1704  ,   310.4698  ,   493.6433  ,   691.9951  ,\n",
       "          944.3646  ,  1110.4319  ,  1199.6079  ,  1062.2223  ,\n",
       "         1061.8224  ,   267.60306 ,   263.11176 ,   229.97324 ,\n",
       "          226.27576 ,   199.31456 ,   284.62073 ,   279.9579  ,\n",
       "          197.89229 ,   582.16    ,   843.66815 ,   742.6528  ,\n",
       "          884.9439  ,  1125.1206  ,  1061.3602  ,   949.74457 ,\n",
       "          463.29367 ,   494.70172 ,   374.97318 ,   272.19598 ,\n",
       "          483.5686  ,   835.0082  ,   991.05853 ,   929.67523 ,\n",
       "          936.8372  ,  1172.182   ,  1572.174   ,  1335.7861  ,\n",
       "          903.6676  ,   435.2844  ,   686.6646  ,  1151.5399  ,\n",
       "         1457.6547  ,  1611.4342  ,  1241.9713  ,  1354.9313  ,\n",
       "         1326.718   ,   664.819   ,  1405.2847  ,  1326.965   ,\n",
       "         1070.3748  ,   492.56433 ,   614.46185 ,   750.8601  ,\n",
       "         1154.3215  ,  1015.57947 ,   900.1768  ,   743.0425  ,\n",
       "          864.3866  ,   646.6724  ,  1040.3965  ,  2129.6917  ,\n",
       "         2775.0732  ,  2974.0505  ,  3154.0957  ,  3270.2236  ,\n",
       "         3244.2097  ,  1991.4119  ,   634.15247 ,   599.28394 ,\n",
       "         1061.5469  ,  1209.8918  ,  1518.6976  ,  1937.2235  ,\n",
       "         2689.2566  ,  2977.6096  ,  2736.647   ,  2529.041   ,\n",
       "         2804.1826  ,  2938.8784  ,  3540.618   ,  3462.6118  ,\n",
       "         4527.937   ,  5612.1885  ,  5122.558   ,  4579.0938  ,\n",
       "         5060.4795  ,  3958.5837  ,  3197.167   ,  3324.8281  ,\n",
       "         4942.2305  ,  5604.4385  ,  5093.959   ,  1947.5569  ,\n",
       "         1311.2     ,  1462.1421  ,  3557.5625  ,  3929.514   ,\n",
       "         4065.031   ,  4119.4546  ,  4109.975   ,  4674.3354  ,\n",
       "         4084.326   ,  1208.1885  ,  1679.4171  ,  1959.7417  ,\n",
       "         1783.3287  ,  2037.7812  ,  2458.65    ,  3781.8752  ,\n",
       "         3288.5332  ,  2586.5444  ,  2708.244   ,  3240.6187  ,\n",
       "         4639.784   ,  5668.9854  ,  5773.1206  ,  6591.1406  ,\n",
       "         7246.601   ,  6128.3696  ,  6914.9194  ,  2811.445   ,\n",
       "         1347.2277  ,  1895.5223  ,  1661.6244  ,  2253.2322  ,\n",
       "         2579.5088  ,  3248.9985  ,  4138.2344  ,  3777.826   ,\n",
       "         3233.5034  ,  4325.0703  ,  7253.914   ,  8363.104   ,\n",
       "        10590.274   , 10194.612   ,  5663.49    ,  3731.546   ,\n",
       "         2378.0063  ,  2240.7559  ,  2170.321   ,  4327.6465  ,\n",
       "         2519.795   ,  3473.9019  ,  3365.347   ,  4954.5933  ,\n",
       "         5124.2583  ,  6084.109   ,  6551.5933  ,  6813.8027  ,\n",
       "         4685.1597  ,  2754.573   ,  1727.8276  ,  2268.8625  ,\n",
       "         2797.491   ,  4236.94    ,  3678.854   ,  3709.0574  ,\n",
       "         5016.8594  ,  6493.055   ,  6394.665   ,  5447.92    ,\n",
       "         4746.4214  ,  2955.023   ,  1779.8682  ,  2897.447   ,\n",
       "         4703.046   ,  3295.7097  ,  1972.947   ,  2380.159   ,\n",
       "         2105.4065  ,   831.5816  ,  1236.9095  ,  1682.4513  ,\n",
       "         1647.4269  ,  1456.878   ,  1669.9152  ,  1672.1484  ,\n",
       "         1241.0052  ,  2614.1277  ,  2947.6545  ,  3069.1243  ,\n",
       "         2756.213   ,  2596.2517  ,  3846.279   ,  5785.8936  ,\n",
       "         7368.6816  ,  9137.689   ,  9022.128   ,  8629.684   ,\n",
       "         7142.1216  ,  5439.743   ,  4608.064   ,  3594.5994  ,\n",
       "         1878.8917  ,  3045.41    ,  4368.925   ,  6087.371   ,\n",
       "         4060.3796  ,  2007.3873  ,  2038.2224  ,  2508.39    ,\n",
       "         1869.7582  ,  1742.313   ,  1677.5713  ,  1436.8972  ,\n",
       "         2634.7217  ,  2112.948   ,  3774.4543  ,  5240.6895  ,\n",
       "         7848.821   ,  9647.461   , 10787.763   ], dtype=float32),\n",
       " 'mape': array([ 7.515118  ,  5.5231595 ,  5.1737165 ,  6.087769  ,  5.8415284 ,\n",
       "         6.6009274 ,  5.9226623 ,  5.9140825 ,  6.834931  ,  7.5222197 ,\n",
       "        10.157927  ,  9.938981  , 12.270433  , 12.816154  ,  8.4858465 ,\n",
       "         2.7525516 ,  2.228394  ,  3.10381   ,  3.2104557 ,  3.5388727 ,\n",
       "         3.0268326 ,  3.7565124 ,  4.84015   ,  4.6854577 ,  2.3168473 ,\n",
       "         1.6672895 ,  2.0687253 ,  2.9456105 ,  2.203168  ,  2.762885  ,\n",
       "         4.1755357 ,  5.176423  ,  5.1439548 ,  5.1179104 ,  4.572994  ,\n",
       "         5.082321  ,  5.209798  ,  3.179196  ,  3.1760886 ,  2.7269044 ,\n",
       "         7.9519114 ,  1.7115613 ,  1.4818103 ,  1.4997715 ,  1.8491039 ,\n",
       "         1.8278003 ,  1.6557326 ,  2.159515  ,  1.3893081 ,  2.4547648 ,\n",
       "         1.90947   ,  2.7081203 ,  3.0579371 ,  1.918296  ,  2.581357  ,\n",
       "         3.0232015 ,  6.7972064 ,  6.1484957 ,  5.5748224 ,  6.638124  ,\n",
       "         3.6733444 ,  2.2649376 ,  2.1740143 ,  3.6951694 ,  4.036456  ,\n",
       "         5.0131083 ,  3.7375998 ,  4.6886163 ,  2.0566423 ,  2.8015618 ,\n",
       "         4.6022196 ,  6.0442533 ,  6.9441175 ,  5.57451   ,  5.1658955 ,\n",
       "         3.8056095 ,  3.3724554 ,  3.506764  ,  4.72245   ,  7.514192  ,\n",
       "         8.156352  ,  5.8004737 ,  2.3466733 ,  2.4344456 ,  2.6925611 ,\n",
       "         2.4093623 ,  1.6999992 ,  2.3879907 ,  3.607116  ,  5.6101823 ,\n",
       "         4.056556  ,  2.9944153 ,  2.5615432 ,  1.911366  ,  2.5958543 ,\n",
       "         4.105764  ,  4.303944  ,  6.660761  ,  7.289839  ,  8.554036  ,\n",
       "         5.81252   ,  3.8917277 ,  1.9195898 ,  4.012664  ,  3.9220192 ,\n",
       "         5.4626803 ,  6.783999  ,  9.185912  , 12.199022  , 11.440014  ,\n",
       "         9.628056  ,  3.5839968 ,  1.7391076 ,  1.7738626 ,  2.5137553 ,\n",
       "         4.6560044 ,  4.3947144 ,  6.4262705 ,  7.9081855 , 16.239586  ,\n",
       "        26.163092  , 35.330456  , 36.067955  , 37.967976  , 43.224586  ,\n",
       "        48.621082  , 22.395226  , 11.35525   ,  6.274394  ,  6.129918  ,\n",
       "         6.835051  ,  8.184232  ,  7.5548306 ,  3.8515394 ,  3.3954296 ,\n",
       "         5.359533  ,  6.173653  ,  3.207059  ,  5.000631  ,  4.283853  ,\n",
       "         6.1357703 ,  7.542306  ,  7.9008274 , 14.70999   , 11.656519  ,\n",
       "         8.5683365 ,  5.103464  ,  2.3534684 ,  2.9880443 ,  3.2952237 ,\n",
       "         3.9736528 ,  3.9307177 ,  3.8291097 ,  7.0029154 ,  9.2875395 ,\n",
       "         2.8548236 ,  2.8158944 ,  1.6022655 ,  2.3356552 ,  2.8254867 ,\n",
       "         4.015629  ,  2.5037518 ,  2.757095  ,  3.4597137 ,  2.2293384 ,\n",
       "         4.5095897 ,  6.3500776 ,  8.349904  ,  7.0992365 ,  7.154634  ,\n",
       "         7.8571877 ,  9.088271  ,  9.916478  , 11.215933  ,  4.0126853 ,\n",
       "         2.8698337 ,  3.1501179 ,  3.0702627 ,  4.0892406 ,  4.839555  ,\n",
       "         6.3426437 ,  6.3170867 ,  9.251889  , 11.801915  , 10.784805  ,\n",
       "         2.3191977 ,  4.49231   ,  6.124994  ,  2.804911  ,  2.2799153 ,\n",
       "         2.3777854 ,  3.11965   ,  5.0656104 ,  6.5256367 ,  7.303781  ,\n",
       "         6.202959  ,  3.5915475 ,  3.9682946 ,  3.0789843 ,  3.168269  ,\n",
       "         4.9670067 ,  7.411068  ,  6.6634474 ,  3.2815807 ,  2.6873329 ,\n",
       "         2.1817462 ,  2.407587  ,  6.697623  ,  2.5265672 ,  1.4702799 ,\n",
       "         1.8831123 ,  1.7007635 ,  3.022369  ,  4.2109113 ,  4.716044  ,\n",
       "         5.9014907 ,  6.5042243 ,  2.6436334 ,  3.3611622 ,  2.59665   ,\n",
       "         2.5095599 ,  2.013866  ,  1.2128851 ,  2.1106334 ,  2.1764274 ,\n",
       "         1.8515673 ,  2.5505862 ,  3.0643225 ,  5.5930953 ,  6.395605  ,\n",
       "         4.019064  ,  2.5924299 ,  2.7624195 ,  1.2991257 ,  1.8012775 ,\n",
       "         0.8963123 ,  1.9993637 ,  1.5742517 ,  0.93697906,  1.8153763 ,\n",
       "         1.4423149 ,  1.1605346 ,  1.3219105 ,  1.3476623 ,  3.0244696 ,\n",
       "         2.6842923 ,  1.8189    ,  1.8672045 ,  2.0212388 ,  2.2319758 ,\n",
       "         1.9446625 ,  1.4422593 ,  1.2768462 ,  0.96224535,  1.7112708 ,\n",
       "         2.863084  ,  5.729091  ,  5.768756  ,  6.6197267 ,  7.3205233 ,\n",
       "         9.296712  , 10.97266   , 10.861273  ,  3.0108523 ,  2.1888537 ,\n",
       "         2.2466817 ,  2.3826    ,  2.7987773 ,  4.8599267 ,  1.6706427 ,\n",
       "         0.7075795 ,  1.7181294 ,  2.7462351 ,  4.159458  ,  3.2997448 ,\n",
       "         2.9509718 ,  3.4232635 ,  3.3651896 ,  1.1532639 ,  2.4320862 ,\n",
       "         1.1594868 ,  2.1217253 ,  2.5117192 ,  2.4530444 ,  4.682748  ,\n",
       "         5.3292046 ,  3.7332706 ,  3.1719174 ,  3.345618  ,  4.17231   ,\n",
       "         3.36844   ,  2.3347213 ,  1.1872259 ,  1.2397094 ,  3.2813735 ,\n",
       "         4.369139  ,  6.55548   ,  9.173172  , 12.095267  , 15.208398  ,\n",
       "        13.731368  ,  8.168227  ,  4.8395147 ,  1.2846617 ,  2.1129868 ,\n",
       "         1.3554734 ,  3.1794586 ,  3.0637856 ,  3.062828  ,  2.9555473 ,\n",
       "         2.604103  ,  4.4985676 ,  2.263856  ,  1.845124  ,  3.689501  ,\n",
       "         3.8738105 ,  4.2894473 ,  4.3363547 ,  3.6381867 ,  1.5680273 ,\n",
       "         0.9700129 ,  1.9938273 ,  1.7204163 ,  2.655397  ,  3.072659  ,\n",
       "         3.5945964 ,  3.0717795 ,  2.9783578 ,  2.4806619 ,  1.2717434 ,\n",
       "         1.4759603 ,  1.9608626 ,  2.6717045 ,  3.3213048 ,  4.5374627 ,\n",
       "         5.3877497 ,  4.503157  ,  2.8631146 ,  1.7387612 ,  2.299225  ,\n",
       "         3.515182  ,  2.301058  ,  2.7046416 ,  3.7257857 ,  5.595088  ,\n",
       "         7.3218427 ,  8.6290045 ,  7.83084   ,  7.7911816 ,  1.739334  ,\n",
       "         1.6908834 ,  1.6169544 ,  1.3827684 ,  1.1649371 ,  1.4053941 ,\n",
       "         1.6927084 ,  1.0379003 ,  2.4701362 ,  4.0393004 ,  3.700294  ,\n",
       "         4.615717  ,  6.7370653 ,  6.5415463 ,  5.580616  ,  2.2662609 ,\n",
       "         2.7035708 ,  1.848495  ,  1.1145809 ,  2.4276328 ,  4.0017986 ,\n",
       "         4.7467995 ,  4.302593  ,  4.47647   ,  5.573172  ,  8.320726  ,\n",
       "         7.225283  ,  4.45574   ,  2.0420566 ,  2.5751336 ,  4.546713  ,\n",
       "         6.7489758 ,  7.642178  ,  5.5807056 ,  6.127441  ,  6.378484  ,\n",
       "         3.1427402 ,  6.789237  ,  6.692884  ,  5.1211367 ,  2.0719035 ,\n",
       "         3.1125965 ,  3.6877353 ,  5.918945  ,  4.5135584 ,  4.066659  ,\n",
       "         3.4289348 ,  3.9988048 ,  2.571075  ,  3.5749192 ,  7.508588  ,\n",
       "        10.835428  , 11.042136  , 12.295155  , 13.3565645 , 13.858625  ,\n",
       "         8.398849  ,  2.1880536 ,  2.1992552 ,  3.7833405 ,  4.374546  ,\n",
       "         4.6207795 ,  6.2295923 ,  8.81026   , 10.2543545 ,  9.078455  ,\n",
       "         6.1288433 ,  7.0370116 ,  8.044327  ,  9.908351  ,  8.313693  ,\n",
       "         9.886267  , 12.821473  , 11.061154  , 10.457178  , 11.60459   ,\n",
       "         8.63963   ,  7.505173  ,  7.2940836 , 12.033903  , 14.601432  ,\n",
       "        14.017372  ,  4.6686163 ,  2.7756321 ,  3.269884  ,  8.509099  ,\n",
       "         9.532489  ,  9.927421  , 10.26576   , 11.520607  , 13.498725  ,\n",
       "        12.198585  ,  2.6777093 ,  4.7767367 ,  4.797722  ,  3.9264772 ,\n",
       "         5.526776  ,  6.4576387 , 10.192321  ,  7.916578  ,  6.153861  ,\n",
       "         6.520926  ,  7.6470323 ,  9.853825  , 10.834428  , 10.388807  ,\n",
       "        12.283204  , 13.955268  , 12.3375845 , 14.519325  ,  5.3255506 ,\n",
       "         2.5023954 ,  3.1188977 ,  3.121534  ,  3.5350046 ,  4.087587  ,\n",
       "         5.012858  ,  6.706921  ,  6.7234526 ,  5.0021806 ,  7.489962  ,\n",
       "        12.106567  , 15.674348  , 21.15266   , 21.145267  , 10.905494  ,\n",
       "         6.2686086 ,  4.534639  ,  4.0099554 ,  3.9901729 ,  8.267565  ,\n",
       "         4.3142924 ,  5.729257  ,  4.1927347 ,  7.796417  ,  7.9049997 ,\n",
       "         8.954189  , 10.376444  , 11.03192   ,  7.605224  ,  3.683152  ,\n",
       "         2.1349685 ,  2.692329  ,  4.4869804 ,  7.1131    ,  4.6790285 ,\n",
       "         5.046174  ,  7.2545595 , 10.108341  , 10.680496  ,  9.336512  ,\n",
       "         8.427636  ,  4.42391   ,  2.5780401 ,  4.308226  ,  7.9148397 ,\n",
       "         5.1778903 ,  2.8764973 ,  3.9169674 ,  3.238701  ,  0.99275774,\n",
       "         1.8030097 ,  2.5571136 ,  2.3228073 ,  2.1147535 ,  2.4550176 ,\n",
       "         2.3437426 ,  1.5440607 ,  3.9242454 ,  4.0666323 ,  4.518548  ,\n",
       "         3.714654  ,  3.616061  ,  5.49622   ,  8.061481  , 11.076197  ,\n",
       "        15.0455265 , 15.230517  , 15.321915  , 12.452408  ,  9.689565  ,\n",
       "         8.162729  ,  5.776701  ,  2.9696834 ,  5.1669855 ,  7.108568  ,\n",
       "        10.7219515 ,  6.8347735 ,  2.9961026 ,  3.1948485 ,  3.854472  ,\n",
       "         2.5213656 ,  2.7266698 ,  2.186863  ,  2.0734434 ,  4.019032  ,\n",
       "         2.9042993 ,  5.055144  ,  7.4817367 , 12.895992  , 17.148005  ,\n",
       "        20.067446  ], dtype=float32),\n",
       " 'mase': 2.199866}"
      ]
     },
     "execution_count": 129,
     "metadata": {},
     "output_type": "execute_result"
    }
   ],
   "source": [
    "# Evaluate model_3 results (these are going multi-dimensional because we're trying to predict more than one timestep at a time)\n",
    "model_3_results = evaluate_preds(y_true=tf.squeeze(test_labels),\n",
    "                                 y_pred=model_3_preds)\n",
    "model_3_results"
   ]
  },
  {
   "attachments": {},
   "cell_type": "markdown",
   "metadata": {},
   "source": [
    "**NOTE:** The above model_3 prediction will result into many values since we are predicting more than one value i.e. we are predicting values for the next seven timesteps. Thus, we need to adjust our evaluation function to work with larger horizon size."
   ]
  },
  {
   "attachments": {},
   "cell_type": "markdown",
   "metadata": {},
   "source": [
    "## Make our evaluation function work for larger horizons"
   ]
  },
  {
   "cell_type": "code",
   "execution_count": 130,
   "metadata": {},
   "outputs": [
    {
     "data": {
      "text/plain": [
       "0"
      ]
     },
     "execution_count": 130,
     "metadata": {},
     "output_type": "execute_result"
    }
   ],
   "source": [
    "model_2_results[\"mae\"].ndim"
   ]
  },
  {
   "cell_type": "code",
   "execution_count": 131,
   "metadata": {},
   "outputs": [
    {
     "data": {
      "text/plain": [
       "1"
      ]
     },
     "execution_count": 131,
     "metadata": {},
     "output_type": "execute_result"
    }
   ],
   "source": [
    "model_3_results[\"mae\"].ndim"
   ]
  },
  {
   "cell_type": "code",
   "execution_count": 132,
   "metadata": {},
   "outputs": [
    {
     "name": "stdout",
     "output_type": "stream",
     "text": [
      "18/18 [==============================] - 0s 1ms/step - loss: 1236.2660\n"
     ]
    },
    {
     "data": {
      "text/plain": [
       "1236.2659912109375"
      ]
     },
     "execution_count": 132,
     "metadata": {},
     "output_type": "execute_result"
    }
   ],
   "source": [
    "model_3.evaluate(test_windows, test_labels)"
   ]
  },
  {
   "cell_type": "code",
   "execution_count": 133,
   "metadata": {},
   "outputs": [
    {
     "data": {
      "text/plain": [
       "1236.266"
      ]
     },
     "execution_count": 133,
     "metadata": {},
     "output_type": "execute_result"
    }
   ],
   "source": [
    "tf.reduce_mean(model_3_results[\"mae\"]).numpy()"
   ]
  },
  {
   "cell_type": "code",
   "execution_count": 134,
   "metadata": {},
   "outputs": [],
   "source": [
    "# Create a function to take in model predictions and truth values and return evaluation metrics\n",
    "def evaluate_preds(y_true, y_pred):\n",
    "  # Make sure float32 datatype (for metric calculations)\n",
    "  y_true = tf.cast(y_true, dtype=tf.float32)\n",
    "  y_pred = tf.cast(y_pred, dtype=tf.float32)\n",
    "\n",
    "  # Calculate various evaluation metrics \n",
    "  mae = tf.keras.metrics.mean_absolute_error(y_true, y_pred)\n",
    "  mse = tf.keras.metrics.mean_squared_error(y_true, y_pred)\n",
    "  rmse = tf.sqrt(mse)\n",
    "  mape = tf.keras.metrics.mean_absolute_percentage_error(y_true, y_pred)\n",
    "  mase = mean_absolute_scaled_error(y_true, y_pred)\n",
    "\n",
    "  # Account for different sized metrics (for longer horizons, we want to reduce metrics to a single value)\n",
    "  if mae.ndim > 0:\n",
    "    mae = tf.reduce_mean(mae)\n",
    "    mse = tf.reduce_mean(mse)\n",
    "    rmse = tf.reduce_mean(rmse)\n",
    "    mape = tf.reduce_mean(mape)\n",
    "    mase = tf.reduce_mean(mase)\n",
    "\n",
    "  return {\"mae\": mae.numpy(),\n",
    "          \"mse\": mse.numpy(),\n",
    "          \"rmse\": rmse.numpy(),\n",
    "          \"mape\": mape.numpy(),\n",
    "          \"mase\": mase.numpy()}"
   ]
  },
  {
   "cell_type": "code",
   "execution_count": 135,
   "metadata": {},
   "outputs": [
    {
     "data": {
      "text/plain": [
       "{'mae': 1236.266,\n",
       " 'mse': 5461430.5,\n",
       " 'rmse': 1421.4232,\n",
       " 'mape': 5.5718546,\n",
       " 'mase': 2.199866}"
      ]
     },
     "execution_count": 135,
     "metadata": {},
     "output_type": "execute_result"
    }
   ],
   "source": [
    "# Get model_3 results aggregated to single values\n",
    "model_3_results = evaluate_preds(y_true=tf.squeeze(test_labels),\n",
    "                                 y_pred=model_3_preds)\n",
    "model_3_results"
   ]
  },
  {
   "cell_type": "code",
   "execution_count": 136,
   "metadata": {},
   "outputs": [
    {
     "data": {
      "text/plain": [
       "{'mae': 610.02094,\n",
       " 'mse': 1250821.1,\n",
       " 'rmse': 1118.4011,\n",
       " 'mape': 2.76912,\n",
       " 'mase': 1.0663226}"
      ]
     },
     "execution_count": 136,
     "metadata": {},
     "output_type": "execute_result"
    }
   ],
   "source": [
    "model_2_results"
   ]
  },
  {
   "attachments": {},
   "cell_type": "markdown",
   "metadata": {},
   "source": [
    "We've made and evaluated predictions with `model_3`. Now, Visualize Model_3."
   ]
  },
  {
   "cell_type": "code",
   "execution_count": 137,
   "metadata": {},
   "outputs": [
    {
     "data": {
      "text/plain": [
       "<tf.Tensor: shape=(5, 7), dtype=float32, numpy=\n",
       "array([[9165.634 , 9369.2705, 9203.648 , 9510.419 , 9605.509 , 9604.088 ,\n",
       "        9692.749 ],\n",
       "       [8816.037 , 8914.066 , 9161.848 , 9151.326 , 9375.513 , 9381.256 ,\n",
       "        9475.709 ],\n",
       "       [8604.2705, 8793.647 , 9161.581 , 9074.748 , 9099.517 , 9147.328 ,\n",
       "        9232.473 ],\n",
       "       [8835.745 , 9158.584 , 9151.464 , 9300.908 , 9120.606 , 9249.2705,\n",
       "        9230.05  ],\n",
       "       [8847.679 , 9168.027 , 8930.256 , 9123.109 , 9028.177 , 9122.196 ,\n",
       "        9123.838 ]], dtype=float32)>"
      ]
     },
     "execution_count": 137,
     "metadata": {},
     "output_type": "execute_result"
    }
   ],
   "source": [
    "model_3_preds[:5]"
   ]
  },
  {
   "cell_type": "code",
   "execution_count": 138,
   "metadata": {},
   "outputs": [
    {
     "data": {
      "text/plain": [
       "array([[8794.35864452, 8798.04205463, 9081.18687849, 8711.53433917,\n",
       "        8760.89271814, 8749.52059102, 8656.97092235],\n",
       "       [8798.04205463, 9081.18687849, 8711.53433917, 8760.89271814,\n",
       "        8749.52059102, 8656.97092235, 8500.64355816],\n",
       "       [9081.18687849, 8711.53433917, 8760.89271814, 8749.52059102,\n",
       "        8656.97092235, 8500.64355816, 8469.2608989 ],\n",
       "       [8711.53433917, 8760.89271814, 8749.52059102, 8656.97092235,\n",
       "        8500.64355816, 8469.2608989 , 8537.33965197],\n",
       "       [8760.89271814, 8749.52059102, 8656.97092235, 8500.64355816,\n",
       "        8469.2608989 , 8537.33965197, 8205.80636599]])"
      ]
     },
     "execution_count": 138,
     "metadata": {},
     "output_type": "execute_result"
    }
   ],
   "source": [
    "test_labels[:5]"
   ]
  },
  {
   "cell_type": "code",
   "execution_count": 142,
   "metadata": {},
   "outputs": [
    {
     "data": {
      "image/png": "[encoded data removed]",
      "text/plain": [
       "<Figure size 800x600 with 1 Axes>"
      ]
     },
     "metadata": {},
     "output_type": "display_data"
    }
   ],
   "source": [
    "offset = 300\n",
    "plt.figure(figsize=(8, 6))\n",
    "plot_time_series(timesteps=X_test[-len(test_windows):], values=test_labels[:, 0], start=offset, format=\"-\", label=\"Test data\")\n",
    "plot_time_series(timesteps=X_test[-len(test_windows):], values=model_3_preds, start=offset, label=\"model_3_preds\")"
   ]
  },
  {
   "cell_type": "code",
   "execution_count": 143,
   "metadata": {},
   "outputs": [
    {
     "data": {
      "text/plain": [
       "<tf.Tensor: shape=(7,), dtype=float32, numpy=\n",
       "array([9165.634 , 9369.2705, 9203.648 , 9510.419 , 9605.509 , 9604.088 ,\n",
       "       9692.749 ], dtype=float32)>"
      ]
     },
     "execution_count": 143,
     "metadata": {},
     "output_type": "execute_result"
    }
   ],
   "source": [
    "model_3_preds[0]"
   ]
  },
  {
   "cell_type": "code",
   "execution_count": 144,
   "metadata": {},
   "outputs": [
    {
     "data": {
      "text/plain": [
       "<tf.Tensor: shape=(), dtype=float32, numpy=9450.1875>"
      ]
     },
     "execution_count": 144,
     "metadata": {},
     "output_type": "execute_result"
    }
   ],
   "source": [
    "tf.reduce_mean(model_3_preds[0])"
   ]
  },
  {
   "cell_type": "code",
   "execution_count": 145,
   "metadata": {},
   "outputs": [
    {
     "data": {
      "image/png": "[encoded data removed]",
      "text/plain": [
       "<Figure size 1000x700 with 1 Axes>"
      ]
     },
     "metadata": {},
     "output_type": "display_data"
    }
   ],
   "source": [
    "offset = 300\n",
    "plt.figure(figsize=(10, 7))\n",
    "plot_time_series(timesteps=X_test[-len(test_windows):], \n",
    "                 values=test_labels[:, 0], \n",
    "                 start=offset, \n",
    "                 format=\"-\",\n",
    "                 label=\"Test data\")\n",
    "plot_time_series(timesteps=X_test[-len(test_windows):], \n",
    "                 values=tf.reduce_mean(model_3_preds, axis=1), \n",
    "                 start=offset,\n",
    "                 format=\"-\", \n",
    "                 label=\"model_3_preds\")"
   ]
  },
  {
   "attachments": {},
   "cell_type": "markdown",
   "metadata": {},
   "source": [
    "## Which of our models trained so far is performing the best? \n",
    "\n",
    "Since, We have trained a few models, now we will compare them. "
   ]
  },
  {
   "cell_type": "code",
   "execution_count": 146,
   "metadata": {},
   "outputs": [
    {
     "data": {
      "image/png": "[encoded data removed]",
      "text/plain": [
       "<Figure size 800x600 with 1 Axes>"
      ]
     },
     "metadata": {},
     "output_type": "display_data"
    }
   ],
   "source": [
    "pd.DataFrame({\"naive\": naive_results[\"mae\"],\n",
    "              \"horizon_1_window_7\": model_1_results[\"mae\"],\n",
    "              \"horizon_1_window_30\": model_2_results[\"mae\"],\n",
    "              \"horizon_7_window_30\": model_3_results[\"mae\"]}, index=[\"mae\"]).plot(figsize=(8, 6), kind=\"bar\");"
   ]
  },
  {
   "attachments": {},
   "cell_type": "markdown",
   "metadata": {},
   "source": [
    "> **NOTE:** You might be wondering, why are the naive results so good? One of the reasons could be due the presence of autocorrelation in the data. If a time series has autocorrelation it means the value at `t+1` (the next timestep) is typically close to the value at `t` (the current timestep). In other words, today's value is probably pretty close to yesterday's value. Of course, this isn't always the case but when it is (stock market prices often seem autocorrelated but often fluctuate randomly), a naive model will often get fairly good results.\n",
    "\n",
    "> **RESOURCE:** For more on how autocorrelation influences a model's predictions, see the article [How (not) to use Machine Learning for time series forecasting: Avoiding the pitfalls by Vegard Flovik](https://towardsdatascience.com/how-not-to-use-machine-learning-for-time-series-forecasting-avoiding-the-pitfalls-19f9d7adf424)."
   ]
  }
 ],
 "metadata": {
  "kernelspec": {
   "display_name": "Python 3",
   "language": "python",
   "name": "python3"
  },
  "language_info": {
   "codemirror_mode": {
    "name": "ipython",
    "version": 3
   },
   "file_extension": ".py",
   "mimetype": "text/x-python",
   "name": "python",
   "nbconvert_exporter": "python",
   "pygments_lexer": "ipython3",
   "version": "3.8.10"
  },
  "orig_nbformat": 4
 },
 "nbformat": 4,
 "nbformat_minor": 2
}
